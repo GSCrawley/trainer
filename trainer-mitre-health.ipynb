{
 "cells": [
  {
   "cell_type": "markdown",
   "id": "18135fc4",
   "metadata": {},
   "source": [
    "# Gretel Trainer\n",
    "\n",
    "This notebook is designed to help users successfully train synthetic models on complex datasets with high row and column counts. The code works by intelligently dividing a dataset into a set of smaller datasets of correlated columns that can be parallelized and then joined together. "
   ]
  },
  {
   "cell_type": "code",
   "execution_count": 1,
   "id": "68871bd5",
   "metadata": {},
   "outputs": [],
   "source": [
    "import strategy\n",
    "import runner\n",
    "\n",
    "from gretel_client.projects import create_or_get_unique_project\n",
    "from gretel_client.projects.models import read_model_config\n",
    "from gretel_client.projects.jobs import Status\n",
    "from gretel_synthetics.utils.header_clusters import cluster\n",
    "\n",
    "import pandas as pd"
   ]
  },
  {
   "cell_type": "code",
   "execution_count": 2,
   "id": "1e3b0120",
   "metadata": {},
   "outputs": [
    {
     "name": "stdout",
     "output_type": "stream",
     "text": [
      "Follow model training at: https://console.gretel.cloud/mitre-health-ff62139634\n"
     ]
    }
   ],
   "source": [
    "# Parallelization parameters and options\n",
    "\n",
    "MAX_ROWS = 20000 # Maximum row count per model\n",
    "MAX_HEADER_CLUSTERS = 10 # Max columns per cluster\n",
    "CACHE_FILE = \"runner.json\"\n",
    "PROJECT = create_or_get_unique_project(name=\"mitre-health\")\n",
    "\n",
    "print(f\"Follow model training at: {PROJECT.get_console_url()}\")"
   ]
  },
  {
   "cell_type": "code",
   "execution_count": 3,
   "id": "8bc77f34",
   "metadata": {},
   "outputs": [
    {
     "data": {
      "text/html": [
       "<div>\n",
       "<style scoped>\n",
       "    .dataframe tbody tr th:only-of-type {\n",
       "        vertical-align: middle;\n",
       "    }\n",
       "\n",
       "    .dataframe tbody tr th {\n",
       "        vertical-align: top;\n",
       "    }\n",
       "\n",
       "    .dataframe thead th {\n",
       "        text-align: right;\n",
       "    }\n",
       "</style>\n",
       "<table border=\"1\" class=\"dataframe\">\n",
       "  <thead>\n",
       "    <tr style=\"text-align: right;\">\n",
       "      <th></th>\n",
       "      <th>EventDate</th>\n",
       "      <th>DATE</th>\n",
       "      <th>PatientID</th>\n",
       "      <th>BirthDate</th>\n",
       "      <th>DeathDate</th>\n",
       "      <th>RACE</th>\n",
       "      <th>ETHNICITY</th>\n",
       "      <th>GENDER</th>\n",
       "      <th>BIRTHPLACE</th>\n",
       "      <th>ADDRESS</th>\n",
       "      <th>...</th>\n",
       "      <th>EncounterReason</th>\n",
       "      <th>EncounterReasonDesc</th>\n",
       "      <th>ObsCode</th>\n",
       "      <th>ObsDesc</th>\n",
       "      <th>ObsValue</th>\n",
       "      <th>ObsValueFloat</th>\n",
       "      <th>UNITS</th>\n",
       "      <th>ProcedureDate</th>\n",
       "      <th>ProcedureDesc</th>\n",
       "      <th>ProcedureReason</th>\n",
       "    </tr>\n",
       "  </thead>\n",
       "  <tbody>\n",
       "    <tr>\n",
       "      <th>0</th>\n",
       "      <td>2013-06-07</td>\n",
       "      <td>2013-07-01</td>\n",
       "      <td>d091c3eb</td>\n",
       "      <td>1937-03-02</td>\n",
       "      <td>1900-01-01</td>\n",
       "      <td>white</td>\n",
       "      <td>french</td>\n",
       "      <td>M</td>\n",
       "      <td>MA US</td>\n",
       "      <td>01202 US</td>\n",
       "      <td>...</td>\n",
       "      <td>NaN</td>\n",
       "      <td>NaN</td>\n",
       "      <td>6298-4</td>\n",
       "      <td>Potassium</td>\n",
       "      <td>6.5074</td>\n",
       "      <td>6.5074</td>\n",
       "      <td>mmol/L</td>\n",
       "      <td>2016-03-03</td>\n",
       "      <td>Documentation of current medications</td>\n",
       "      <td>NaN</td>\n",
       "    </tr>\n",
       "    <tr>\n",
       "      <th>1</th>\n",
       "      <td>2011-01-28</td>\n",
       "      <td>2010-12-16</td>\n",
       "      <td>0bdda8d2</td>\n",
       "      <td>1984-06-11</td>\n",
       "      <td>1900-01-01</td>\n",
       "      <td>black</td>\n",
       "      <td>african</td>\n",
       "      <td>F</td>\n",
       "      <td>MA US</td>\n",
       "      <td>01910 US</td>\n",
       "      <td>...</td>\n",
       "      <td>NaN</td>\n",
       "      <td>NaN</td>\n",
       "      <td>6298-4</td>\n",
       "      <td>Potassium</td>\n",
       "      <td>6.5325</td>\n",
       "      <td>6.5325</td>\n",
       "      <td>mmol/L</td>\n",
       "      <td>2014-03-02</td>\n",
       "      <td>Intramuscular injection</td>\n",
       "      <td>NaN</td>\n",
       "    </tr>\n",
       "    <tr>\n",
       "      <th>2</th>\n",
       "      <td>2016-09-06</td>\n",
       "      <td>2016-10-03</td>\n",
       "      <td>f0577b5f</td>\n",
       "      <td>1977-08-24</td>\n",
       "      <td>1900-01-01</td>\n",
       "      <td>white</td>\n",
       "      <td>english</td>\n",
       "      <td>M</td>\n",
       "      <td>MA US</td>\n",
       "      <td>02140 US</td>\n",
       "      <td>...</td>\n",
       "      <td>NaN</td>\n",
       "      <td>NaN</td>\n",
       "      <td>6298-4</td>\n",
       "      <td>Potassium</td>\n",
       "      <td>6.5200</td>\n",
       "      <td>6.5200</td>\n",
       "      <td>mmol/L</td>\n",
       "      <td>2012-08-31</td>\n",
       "      <td>Biopsy of colon</td>\n",
       "      <td>68496003.0</td>\n",
       "    </tr>\n",
       "    <tr>\n",
       "      <th>3</th>\n",
       "      <td>2012-05-05</td>\n",
       "      <td>2012-04-26</td>\n",
       "      <td>a9fb85a6</td>\n",
       "      <td>1954-03-14</td>\n",
       "      <td>1900-01-01</td>\n",
       "      <td>white</td>\n",
       "      <td>french</td>\n",
       "      <td>M</td>\n",
       "      <td>MA US</td>\n",
       "      <td>01202 US</td>\n",
       "      <td>...</td>\n",
       "      <td>NaN</td>\n",
       "      <td>NaN</td>\n",
       "      <td>6298-4</td>\n",
       "      <td>Potassium</td>\n",
       "      <td>6.5074</td>\n",
       "      <td>6.5074</td>\n",
       "      <td>mmol/L</td>\n",
       "      <td>2012-04-28</td>\n",
       "      <td>Documentation of current medications</td>\n",
       "      <td>NaN</td>\n",
       "    </tr>\n",
       "    <tr>\n",
       "      <th>4</th>\n",
       "      <td>2011-01-28</td>\n",
       "      <td>2010-12-16</td>\n",
       "      <td>0bdda8d2</td>\n",
       "      <td>1984-06-11</td>\n",
       "      <td>1900-01-01</td>\n",
       "      <td>white</td>\n",
       "      <td>german</td>\n",
       "      <td>M</td>\n",
       "      <td>MA US</td>\n",
       "      <td>01853 US</td>\n",
       "      <td>...</td>\n",
       "      <td>10509002.0</td>\n",
       "      <td>Acute bronchitis (disorder)</td>\n",
       "      <td>6298-4</td>\n",
       "      <td>Potassium</td>\n",
       "      <td>6.5200</td>\n",
       "      <td>6.5200</td>\n",
       "      <td>mmol/L</td>\n",
       "      <td>2011-02-04</td>\n",
       "      <td>Documentation of current medications</td>\n",
       "      <td>NaN</td>\n",
       "    </tr>\n",
       "    <tr>\n",
       "      <th>...</th>\n",
       "      <td>...</td>\n",
       "      <td>...</td>\n",
       "      <td>...</td>\n",
       "      <td>...</td>\n",
       "      <td>...</td>\n",
       "      <td>...</td>\n",
       "      <td>...</td>\n",
       "      <td>...</td>\n",
       "      <td>...</td>\n",
       "      <td>...</td>\n",
       "      <td>...</td>\n",
       "      <td>...</td>\n",
       "      <td>...</td>\n",
       "      <td>...</td>\n",
       "      <td>...</td>\n",
       "      <td>...</td>\n",
       "      <td>...</td>\n",
       "      <td>...</td>\n",
       "      <td>...</td>\n",
       "      <td>...</td>\n",
       "      <td>...</td>\n",
       "    </tr>\n",
       "    <tr>\n",
       "      <th>2280</th>\n",
       "      <td>2013-06-20</td>\n",
       "      <td>2013-07-16</td>\n",
       "      <td>a4a433e9</td>\n",
       "      <td>1941-11-06</td>\n",
       "      <td>1900-01-01</td>\n",
       "      <td>hispanic</td>\n",
       "      <td>mexican</td>\n",
       "      <td>M</td>\n",
       "      <td>MA US</td>\n",
       "      <td>01813 US</td>\n",
       "      <td>...</td>\n",
       "      <td>NaN</td>\n",
       "      <td>NaN</td>\n",
       "      <td>6298-4</td>\n",
       "      <td>Potassium</td>\n",
       "      <td>6.5074</td>\n",
       "      <td>6.5074</td>\n",
       "      <td>mmol/L</td>\n",
       "      <td>2014-06-04</td>\n",
       "      <td>Colonoscopy</td>\n",
       "      <td>NaN</td>\n",
       "    </tr>\n",
       "    <tr>\n",
       "      <th>2281</th>\n",
       "      <td>2013-07-09</td>\n",
       "      <td>2013-06-03</td>\n",
       "      <td>17f227c5</td>\n",
       "      <td>1940-07-04</td>\n",
       "      <td>1900-01-01</td>\n",
       "      <td>hispanic</td>\n",
       "      <td>mexican</td>\n",
       "      <td>F</td>\n",
       "      <td>MA US</td>\n",
       "      <td>02211 US</td>\n",
       "      <td>...</td>\n",
       "      <td>444814009.0</td>\n",
       "      <td>Viral sinusitis (disorder)</td>\n",
       "      <td>6298-4</td>\n",
       "      <td>Potassium</td>\n",
       "      <td>6.5074</td>\n",
       "      <td>6.5074</td>\n",
       "      <td>mmol/L</td>\n",
       "      <td>2013-02-13</td>\n",
       "      <td>Documentation of current medications</td>\n",
       "      <td>NaN</td>\n",
       "    </tr>\n",
       "    <tr>\n",
       "      <th>2282</th>\n",
       "      <td>2017-08-12</td>\n",
       "      <td>2017-05-19</td>\n",
       "      <td>7ce419ba</td>\n",
       "      <td>1944-08-07</td>\n",
       "      <td>1900-01-01</td>\n",
       "      <td>white</td>\n",
       "      <td>french</td>\n",
       "      <td>M</td>\n",
       "      <td>MA US</td>\n",
       "      <td>01202 US</td>\n",
       "      <td>...</td>\n",
       "      <td>NaN</td>\n",
       "      <td>NaN</td>\n",
       "      <td>6298-4</td>\n",
       "      <td>Potassium</td>\n",
       "      <td>6.5074</td>\n",
       "      <td>6.5074</td>\n",
       "      <td>mmol/L</td>\n",
       "      <td>2013-05-02</td>\n",
       "      <td>Documentation of current medications</td>\n",
       "      <td>NaN</td>\n",
       "    </tr>\n",
       "    <tr>\n",
       "      <th>2283</th>\n",
       "      <td>2016-12-03</td>\n",
       "      <td>2016-12-07</td>\n",
       "      <td>a9c0db54</td>\n",
       "      <td>1974-12-09</td>\n",
       "      <td>1900-01-01</td>\n",
       "      <td>white</td>\n",
       "      <td>swedish</td>\n",
       "      <td>F</td>\n",
       "      <td>MA US</td>\n",
       "      <td>01844 US</td>\n",
       "      <td>...</td>\n",
       "      <td>NaN</td>\n",
       "      <td>NaN</td>\n",
       "      <td>6298-4</td>\n",
       "      <td>Potassium</td>\n",
       "      <td>6.5325</td>\n",
       "      <td>6.5325</td>\n",
       "      <td>mmol/L</td>\n",
       "      <td>2015-05-23</td>\n",
       "      <td>Documentation of current medications</td>\n",
       "      <td>NaN</td>\n",
       "    </tr>\n",
       "    <tr>\n",
       "      <th>2284</th>\n",
       "      <td>2016-11-24</td>\n",
       "      <td>2016-10-05</td>\n",
       "      <td>87689018</td>\n",
       "      <td>1961-03-23</td>\n",
       "      <td>1900-01-01</td>\n",
       "      <td>white</td>\n",
       "      <td>english</td>\n",
       "      <td>M</td>\n",
       "      <td>MA US</td>\n",
       "      <td>02140 US</td>\n",
       "      <td>...</td>\n",
       "      <td>363406005.0</td>\n",
       "      <td>Malignant tumor of colon</td>\n",
       "      <td>6298-4</td>\n",
       "      <td>Potassium</td>\n",
       "      <td>6.5200</td>\n",
       "      <td>6.5200</td>\n",
       "      <td>mmol/L</td>\n",
       "      <td>2012-08-21</td>\n",
       "      <td>Colonoscopy</td>\n",
       "      <td>NaN</td>\n",
       "    </tr>\n",
       "  </tbody>\n",
       "</table>\n",
       "<p>2285 rows × 26 columns</p>\n",
       "</div>"
      ],
      "text/plain": [
       "       EventDate        DATE PatientID   BirthDate   DeathDate      RACE  \\\n",
       "0     2013-06-07  2013-07-01  d091c3eb  1937-03-02  1900-01-01     white   \n",
       "1     2011-01-28  2010-12-16  0bdda8d2  1984-06-11  1900-01-01     black   \n",
       "2     2016-09-06  2016-10-03  f0577b5f  1977-08-24  1900-01-01     white   \n",
       "3     2012-05-05  2012-04-26  a9fb85a6  1954-03-14  1900-01-01     white   \n",
       "4     2011-01-28  2010-12-16  0bdda8d2  1984-06-11  1900-01-01     white   \n",
       "...          ...         ...       ...         ...         ...       ...   \n",
       "2280  2013-06-20  2013-07-16  a4a433e9  1941-11-06  1900-01-01  hispanic   \n",
       "2281  2013-07-09  2013-06-03  17f227c5  1940-07-04  1900-01-01  hispanic   \n",
       "2282  2017-08-12  2017-05-19  7ce419ba  1944-08-07  1900-01-01     white   \n",
       "2283  2016-12-03  2016-12-07  a9c0db54  1974-12-09  1900-01-01     white   \n",
       "2284  2016-11-24  2016-10-05  87689018  1961-03-23  1900-01-01     white   \n",
       "\n",
       "     ETHNICITY GENDER BIRTHPLACE    ADDRESS  ... EncounterReason  \\\n",
       "0       french      M      MA US   01202 US  ...             NaN   \n",
       "1      african      F      MA US   01910 US  ...             NaN   \n",
       "2      english      M      MA US   02140 US  ...             NaN   \n",
       "3       french      M      MA US   01202 US  ...             NaN   \n",
       "4       german      M      MA US   01853 US  ...      10509002.0   \n",
       "...        ...    ...        ...        ...  ...             ...   \n",
       "2280   mexican      M      MA US   01813 US  ...             NaN   \n",
       "2281   mexican      F      MA US   02211 US  ...     444814009.0   \n",
       "2282    french      M      MA US   01202 US  ...             NaN   \n",
       "2283   swedish      F      MA US   01844 US  ...             NaN   \n",
       "2284   english      M      MA US   02140 US  ...     363406005.0   \n",
       "\n",
       "              EncounterReasonDesc ObsCode    ObsDesc  ObsValue ObsValueFloat  \\\n",
       "0                             NaN  6298-4  Potassium    6.5074        6.5074   \n",
       "1                             NaN  6298-4  Potassium    6.5325        6.5325   \n",
       "2                             NaN  6298-4  Potassium    6.5200        6.5200   \n",
       "3                             NaN  6298-4  Potassium    6.5074        6.5074   \n",
       "4     Acute bronchitis (disorder)  6298-4  Potassium    6.5200        6.5200   \n",
       "...                           ...     ...        ...       ...           ...   \n",
       "2280                          NaN  6298-4  Potassium    6.5074        6.5074   \n",
       "2281   Viral sinusitis (disorder)  6298-4  Potassium    6.5074        6.5074   \n",
       "2282                          NaN  6298-4  Potassium    6.5074        6.5074   \n",
       "2283                          NaN  6298-4  Potassium    6.5325        6.5325   \n",
       "2284     Malignant tumor of colon  6298-4  Potassium    6.5200        6.5200   \n",
       "\n",
       "       UNITS ProcedureDate                         ProcedureDesc  \\\n",
       "0     mmol/L    2016-03-03  Documentation of current medications   \n",
       "1     mmol/L    2014-03-02               Intramuscular injection   \n",
       "2     mmol/L    2012-08-31                       Biopsy of colon   \n",
       "3     mmol/L    2012-04-28  Documentation of current medications   \n",
       "4     mmol/L    2011-02-04  Documentation of current medications   \n",
       "...      ...           ...                                   ...   \n",
       "2280  mmol/L    2014-06-04                           Colonoscopy   \n",
       "2281  mmol/L    2013-02-13  Documentation of current medications   \n",
       "2282  mmol/L    2013-05-02  Documentation of current medications   \n",
       "2283  mmol/L    2015-05-23  Documentation of current medications   \n",
       "2284  mmol/L    2012-08-21                           Colonoscopy   \n",
       "\n",
       "     ProcedureReason  \n",
       "0                NaN  \n",
       "1                NaN  \n",
       "2         68496003.0  \n",
       "3                NaN  \n",
       "4                NaN  \n",
       "...              ...  \n",
       "2280             NaN  \n",
       "2281             NaN  \n",
       "2282             NaN  \n",
       "2283             NaN  \n",
       "2284             NaN  \n",
       "\n",
       "[2285 rows x 26 columns]"
      ]
     },
     "execution_count": 3,
     "metadata": {},
     "output_type": "execute_result"
    }
   ],
   "source": [
    "# Load the dataset to synthesize\n",
    "\n",
    "DATASET_PATH = 'mitre-synthea-health.csv'\n",
    "ROUND_DECIMALS = 4\n",
    "\n",
    "\n",
    "def preprocess_data(dataset_path: str) -> pd.DataFrame:\n",
    "    tmp = pd.read_csv(dataset_path, low_memory=False, nrows=100000)\n",
    "    tmp = tmp.round(ROUND_DECIMALS)\n",
    "    return tmp\n",
    "    \n",
    "DF = preprocess_data(DATASET_PATH)\n",
    "DF"
   ]
  },
  {
   "cell_type": "code",
   "execution_count": 4,
   "id": "18926173",
   "metadata": {},
   "outputs": [],
   "source": [
    "# Load a default configuration from GitHub\n",
    "\n",
    "CONFIG = read_model_config(\"synthetics/default\")\n",
    "CONFIG[\"models\"][0][\"synthetics\"][\"params\"][\"vocab_size\"] = 0\n",
    "CONFIG[\"models\"][0][\"synthetics\"][\"params\"][\"learning_rate\"] = 0.001\n",
    "CONFIG[\"models\"][0][\"synthetics\"][\"privacy_filters\"] = {}\n",
    "CONFIG[\"models\"][0][\"synthetics\"][\"privacy_filters\"][\"outliers\"] = None\n",
    "CONFIG[\"models\"][0][\"synthetics\"][\"privacy_filters\"][\"similarity\"] = None"
   ]
  },
  {
   "cell_type": "code",
   "execution_count": 5,
   "id": "645d2859",
   "metadata": {},
   "outputs": [
    {
     "data": {
      "image/png": "[encoded data removed]",
      "text/plain": [
       "<Figure size 1800x576 with 1 Axes>"
      ]
     },
     "metadata": {
      "needs_background": "light"
     },
     "output_type": "display_data"
    }
   ],
   "source": [
    "# Initialize the parallelization strategy\n",
    "\n",
    "def initialize_run() -> runner.StrategyRunner:\n",
    "    \n",
    "    # Create clusters of correlated columns (might take a few minutes)\n",
    "    header_clusters = cluster(DF, maxsize=MAX_HEADER_CLUSTERS, plot=True) \n",
    "\n",
    "    constraints = strategy.PartitionConstraints(\n",
    "        header_clusters=header_clusters, \n",
    "        max_row_count=MAX_ROWS\n",
    "    )\n",
    "    \n",
    "    run = runner.StrategyRunner(\n",
    "        strategy_id=\"foo\",\n",
    "        df=DF,\n",
    "        cache_file=CACHE_FILE,\n",
    "        cache_overwrite=True,  # False means we'll try and load an existing cache and start back up, otherwise start fresh\n",
    "        model_config=CONFIG,\n",
    "        partition_constraints=constraints,\n",
    "        project=PROJECT\n",
    "    )    \n",
    "    return run\n",
    "\n",
    "run = initialize_run()"
   ]
  },
  {
   "cell_type": "code",
   "execution_count": 6,
   "id": "e17f0099",
   "metadata": {},
   "outputs": [
    {
     "name": "stderr",
     "output_type": "stream",
     "text": [
      "INFO:runner:Processing 4 partitions\n",
      "INFO:runner:Partition 0 is new, starting model creation\n",
      "INFO:runner:Started model: dazzling-unkempt-bear source: ['gretel_71d05cfcabe04695aa1aaffb933732cb_foo-0.csv']\n",
      "INFO:runner:Partition 1 is new, starting model creation\n",
      "INFO:runner:Started model: jazzy-goofy-ferret source: ['gretel_1241af3dfb914f0491606bc56d115118_foo-1.csv']\n",
      "INFO:runner:Partition 0 status change from created to pending\n",
      "INFO:runner:Partition 1 status change from created to pending\n",
      "INFO:runner:Partition 2 is new, starting model creation\n",
      "INFO:runner:Started model: nimble-excited-peacock source: ['gretel_eb96ce37d0a64267925be97606903929_foo-2.csv']\n",
      "INFO:runner:Partition 3 is new, starting model creation\n",
      "INFO:runner:Started model: puzzled-brave-raccoon source: ['gretel_d7b921a6fa764d13b998bf504ea0d0b1_foo-3.csv']\n",
      "INFO:runner:Partition 2 status change from created to pending\n",
      "INFO:runner:Partition 3 status change from created to pending\n",
      "INFO:runner:Partition 1 status change from pending to active\n",
      "INFO:runner:Partition 2 status change from pending to active\n",
      "INFO:runner:Partition 0 status change from pending to lost\n",
      "INFO:runner:Partition 3 status change from pending to lost\n",
      "INFO:runner:Partition 0 status: lost, re-attempting job\n",
      "INFO:runner:Started model: handsome-zany-seal source: ['gretel_04abedbfee6b4648a617e180e5dc9d7e_foo-0.csv']\n",
      "INFO:runner:Partition 3 status: lost, re-attempting job\n",
      "INFO:runner:Started model: sassy-chivalrous-ferret source: ['gretel_78121b6a4b094f03bff0df47098d266c_foo-3.csv']\n",
      "INFO:runner:Partition 0 status change from created to pending\n",
      "INFO:runner:Partition 3 status change from created to pending\n",
      "INFO:runner:Partition 1 status change from active to completed\n",
      "INFO:runner:Partition 1 completes with SQS: Excellent (100)\n",
      "INFO:runner:Partition 2 status change from active to completed\n",
      "INFO:runner:Partition 2 completes with SQS: Excellent (89)\n",
      "INFO:runner:Partition 0 status change from pending to lost\n",
      "INFO:runner:Partition 3 status change from pending to lost\n",
      "INFO:runner:Partition 0 status: lost, re-attempting job\n",
      "INFO:runner:Started model: fabulous-puzzled-dinasaur source: ['gretel_219d4c9d69274b9d8a2da4b32715551b_foo-0.csv']\n",
      "INFO:runner:Partition 0 status change from created to pending\n",
      "INFO:runner:Partition 3 status: lost, re-attempting job\n",
      "INFO:runner:Started model: amusing-fuzzy-flamingo source: ['gretel_dd3f87b7ef594f1083893ae38b90e71e_foo-3.csv']\n",
      "INFO:runner:Partition 3 status change from created to pending\n",
      "INFO:runner:Partition 0 status change from pending to active\n",
      "INFO:runner:Partition 3 status change from pending to active\n",
      "INFO:runner:Partition 3 status change from active to completed\n",
      "INFO:runner:Partition 3 completes with SQS: Good (79)\n",
      "INFO:runner:Partition 0 status change from active to completed\n",
      "INFO:runner:Partition 0 completes with SQS: Excellent (86)\n",
      "INFO:runner:{<Status.COMPLETED: 'completed'>: 4}\n"
     ]
    }
   ],
   "source": [
    "run.train_all_partitions()"
   ]
  },
  {
   "cell_type": "code",
   "execution_count": 7,
   "id": "1e67bc9b",
   "metadata": {},
   "outputs": [
    {
     "data": {
      "text/html": [
       "<div>\n",
       "<style scoped>\n",
       "    .dataframe tbody tr th:only-of-type {\n",
       "        vertical-align: middle;\n",
       "    }\n",
       "\n",
       "    .dataframe tbody tr th {\n",
       "        vertical-align: top;\n",
       "    }\n",
       "\n",
       "    .dataframe thead th {\n",
       "        text-align: right;\n",
       "    }\n",
       "</style>\n",
       "<table border=\"1\" class=\"dataframe\">\n",
       "  <thead>\n",
       "    <tr style=\"text-align: right;\">\n",
       "      <th></th>\n",
       "      <th>ProcedureDate</th>\n",
       "      <th>StartDate</th>\n",
       "      <th>EndDate</th>\n",
       "      <th>EventDate</th>\n",
       "      <th>DATE</th>\n",
       "      <th>BirthDate</th>\n",
       "      <th>PatientID</th>\n",
       "      <th>UNITS</th>\n",
       "      <th>BIRTHPLACE</th>\n",
       "      <th>ObsCode</th>\n",
       "      <th>...</th>\n",
       "      <th>RACE</th>\n",
       "      <th>ETHNICITY</th>\n",
       "      <th>ADDRESS</th>\n",
       "      <th>EncounterID</th>\n",
       "      <th>ProcedureReason</th>\n",
       "      <th>EncounterReason</th>\n",
       "      <th>EncounterDesc</th>\n",
       "      <th>EncounterReasonDesc</th>\n",
       "      <th>ConditionDesc</th>\n",
       "      <th>EncounterCode</th>\n",
       "    </tr>\n",
       "  </thead>\n",
       "  <tbody>\n",
       "    <tr>\n",
       "      <th>0</th>\n",
       "      <td>2014-01-03</td>\n",
       "      <td>2017-02-12</td>\n",
       "      <td>2017-03-05</td>\n",
       "      <td>2015-12-25</td>\n",
       "      <td>2016-02-10</td>\n",
       "      <td>1945-08-07</td>\n",
       "      <td>2e1cb472</td>\n",
       "      <td>mmol/L</td>\n",
       "      <td>MA US</td>\n",
       "      <td>6298-4</td>\n",
       "      <td>...</td>\n",
       "      <td>white</td>\n",
       "      <td>french</td>\n",
       "      <td>02481 US</td>\n",
       "      <td>20450b8b</td>\n",
       "      <td>NaN</td>\n",
       "      <td>NaN</td>\n",
       "      <td>Outpatient Encounter</td>\n",
       "      <td>NaN</td>\n",
       "      <td>Asthma</td>\n",
       "      <td>185349003</td>\n",
       "    </tr>\n",
       "    <tr>\n",
       "      <th>1</th>\n",
       "      <td>2011-01-08</td>\n",
       "      <td>2011-02-03</td>\n",
       "      <td>2010-12-25</td>\n",
       "      <td>2011-01-28</td>\n",
       "      <td>2010-12-16</td>\n",
       "      <td>1984-06-11</td>\n",
       "      <td>0bdda8d2</td>\n",
       "      <td>mmol/L</td>\n",
       "      <td>MA US</td>\n",
       "      <td>6298-4</td>\n",
       "      <td>...</td>\n",
       "      <td>white</td>\n",
       "      <td>italian</td>\n",
       "      <td>02478 US</td>\n",
       "      <td>ef43988c</td>\n",
       "      <td>NaN</td>\n",
       "      <td>NaN</td>\n",
       "      <td>Hutpatient Encounter</td>\n",
       "      <td>NaN</td>\n",
       "      <td>Asthma</td>\n",
       "      <td>185349003</td>\n",
       "    </tr>\n",
       "    <tr>\n",
       "      <th>2</th>\n",
       "      <td>2016-05-24</td>\n",
       "      <td>2017-04-08</td>\n",
       "      <td>2017-05-11</td>\n",
       "      <td>2015-12-17</td>\n",
       "      <td>2016-01-28</td>\n",
       "      <td>1956-04-20</td>\n",
       "      <td>0f2c2995</td>\n",
       "      <td>mmol/L</td>\n",
       "      <td>MA US</td>\n",
       "      <td>6298-4</td>\n",
       "      <td>...</td>\n",
       "      <td>black</td>\n",
       "      <td>african</td>\n",
       "      <td>02124 US</td>\n",
       "      <td>9f3fc317</td>\n",
       "      <td>NaN</td>\n",
       "      <td>NaN</td>\n",
       "      <td>Outpatient Encounter</td>\n",
       "      <td>NaN</td>\n",
       "      <td>Diabetes</td>\n",
       "      <td>185349003</td>\n",
       "    </tr>\n",
       "    <tr>\n",
       "      <th>3</th>\n",
       "      <td>2013-07-28</td>\n",
       "      <td>2013-08-08</td>\n",
       "      <td>2013-10-19</td>\n",
       "      <td>2014-01-15</td>\n",
       "      <td>2014-01-03</td>\n",
       "      <td>1937-08-18</td>\n",
       "      <td>7589c26f</td>\n",
       "      <td>mmol/L</td>\n",
       "      <td>MA US</td>\n",
       "      <td>6298-4</td>\n",
       "      <td>...</td>\n",
       "      <td>white</td>\n",
       "      <td>irish</td>\n",
       "      <td>02124 US</td>\n",
       "      <td>0b487aea</td>\n",
       "      <td>NaN</td>\n",
       "      <td>NaN</td>\n",
       "      <td>Encounter for 'check-up'</td>\n",
       "      <td>NaN</td>\n",
       "      <td>Stroke</td>\n",
       "      <td>185349003</td>\n",
       "    </tr>\n",
       "    <tr>\n",
       "      <th>4</th>\n",
       "      <td>2016-06-06</td>\n",
       "      <td>2014-12-14</td>\n",
       "      <td>2014-12-28</td>\n",
       "      <td>2013-07-09</td>\n",
       "      <td>2013-06-03</td>\n",
       "      <td>1940-07-04</td>\n",
       "      <td>17f227c5</td>\n",
       "      <td>mmol/L</td>\n",
       "      <td>MA US</td>\n",
       "      <td>6298-4</td>\n",
       "      <td>...</td>\n",
       "      <td>white</td>\n",
       "      <td>italian</td>\n",
       "      <td>01910 US</td>\n",
       "      <td>603cb149</td>\n",
       "      <td>NaN</td>\n",
       "      <td>NaN</td>\n",
       "      <td>Outpatient Encounter</td>\n",
       "      <td>NaN</td>\n",
       "      <td>Prediabetes</td>\n",
       "      <td>185349003</td>\n",
       "    </tr>\n",
       "    <tr>\n",
       "      <th>...</th>\n",
       "      <td>...</td>\n",
       "      <td>...</td>\n",
       "      <td>...</td>\n",
       "      <td>...</td>\n",
       "      <td>...</td>\n",
       "      <td>...</td>\n",
       "      <td>...</td>\n",
       "      <td>...</td>\n",
       "      <td>...</td>\n",
       "      <td>...</td>\n",
       "      <td>...</td>\n",
       "      <td>...</td>\n",
       "      <td>...</td>\n",
       "      <td>...</td>\n",
       "      <td>...</td>\n",
       "      <td>...</td>\n",
       "      <td>...</td>\n",
       "      <td>...</td>\n",
       "      <td>...</td>\n",
       "      <td>...</td>\n",
       "      <td>...</td>\n",
       "    </tr>\n",
       "    <tr>\n",
       "      <th>2280</th>\n",
       "      <td>2013-04-23</td>\n",
       "      <td>2013-02-27</td>\n",
       "      <td>2013-05-29</td>\n",
       "      <td>2014-04-21</td>\n",
       "      <td>2014-01-30</td>\n",
       "      <td>1928-03-06</td>\n",
       "      <td>3a751299</td>\n",
       "      <td>mmol/L</td>\n",
       "      <td>MA US</td>\n",
       "      <td>6298-4</td>\n",
       "      <td>...</td>\n",
       "      <td>white</td>\n",
       "      <td>italian</td>\n",
       "      <td>02238 US</td>\n",
       "      <td>b51749a2</td>\n",
       "      <td>NaN</td>\n",
       "      <td>NaN</td>\n",
       "      <td>Outpatient Encounter</td>\n",
       "      <td>NaN</td>\n",
       "      <td>Prediabetes</td>\n",
       "      <td>185349003</td>\n",
       "    </tr>\n",
       "    <tr>\n",
       "      <th>2281</th>\n",
       "      <td>2014-04-11</td>\n",
       "      <td>2010-10-08</td>\n",
       "      <td>2010-09-10</td>\n",
       "      <td>2013-06-20</td>\n",
       "      <td>2013-07-16</td>\n",
       "      <td>1941-11-06</td>\n",
       "      <td>a4a433e9</td>\n",
       "      <td>mmol/L</td>\n",
       "      <td>MA US</td>\n",
       "      <td>6298-4</td>\n",
       "      <td>...</td>\n",
       "      <td>hispanic</td>\n",
       "      <td>puerto_rican</td>\n",
       "      <td>02048 US</td>\n",
       "      <td>dd0248e8</td>\n",
       "      <td>NaN</td>\n",
       "      <td>NaN</td>\n",
       "      <td>Outpatient Encounter</td>\n",
       "      <td>NaN</td>\n",
       "      <td>Prediabetes</td>\n",
       "      <td>185349003</td>\n",
       "    </tr>\n",
       "    <tr>\n",
       "      <th>2282</th>\n",
       "      <td>2014-02-02</td>\n",
       "      <td>1985-04-05</td>\n",
       "      <td>1985-02-15</td>\n",
       "      <td>2016-07-04</td>\n",
       "      <td>2016-07-09</td>\n",
       "      <td>1971-07-30</td>\n",
       "      <td>1e2a4b7f</td>\n",
       "      <td>mmol/L</td>\n",
       "      <td>MA US</td>\n",
       "      <td>6298-4</td>\n",
       "      <td>...</td>\n",
       "      <td>hispanic</td>\n",
       "      <td>puerto_rican</td>\n",
       "      <td>01746 US</td>\n",
       "      <td>05748d0f</td>\n",
       "      <td>NaN</td>\n",
       "      <td>NaN</td>\n",
       "      <td>Outpatient Encounter</td>\n",
       "      <td>NaN</td>\n",
       "      <td>Prediabetes</td>\n",
       "      <td>185349003</td>\n",
       "    </tr>\n",
       "    <tr>\n",
       "      <th>2283</th>\n",
       "      <td>2015-10-11</td>\n",
       "      <td>2012-01-03</td>\n",
       "      <td>2012-01-10</td>\n",
       "      <td>2014-02-20</td>\n",
       "      <td>2013-11-20</td>\n",
       "      <td>1955-11-12</td>\n",
       "      <td>46f6851c</td>\n",
       "      <td>mmol/L</td>\n",
       "      <td>MA US</td>\n",
       "      <td>6298-4</td>\n",
       "      <td>...</td>\n",
       "      <td>white</td>\n",
       "      <td>swedish</td>\n",
       "      <td>01844 US</td>\n",
       "      <td>ef654a5a</td>\n",
       "      <td>284549007.0</td>\n",
       "      <td>NaN</td>\n",
       "      <td>Outpatient Encounter</td>\n",
       "      <td>NaN</td>\n",
       "      <td>Prediabetes</td>\n",
       "      <td>185349003</td>\n",
       "    </tr>\n",
       "    <tr>\n",
       "      <th>2284</th>\n",
       "      <td>2013-09-15</td>\n",
       "      <td>2012-03-16</td>\n",
       "      <td>2012-03-25</td>\n",
       "      <td>2015-10-26</td>\n",
       "      <td>2015-09-01</td>\n",
       "      <td>1947-07-17</td>\n",
       "      <td>e9fc7516</td>\n",
       "      <td>mmol/L</td>\n",
       "      <td>MA US</td>\n",
       "      <td>6298-4</td>\n",
       "      <td>...</td>\n",
       "      <td>white</td>\n",
       "      <td>french_canadian</td>\n",
       "      <td>02144 US</td>\n",
       "      <td>d525a7e4</td>\n",
       "      <td>370247008.0</td>\n",
       "      <td>NaN</td>\n",
       "      <td>Outpatient Encounter</td>\n",
       "      <td>NaN</td>\n",
       "      <td>Hypertension</td>\n",
       "      <td>185349003</td>\n",
       "    </tr>\n",
       "  </tbody>\n",
       "</table>\n",
       "<p>2285 rows × 26 columns</p>\n",
       "</div>"
      ],
      "text/plain": [
       "     ProcedureDate   StartDate     EndDate   EventDate        DATE  \\\n",
       "0       2014-01-03  2017-02-12  2017-03-05  2015-12-25  2016-02-10   \n",
       "1       2011-01-08  2011-02-03  2010-12-25  2011-01-28  2010-12-16   \n",
       "2       2016-05-24  2017-04-08  2017-05-11  2015-12-17  2016-01-28   \n",
       "3       2013-07-28  2013-08-08  2013-10-19  2014-01-15  2014-01-03   \n",
       "4       2016-06-06  2014-12-14  2014-12-28  2013-07-09  2013-06-03   \n",
       "...            ...         ...         ...         ...         ...   \n",
       "2280    2013-04-23  2013-02-27  2013-05-29  2014-04-21  2014-01-30   \n",
       "2281    2014-04-11  2010-10-08  2010-09-10  2013-06-20  2013-07-16   \n",
       "2282    2014-02-02  1985-04-05  1985-02-15  2016-07-04  2016-07-09   \n",
       "2283    2015-10-11  2012-01-03  2012-01-10  2014-02-20  2013-11-20   \n",
       "2284    2013-09-15  2012-03-16  2012-03-25  2015-10-26  2015-09-01   \n",
       "\n",
       "       BirthDate PatientID   UNITS BIRTHPLACE ObsCode  ...      RACE  \\\n",
       "0     1945-08-07  2e1cb472  mmol/L      MA US  6298-4  ...     white   \n",
       "1     1984-06-11  0bdda8d2  mmol/L      MA US  6298-4  ...     white   \n",
       "2     1956-04-20  0f2c2995  mmol/L      MA US  6298-4  ...     black   \n",
       "3     1937-08-18  7589c26f  mmol/L      MA US  6298-4  ...     white   \n",
       "4     1940-07-04  17f227c5  mmol/L      MA US  6298-4  ...     white   \n",
       "...          ...       ...     ...        ...     ...  ...       ...   \n",
       "2280  1928-03-06  3a751299  mmol/L      MA US  6298-4  ...     white   \n",
       "2281  1941-11-06  a4a433e9  mmol/L      MA US  6298-4  ...  hispanic   \n",
       "2282  1971-07-30  1e2a4b7f  mmol/L      MA US  6298-4  ...  hispanic   \n",
       "2283  1955-11-12  46f6851c  mmol/L      MA US  6298-4  ...     white   \n",
       "2284  1947-07-17  e9fc7516  mmol/L      MA US  6298-4  ...     white   \n",
       "\n",
       "            ETHNICITY    ADDRESS EncounterID  ProcedureReason  \\\n",
       "0              french   02481 US    20450b8b              NaN   \n",
       "1             italian   02478 US    ef43988c              NaN   \n",
       "2             african   02124 US    9f3fc317              NaN   \n",
       "3               irish   02124 US    0b487aea              NaN   \n",
       "4             italian   01910 US    603cb149              NaN   \n",
       "...               ...        ...         ...              ...   \n",
       "2280          italian   02238 US    b51749a2              NaN   \n",
       "2281     puerto_rican   02048 US    dd0248e8              NaN   \n",
       "2282     puerto_rican   01746 US    05748d0f              NaN   \n",
       "2283          swedish   01844 US    ef654a5a      284549007.0   \n",
       "2284  french_canadian   02144 US    d525a7e4      370247008.0   \n",
       "\n",
       "      EncounterReason             EncounterDesc EncounterReasonDesc  \\\n",
       "0                 NaN      Outpatient Encounter                 NaN   \n",
       "1                 NaN      Hutpatient Encounter                 NaN   \n",
       "2                 NaN      Outpatient Encounter                 NaN   \n",
       "3                 NaN  Encounter for 'check-up'                 NaN   \n",
       "4                 NaN      Outpatient Encounter                 NaN   \n",
       "...               ...                       ...                 ...   \n",
       "2280              NaN      Outpatient Encounter                 NaN   \n",
       "2281              NaN      Outpatient Encounter                 NaN   \n",
       "2282              NaN      Outpatient Encounter                 NaN   \n",
       "2283              NaN      Outpatient Encounter                 NaN   \n",
       "2284              NaN      Outpatient Encounter                 NaN   \n",
       "\n",
       "     ConditionDesc EncounterCode  \n",
       "0           Asthma     185349003  \n",
       "1           Asthma     185349003  \n",
       "2         Diabetes     185349003  \n",
       "3           Stroke     185349003  \n",
       "4      Prediabetes     185349003  \n",
       "...            ...           ...  \n",
       "2280   Prediabetes     185349003  \n",
       "2281   Prediabetes     185349003  \n",
       "2282   Prediabetes     185349003  \n",
       "2283   Prediabetes     185349003  \n",
       "2284  Hypertension     185349003  \n",
       "\n",
       "[2285 rows x 26 columns]"
      ]
     },
     "execution_count": 7,
     "metadata": {},
     "output_type": "execute_result"
    }
   ],
   "source": [
    "synthetic = run.get_training_synthetic_data()\n",
    "synthetic = synthetic[DF.columns]\n",
    "synthetic.to_csv('synthetic.csv', index=False)\n",
    "synthetic"
   ]
  },
  {
   "cell_type": "code",
   "execution_count": 9,
   "id": "1460ea07",
   "metadata": {},
   "outputs": [],
   "source": [
    "#run.cancel_all()\n",
    "#PROJECT.delete()"
   ]
  },
  {
   "cell_type": "code",
   "execution_count": 22,
   "id": "8cfae22c",
   "metadata": {},
   "outputs": [
    {
     "data": {
      "application/vnd.plotly.v1+json": {
       "config": {
        "plotlyServerURL": "https://plot.ly"
       },
       "data": [
        {
         "showscale": false,
         "type": "heatmap",
         "x": [
          "EventDate",
          "DATE",
          "PatientID",
          "BirthDate",
          "DeathDate",
          "RACE",
          "ETHNICITY",
          "GENDER",
          "BIRTHPLACE",
          "ADDRESS",
          "StartDate",
          "EndDate",
          "ConditionDesc",
          "EncounterID",
          "EncounterCode",
          "EncounterDesc",
          "EncounterReason",
          "EncounterReasonDesc",
          "ObsCode",
          "ObsDesc",
          "ObsValue",
          "ObsValueFloat",
          "UNITS",
          "ProcedureDate",
          "ProcedureDesc",
          "ProcedureReason"
         ],
         "xaxis": "x",
         "y": [
          "EventDate",
          "DATE",
          "PatientID",
          "BirthDate",
          "DeathDate",
          "RACE",
          "ETHNICITY",
          "GENDER",
          "BIRTHPLACE",
          "ADDRESS",
          "StartDate",
          "EndDate",
          "ConditionDesc",
          "EncounterID",
          "EncounterCode",
          "EncounterDesc",
          "EncounterReason",
          "EncounterReasonDesc",
          "ObsCode",
          "ObsDesc",
          "ObsValue",
          "ObsValueFloat",
          "UNITS",
          "ProcedureDate",
          "ProcedureDesc",
          "ProcedureReason"
         ],
         "yaxis": "y",
         "z": [
          [
           1,
           1,
           1,
           1,
           1,
           0.04047035696372264,
           0.07724141564205511,
           0.026434111917258783,
           0,
           0.13767272892410468,
           0.7204830521600286,
           0.7213297656840616,
           0.13899764435169432,
           0.23698134059359283,
           0.151806789381063,
           0.07817481637090262,
           0.22570524379355703,
           0.18505705166371467,
           0,
           0,
           0.17058167312318562,
           0.17058167312318562,
           0,
           0.651222119392127,
           0.12347922619236248,
           0.33831247924594693
          ],
          [
           0.9940238897560599,
           1,
           0.9938055616674953,
           0.9938055616674953,
           1,
           0.04028853974729915,
           0.07643478354446685,
           0.026433894023713884,
           0,
           0.13648928749510622,
           0.7159965494925034,
           0.7168243580114746,
           0.13740427205932595,
           0.23498243720628623,
           0.15175814655393402,
           0.07689603730248087,
           0.2239748613197738,
           0.18296244740652082,
           0,
           0,
           0.16743547502859404,
           0.16743547502859404,
           0,
           0.6471537159507674,
           0.12187927834125725,
           0.3382534954341699
          ],
          [
           0.9647541751414518,
           0.9645422758730701,
           1,
           1,
           1,
           0.03952198994242765,
           0.07189495552665796,
           0.02420671605285057,
           0,
           0.12822421184669403,
           0.7204830521600286,
           0.7213297656840616,
           0.12918640008575344,
           0.2219050667206667,
           0.14970473270972767,
           0.07201065101532148,
           0.22125484287805952,
           0.1707871815853645,
           0,
           0,
           0.1583544818890813,
           0.1583544818890813,
           0,
           0.6512221193921274,
           0.11387891676867506,
           0.33704988036509714
          ],
          [
           0.9647541751414518,
           0.9645422758730701,
           1,
           1,
           1,
           0.03952198994242765,
           0.07189495552665796,
           0.02420671605285057,
           0,
           0.12822421184669403,
           0.7204830521600286,
           0.7213297656840616,
           0.12918640008575344,
           0.2219050667206667,
           0.14970473270972767,
           0.07201065101532148,
           0.22125484287805952,
           0.1707871815853645,
           0,
           0,
           0.1583544818890813,
           0.1583544818890813,
           0,
           0.6512221193921274,
           0.11387891676867506,
           0.33704988036509714
          ],
          [
           0.08438257955332094,
           0.08488989089993501,
           0.08746536861677622,
           0.08746536861677622,
           1,
           0.003999366548269701,
           0.006957664705928197,
           0.003104928201106507,
           0,
           0.012788506964848225,
           0.06274019189641054,
           0.06361628313964164,
           0.011797219916531739,
           0.020280997014876064,
           0.047661215791520856,
           0.006522747603064658,
           0.094407227333387,
           0.010533593850325445,
           0,
           0,
           0.03629074277442829,
           0.03629074277442829,
           0,
           0.05713101735520816,
           0.009686425076603335,
           0.12907543013997513
          ],
          [
           0.010403128761724856,
           0.010418654671035346,
           0.010530502010937992,
           0.010530502010937992,
           0.012183311577271906,
           1,
           0.37750798562011756,
           0.08377027887665953,
           0,
           0.23337097014969527,
           0.025663041477854198,
           0.02535736786948408,
           0.07908540554271458,
           0.19704693834374487,
           0.27091185533883483,
           0.08943910480310262,
           0.2565472494908934,
           0.12089840562492545,
           0,
           0,
           0.2575215318276383,
           0.2575215318276383,
           0,
           0.03367564907166191,
           0.09371323101031706,
           0.16491621983587088
          ],
          [
           0.05259579459383116,
           0.05235944251573291,
           0.050743748811380864,
           0.050743748811380864,
           0.05614505277485254,
           1,
           1,
           0.3238788577542533,
           0,
           0.659010869521736,
           0.0983315506304954,
           0.0981056361078726,
           0.27449155690531624,
           0.5223334596275794,
           0.32391297416950005,
           0.2164527173197381,
           0.4901619686908353,
           0.4389091066978265,
           0,
           0,
           0.5726301445742291,
           0.5726301445742291,
           0,
           0.13302426093038763,
           0.3172261700793077,
           0.7525351552056577
          ],
          [
           0.004967791020927591,
           0.004997616378394096,
           0.004715392006555478,
           0.004715392006555478,
           0.006915082378863575,
           0.061243727603783396,
           0.08938824215185284,
           1,
           0,
           0.1796203729131352,
           0.0075963142375159,
           0.007577778158875734,
           0.059036508118545265,
           0.14161392093756248,
           0.06277725180560895,
           0.033777962110129726,
           0.04539284395840076,
           0.07706555544724909,
           0,
           0,
           0.22518727132366806,
           0.22518727132366806,
           0,
           0.016705962730517707,
           0.038844354008953724,
           0.26366810156442466
          ],
          [
           0,
           0,
           0,
           0,
           0,
           0,
           0,
           0,
           1,
           0,
           0,
           0,
           0,
           0,
           0,
           0,
           0,
           0,
           0,
           0,
           0,
           0,
           0,
           0,
           0,
           0
          ],
          [
           0.13117866050964522,
           0.13083291432602334,
           0.1266393411643113,
           0.1266393411643113,
           0.14440502888457027,
           0.8650379558539695,
           0.9221616405614929,
           0.9106935712756807,
           0,
           1,
           0.20905144626937536,
           0.20885253099554046,
           0.44945513289272193,
           0.7310336238099788,
           0.5296436495429683,
           0.4173703129347833,
           0.605845910767093,
           0.6444991998030413,
           0,
           0,
           0.8241556797549815,
           0.8241556797549815,
           0,
           0.2588126063314916,
           0.490971593062374,
           0.944851052166552
          ],
          [
           0.959697668244983,
           0.9594553690606898,
           0.9947587613230828,
           0.9947587613230828,
           0.9903842276339256,
           0.13298169286701314,
           0.1923546821665925,
           0.05384123317300286,
           0,
           0.29224600006127677,
           1,
           0.9961878840854818,
           0.29008811665258827,
           0.41754156680566634,
           0.2515262523692518,
           0.15897407702510952,
           0.43590991396900064,
           0.3844158521408661,
           0,
           0,
           0.2596943106073676,
           0.2596943106073676,
           0,
           0.6477869472258271,
           0.2534458702962221,
           0.49722890329953495
          ],
          [
           0.9567938165045622,
           0.9565340592507884,
           0.9917488217807169,
           0.9917488217807169,
           1,
           0.1308463880155591,
           0.1911074723162896,
           0.053484482674757555,
           0,
           0.2907428062581544,
           0.9920078101921103,
           1,
           0.28619929511068865,
           0.4142712165559521,
           0.2439284672011275,
           0.1583805364967648,
           0.43784605326953235,
           0.37975364302206593,
           0,
           0,
           0.2685143184544675,
           0.2685143184544675,
           0,
           0.6458100693016117,
           0.2519619088818373,
           0.49001646073619437
          ],
          [
           0.12343291902139712,
           0.12275154668724941,
           0.11891145386794007,
           0.11891145386794007,
           0.12415106153059555,
           0.2732077197492346,
           0.35797422212231444,
           0.27896237231242904,
           0,
           0.4188848304634356,
           0.19339392501849295,
           0.19160534194874593,
           1,
           0.5412671180796523,
           0.8640375331333758,
           0.6725077442014674,
           0.9420431767628746,
           0.9482881126326859,
           0,
           0,
           0.4421296530169622,
           0.4421296530169622,
           0,
           0.23692957602775142,
           0.2477465321180739,
           0.6801911049871772
          ],
          [
           0.3077202730083194,
           0.30695911847332463,
           0.29867062373592906,
           0.29867062373592906,
           0.3120889993594268,
           0.9953703723463351,
           0.9960680457425011,
           0.9784740467765985,
           0,
           0.9962401465195588,
           0.40703429583853856,
           0.40554795018495365,
           0.7914619527595954,
           1,
           0.9999999999992518,
           0.9982514138769927,
           0.9999999999999999,
           1,
           0,
           0,
           0.9163178598710714,
           0.9163178598710714,
           0,
           0.4531212503406249,
           0.5726316160619718,
           0.9465668001380414
          ],
          [
           0.151806789381063,
           0.15175814655393402,
           0.14970473270972767,
           0.14970473270972767,
           0.047661215791520856,
           0.27091185533883483,
           0.32391297416950005,
           0.06277725180560895,
           0,
           0.5296436495429683,
           0.2515262523692518,
           0.2439284672011275,
           0.8640375331333758,
           0.9999999999992518,
           1,
           0.9999994904536867,
           -0.05294058108660525,
           1.0000000000000002,
           0,
           0,
           -0.14741436062522997,
           -0.14741436062522997,
           0,
           0.054129582718115875,
           0.3297763173864101,
           0.05062946064524109
          ],
          [
           0.0318257628699841,
           0.031493366736183394,
           0.03038729368853617,
           0.03038729368853617,
           0.03146949177079753,
           0.14164865583802339,
           0.12941189573000225,
           0.0731723163322815,
           0,
           0.17832746537392066,
           0.048587840239752204,
           0.04861040689400321,
           0.3083086312246196,
           0.31297520289206365,
           0.9999994904536867,
           1,
           0.22049650392404788,
           0.32675674291836876,
           0,
           0,
           0.33114353520053735,
           0.33114353520053735,
           0,
           0.07038772640841907,
           0.10350350635547181,
           0.5454040724752361
          ],
          [
           0.22570524379355703,
           0.2239748613197738,
           0.22125484287805952,
           0.22125484287805952,
           0.094407227333387,
           0.2565472494908934,
           0.4901619686908353,
           0.04539284395840076,
           0,
           0.605845910767093,
           0.43590991396900064,
           0.43784605326953235,
           0.9420431767628746,
           0.9999999999999999,
           -0.05294058108660525,
           0.22049650392404788,
           1,
           1,
           0,
           0,
           -0.15372675604471953,
           -0.15372675604471953,
           0,
           0.1778604940581624,
           0.2512472281818334,
           0.009796355129836962
          ],
          [
           0.09761967887851214,
           0.09670010154345118,
           0.09370325255107935,
           0.09370325255107935,
           0.07842008524998567,
           0.29685349928390253,
           0.35858285233402537,
           0.22186995840895982,
           0,
           0.37247322349074063,
           0.15441098694112115,
           0.15348373915968808,
           0.7744534661464015,
           0.4492570290707342,
           1.0000000000000002,
           1,
           1,
           1,
           0,
           0,
           0.49309200136921727,
           0.49309200136921727,
           0,
           0.1778604940581624,
           0.21027047672116866,
           0.9339710413717052
          ],
          [
           0,
           0,
           0,
           0,
           0,
           0,
           0,
           0,
           0,
           0,
           0,
           0,
           0,
           0,
           0,
           0,
           0,
           0,
           1,
           0,
           0,
           0,
           0,
           0,
           0,
           0
          ],
          [
           0,
           0,
           0,
           0,
           0,
           0,
           0,
           0,
           0,
           0,
           0,
           0,
           0,
           0,
           0,
           0,
           0,
           0,
           0,
           1,
           0,
           0,
           0,
           0,
           0,
           0
          ],
          [
           0.17058167312318562,
           0.16743547502859404,
           0.1583544818890813,
           0.1583544818890813,
           0.03629074277442829,
           0.2575215318276383,
           0.5726301445742291,
           0.22518727132366806,
           0,
           0.8241556797549815,
           0.2596943106073676,
           0.2685143184544675,
           0.4421296530169622,
           0.9163178598710714,
           -0.14741436062522997,
           0.33114353520053735,
           -0.15372675604471953,
           0.49309200136921727,
           0,
           0,
           1,
           0.999999999999999,
           0,
           0.04129148259253189,
           0.34283419982592456,
           -0.35628570376292734
          ],
          [
           0.17058167312318562,
           0.16743547502859404,
           0.1583544818890813,
           0.1583544818890813,
           0.03629074277442829,
           0.2575215318276383,
           0.5726301445742291,
           0.22518727132366806,
           0,
           0.8241556797549815,
           0.2596943106073676,
           0.2685143184544675,
           0.4421296530169622,
           0.9163178598710714,
           -0.14741436062522997,
           0.33114353520053735,
           -0.15372675604471953,
           0.49309200136921727,
           0,
           0,
           0.999999999999999,
           1,
           0,
           0.04129148259253189,
           0.34283419982592456,
           -0.35628570376292734
          ],
          [
           0,
           0,
           0,
           0,
           0,
           0,
           0,
           0,
           0,
           0,
           0,
           0,
           0,
           0,
           0,
           0,
           0,
           0,
           0,
           0,
           0,
           0,
           1,
           0,
           0,
           0
          ],
          [
           0.9565853620158838,
           0.9563243515256254,
           0.9915327517246866,
           0.9915327517246866,
           0.9945205186211338,
           0.1924348048803675,
           0.286962169006416,
           0.1305772451716258,
           0,
           0.39899250981152706,
           0.7143583247352144,
           0.715179230182991,
           0.3919135737710884,
           0.5125863777883384,
           0.23741071389346738,
           0.25396833513673156,
           0.478942767779058,
           0.478942767779058,
           0,
           0,
           0.16686498811690068,
           0.16686498811690068,
           0,
           1,
           0.35014098866270477,
           0.5750855134769889
          ],
          [
           0.06518949873570434,
           0.06473166745409353,
           0.06231755463085101,
           0.06231755463085101,
           0.060603048157789434,
           0.1924676373556383,
           0.24595290384096333,
           0.10912218463975593,
           0,
           0.272035033025446,
           0.10045193138295286,
           0.10028457218272852,
           0.14728813634777776,
           0.23281829680856078,
           0.3297763173864101,
           0.1342229723838196,
           0.2512472281818334,
           0.20169978200346797,
           0,
           0,
           0.34283419982592456,
           0.34283419982592456,
           0,
           0.12584388250691544,
           1,
           0.6574158573684039
          ],
          [
           0.33831247924594693,
           0.3382534954341699,
           0.33704988036509714,
           0.33704988036509714,
           0.12907543013997513,
           0.16491621983587088,
           0.7525351552056577,
           0.26366810156442466,
           0,
           0.944851052166552,
           0.49722890329953495,
           0.49001646073619437,
           0.6801911049871772,
           0.9465668001380414,
           0.05062946064524109,
           0.5454040724752361,
           0.009796355129836962,
           0.9339710413717052,
           0,
           0,
           -0.35628570376292734,
           -0.35628570376292734,
           0,
           0.2608888895603395,
           0.6574158573684039,
           1
          ]
         ]
        },
        {
         "showscale": false,
         "type": "heatmap",
         "x": [
          "EventDate",
          "DATE",
          "PatientID",
          "BirthDate",
          "DeathDate",
          "RACE",
          "ETHNICITY",
          "GENDER",
          "BIRTHPLACE",
          "ADDRESS",
          "StartDate",
          "EndDate",
          "ConditionDesc",
          "EncounterID",
          "EncounterCode",
          "EncounterDesc",
          "EncounterReason",
          "EncounterReasonDesc",
          "ObsCode",
          "ObsDesc",
          "ObsValue",
          "ObsValueFloat",
          "UNITS",
          "ProcedureDate",
          "ProcedureDesc",
          "ProcedureReason"
         ],
         "xaxis": "x2",
         "y": [
          "EventDate",
          "DATE",
          "PatientID",
          "BirthDate",
          "DeathDate",
          "RACE",
          "ETHNICITY",
          "GENDER",
          "BIRTHPLACE",
          "ADDRESS",
          "StartDate",
          "EndDate",
          "ConditionDesc",
          "EncounterID",
          "EncounterCode",
          "EncounterDesc",
          "EncounterReason",
          "EncounterReasonDesc",
          "ObsCode",
          "ObsDesc",
          "ObsValue",
          "ObsValueFloat",
          "UNITS",
          "ProcedureDate",
          "ProcedureDesc",
          "ProcedureReason"
         ],
         "yaxis": "y2",
         "z": [
          [
           1,
           0.9987720505628925,
           0.9984892895672203,
           0.9982006946287773,
           0.11073146364994227,
           0.044482001415444145,
           0.07646237246088532,
           0.02147757982688494,
           0,
           0.12917896423979824,
           0.7109901091451629,
           0.7155286867031148,
           0.1390670384787055,
           0.21681489604431725,
           0.16934041056679397,
           0.08038937760522319,
           0.27800981947203646,
           0.18833167682859403,
           0,
           0,
           0.16546831448919863,
           0.16546831448919863,
           0,
           0.6483256849810277,
           0.10583101609020129,
           0.29876809297889895
          ],
          [
           0.9915185273831735,
           1,
           0.9919971138611823,
           0.9917103953665509,
           0.10969533051604861,
           0.04301225433576852,
           0.07491119256592511,
           0.021178298760113606,
           0,
           0.12738683644514986,
           0.7049111661096398,
           0.7094019214617887,
           0.13688059128464566,
           0.21386736943885287,
           0.16772404484175693,
           0.07963920193938152,
           0.2772459293167982,
           0.18766677805319948,
           0,
           0,
           0.16532858560702116,
           0.16532858560702116,
           0,
           0.6439559510821037,
           0.10427034393520669,
           0.29702130969034174
          ],
          [
           0.9619996487403579,
           0.9627365460696872,
           1,
           0.9997109684185315,
           0.10165500663730125,
           0.043704854401240376,
           0.07206020893701284,
           0.020432725092495888,
           0,
           0.12015790504619035,
           0.7095142548806445,
           0.7143195491786242,
           0.1310156844252667,
           0.204002240833251,
           0.15160975884828498,
           0.07403007758691321,
           0.27486561706538226,
           0.17856775823770338,
           0,
           0,
           0.15621435720207555,
           0.15621435720207555,
           0,
           0.6483478126348277,
           0.10130593284494412,
           0.29342063316534434
          ],
          [
           0.9619996487403579,
           0.9627365460696872,
           1,
           1,
           0.10165500663730125,
           0.04477511992472156,
           0.07245919749328512,
           0.02065332925316531,
           0,
           0.12044722209709333,
           0.7095936161001737,
           0.7143995347219134,
           0.13134434987246263,
           0.2042161770359337,
           0.1592349038427075,
           0.07474524838337816,
           0.27486561706538226,
           0.17856775823770338,
           0,
           0,
           0.15664583623464406,
           0.15664583623464406,
           0,
           0.6485377030220076,
           0.10182167721586964,
           0.29342063316534434
          ],
          [
           0.013665697690262076,
           0.013636862342709758,
           0.013021410761040016,
           0.013017647162094803,
           1,
           0.0038334052862964516,
           0.006313561386499302,
           0.002489696999957584,
           0,
           0.01233293590629707,
           0.022520096277074922,
           0.022229636427883805,
           0.01537122269412641,
           0.023022972057429016,
           0.01988528637613636,
           0.009065166233552968,
           0.09742369963171496,
           0.015761704311090707,
           0,
           0,
           0.026730369796619226,
           0.026730369796619226,
           0,
           0.02708282407370216,
           0.01211193579391716,
           0.07579072949414378
          ],
          [
           0.011576975888535611,
           0.011276350363468439,
           0.01180616868877693,
           0.012091787914638118,
           0.008084157720853427,
           1,
           0.37043071572448105,
           0.07459986780753289,
           0,
           0.23330900579186303,
           0.023002249609479424,
           0.023187065857289194,
           0.011610853997715163,
           0.19910003737098889,
           0.054731637584027895,
           0.006693990016605563,
           0.09715295431827403,
           0.020540254946760702,
           0,
           0,
           0.2795961888661214,
           0.2795961888661214,
           0,
           0.034277576117586576,
           0.0934873968768402,
           0.18317728721510168
          ],
          [
           0.053381364961780496,
           0.05268101856046718,
           0.052216278936072356,
           0.05249021836386146,
           0.035715402118633756,
           0.9936606392482017,
           1,
           0.31181404268578766,
           0,
           0.6699811202141513,
           0.09604365302415742,
           0.09316000933782374,
           0.05521952657277281,
           0.5347609410759178,
           0.09508305599710011,
           0.030343092848015226,
           0.13963997834813283,
           0.07577280179815142,
           0,
           0,
           0.5992131056807131,
           0.5992131056807131,
           0,
           0.134944423246462,
           0.30085676976653825,
           0.7192670260227694
          ],
          [
           0.0041147274086542574,
           0.0040871286472603085,
           0.004063710887276472,
           0.004106392560263641,
           0.0038755870803062905,
           0.054944574419080495,
           0.08556571475952443,
           1,
           0,
           0.1570060388194761,
           0.008912888001152383,
           0.008625576162213452,
           0.004552494189780523,
           0.12958792896887064,
           0.017894436543993125,
           0.002208490878335351,
           0.01950163135723592,
           0.0051522331359744,
           0,
           0,
           0.21207414955754994,
           0.21207414955754994,
           0,
           0.015912570483272888,
           0.04070616784316428,
           0.19496207280781452
          ],
          [
           0,
           0,
           0,
           0,
           0,
           0,
           0,
           0,
           1,
           0,
           0,
           0,
           0,
           0,
           0,
           0,
           0,
           0,
           0,
           0,
           0,
           0,
           0,
           0,
           0,
           0
          ],
          [
           0.12437128268557968,
           0.1235430772205123,
           0.12007405030914636,
           0.12032837669796058,
           0.09621305863534368,
           0.8630759384463429,
           0.9239510739157021,
           0.7889193174671265,
           0,
           1,
           0.19985112051136886,
           0.19584400919263031,
           0.12674991406145653,
           0.738017055267791,
           0.16467710058707102,
           0.0658865603006998,
           0.2244838604653148,
           0.1602070921984758,
           0,
           0,
           0.8340713914533271,
           0.8340713914533271,
           0,
           0.2485788218500911,
           0.46029950501156836,
           0.961989465571793
          ],
          [
           0.9574947612254949,
           0.9562529418374891,
           0.9917505954577293,
           0.9915748463221159,
           0.24574365964163042,
           0.11902339944034689,
           0.18526765820830202,
           0.06264660698573103,
           0,
           0.27954460786285856,
           1,
           0.9951824567374712,
           0.27131527586007387,
           0.3978016812790282,
           0.25094749195000005,
           0.1716112473208151,
           0.4218206109827432,
           0.35671788606170013,
           0,
           0,
           0.2729294902369048,
           0.2729294902369048,
           0,
           0.6721188287026327,
           0.23922200124362006,
           0.4358646350966906
          ],
          [
           0.9560854989356268,
           0.9548333699907103,
           0.9906738840278494,
           0.9904984460958434,
           0.24068070354152415,
           0.11904322054007864,
           0.17830244527847444,
           0.06014289139357549,
           0,
           0.2718013797620985,
           0.9874146023505301,
           1,
           0.26587425133992537,
           0.39136032545485216,
           0.2439695968428954,
           0.16730762077687705,
           0.42596166709324806,
           0.35013056709452245,
           0,
           0,
           0.2625167722461816,
           0.2625167722461816,
           0,
           0.6689761153787175,
           0.22997563839440535,
           0.4315151274265466
          ],
          [
           0.11786164607875325,
           0.11685726443261828,
           0.11524977422116857,
           0.11550549497812994,
           0.10555916397509053,
           0.037809562392227894,
           0.06703460729832805,
           0.020127423347199736,
           0,
           0.11157519493250959,
           0.1707456685015774,
           0.1686377871684862,
           1,
           0.17942163064764854,
           0.8354277913361258,
           0.671058513607026,
           0.9500675362347757,
           0.9472625027943464,
           0,
           0,
           0.16245281673708192,
           0.16245281673708192,
           0,
           0.2141054266143076,
           0.11474590271870104,
           0.24695445971092578
          ],
          [
           0.2822975952548038,
           0.2804969456142852,
           0.27569030708199255,
           0.27589965545800954,
           0.24289505861326638,
           0.9960441619974495,
           0.9973230016952062,
           0.8803973851563002,
           0,
           0.9980588384237098,
           0.38460225738018344,
           0.38135125263935604,
           0.27564147504722214,
           1,
           0.29329286727624077,
           0.17449333139562792,
           0.41158214413157473,
           0.34189310303163184,
           0,
           0,
           0.9198301928313902,
           0.9198301928313902,
           0,
           0.4298045983646942,
           0.5799184287351176,
           0.963712229695465
          ],
          [
           0.16934041056679397,
           0.16772404484175693,
           0.15160975884828498,
           0.1592349038427075,
           0.01988528637613636,
           0.054731637584027895,
           0.09508305599710011,
           0.017894436543993125,
           0,
           0.16467710058707102,
           0.25094749195000005,
           0.2439695968428954,
           0.8354277913361258,
           0.29329286727624077,
           1,
           0.9999993595868754,
           -0.05737232928559016,
           1,
           0,
           0,
           0.030488976533025163,
           0.030488976533025163,
           0,
           0.048399248895617995,
           0.1290254576792574,
           0.037093600079652664
          ],
          [
           0.03132166256231684,
           0.03125645426177156,
           0.029935986953397845,
           0.030216446329186533,
           0.028612160442960645,
           0.010032443386997969,
           0.016937486099739957,
           0.0044880392335000545,
           0,
           0.026665352676915312,
           0.04965466726887482,
           0.04879019013900794,
           0.3085848618402961,
           0.052225173096705615,
           0.9999993595868754,
           1,
           0.15763634158305387,
           0.23732108196017002,
           0,
           0,
           0.0929965491685787,
           0.0929965491685787,
           0,
           0.06763543937670372,
           0.03488589134884731,
           0.14836961724679884
          ],
          [
           0.27800981947203646,
           0.2772459293167982,
           0.27486561706538226,
           0.27486561706538226,
           0.09742369963171496,
           0.09715295431827403,
           0.13963997834813283,
           0.01950163135723592,
           0,
           0.2244838604653148,
           0.4218206109827432,
           0.42596166709324806,
           0.9500675362347757,
           0.41158214413157473,
           -0.05737232928559016,
           0.15763634158305387,
           1,
           0.9962632293875592,
           0,
           0,
           0.0005844724106977943,
           0.0005844724106977943,
           0,
           0.15704487251818716,
           0.1605075714251486,
           0.08816722025973275
          ],
          [
           0.09059767956965545,
           0.0907614732698972,
           0.08887592083585105,
           0.08887592083585105,
           0.06267102705994587,
           0.039036668924603814,
           0.05250183505267609,
           0.012866032123965141,
           0,
           0.07988008298201468,
           0.12961266328698792,
           0.1281299501267831,
           0.7843610277937973,
           0.12991932374446455,
           1,
           0.9781198011911418,
           0.9962632293875592,
           1,
           0,
           0,
           0.16992829505959658,
           0.16992829505959658,
           0,
           0.15914558113498925,
           0.09778403421340118,
           0.2246555433876138
          ],
          [
           0,
           0,
           0,
           0,
           0,
           0,
           0,
           0,
           0,
           0,
           0,
           0,
           0,
           0,
           0,
           0,
           0,
           0,
           1,
           0,
           0,
           0,
           0,
           0,
           0,
           0
          ],
          [
           0,
           0,
           0,
           0,
           0,
           0,
           0,
           0,
           0,
           0,
           0,
           0,
           0,
           0,
           0,
           0,
           0,
           0,
           0,
           1,
           0,
           0,
           0,
           0,
           0,
           0
          ],
          [
           0.16546831448919863,
           0.16532858560702116,
           0.15621435720207555,
           0.15664583623464406,
           0.026730369796619226,
           0.2795961888661214,
           0.5992131056807131,
           0.21207414955754994,
           0,
           0.8340713914533271,
           0.2729294902369048,
           0.2625167722461816,
           0.16245281673708192,
           0.9198301928313902,
           0.030488976533025163,
           0.0929965491685787,
           0.0005844724106977943,
           0.16992829505959658,
           0,
           0,
           1,
           0.9999999999999988,
           0,
           0.04318828252014536,
           0.3023336492595509,
           -0.3217481916922632
          ],
          [
           0.16546831448919863,
           0.16532858560702116,
           0.15621435720207555,
           0.15664583623464406,
           0.026730369796619226,
           0.2795961888661214,
           0.5992131056807131,
           0.21207414955754994,
           0,
           0.8340713914533271,
           0.2729294902369048,
           0.2625167722461816,
           0.16245281673708192,
           0.9198301928313902,
           0.030488976533025163,
           0.0929965491685787,
           0.0005844724106977943,
           0.16992829505959658,
           0,
           0,
           0.9999999999999988,
           1,
           0,
           0.04318828252014536,
           0.3023336492595509,
           -0.3217481916922632
          ],
          [
           0,
           0,
           0,
           0,
           0,
           0,
           0,
           0,
           0,
           0,
           0,
           0,
           0,
           0,
           0,
           0,
           0,
           0,
           0,
           0,
           0,
           0,
           1,
           0,
           0,
           0
          ],
          [
           0.9510264428400288,
           0.951526905158242,
           0.9871335487993081,
           0.9871372676100465,
           0.3219085744731777,
           0.1931962354279713,
           0.28353873730876517,
           0.1218375163960681,
           0,
           0.3787347675815583,
           0.7321036623659716,
           0.7344128988438069,
           0.3705772410614306,
           0.4842307450902228,
           0.23113047082355745,
           0.25464986075056334,
           0.4672026382985849,
           0.46991180019792106,
           0,
           0,
           0.17023542899878366,
           0.17023542899878366,
           0,
           1,
           0.3188857346310302,
           0.5251424146370461
          ],
          [
           0.05715849881531787,
           0.056727572723238424,
           0.05678991590100772,
           0.05706253340327179,
           0.0530054638792755,
           0.1940037417718481,
           0.23274787856348972,
           0.11474059639185825,
           0,
           0.2582141518736454,
           0.09593920606610089,
           0.09295655070585386,
           0.07312346107295904,
           0.24055627846543282,
           0.1290254576792574,
           0.04836824829484545,
           0.1605075714251486,
           0.09979656938286931,
           0,
           0,
           0.3023336492595509,
           0.3023336492595509,
           0,
           0.11740959093098484,
           1,
           0.6024944306329433
          ],
          [
           0.29876809297889895,
           0.29702130969034174,
           0.29342063316534434,
           0.29342063316534434,
           0.07579072949414378,
           0.18317728721510168,
           0.7192670260227694,
           0.19496207280781452,
           0,
           0.961989465571793,
           0.4358646350966906,
           0.4315151274265466,
           0.24695445971092578,
           0.963712229695465,
           0.037093600079652664,
           0.14836961724679884,
           0.08816722025973275,
           0.2246555433876138,
           0,
           0,
           -0.3217481916922632,
           -0.3217481916922632,
           0,
           0.23247740503718206,
           0.6024944306329433,
           1
          ]
         ]
        }
       ],
       "layout": {
        "template": {
         "data": {
          "bar": [
           {
            "error_x": {
             "color": "#2a3f5f"
            },
            "error_y": {
             "color": "#2a3f5f"
            },
            "marker": {
             "line": {
              "color": "#E5ECF6",
              "width": 0.5
             },
             "pattern": {
              "fillmode": "overlay",
              "size": 10,
              "solidity": 0.2
             }
            },
            "type": "bar"
           }
          ],
          "barpolar": [
           {
            "marker": {
             "line": {
              "color": "#E5ECF6",
              "width": 0.5
             },
             "pattern": {
              "fillmode": "overlay",
              "size": 10,
              "solidity": 0.2
             }
            },
            "type": "barpolar"
           }
          ],
          "carpet": [
           {
            "aaxis": {
             "endlinecolor": "#2a3f5f",
             "gridcolor": "white",
             "linecolor": "white",
             "minorgridcolor": "white",
             "startlinecolor": "#2a3f5f"
            },
            "baxis": {
             "endlinecolor": "#2a3f5f",
             "gridcolor": "white",
             "linecolor": "white",
             "minorgridcolor": "white",
             "startlinecolor": "#2a3f5f"
            },
            "type": "carpet"
           }
          ],
          "choropleth": [
           {
            "colorbar": {
             "outlinewidth": 0,
             "ticks": ""
            },
            "type": "choropleth"
           }
          ],
          "contour": [
           {
            "colorbar": {
             "outlinewidth": 0,
             "ticks": ""
            },
            "colorscale": [
             [
              0,
              "#0d0887"
             ],
             [
              0.1111111111111111,
              "#46039f"
             ],
             [
              0.2222222222222222,
              "#7201a8"
             ],
             [
              0.3333333333333333,
              "#9c179e"
             ],
             [
              0.4444444444444444,
              "#bd3786"
             ],
             [
              0.5555555555555556,
              "#d8576b"
             ],
             [
              0.6666666666666666,
              "#ed7953"
             ],
             [
              0.7777777777777778,
              "#fb9f3a"
             ],
             [
              0.8888888888888888,
              "#fdca26"
             ],
             [
              1,
              "#f0f921"
             ]
            ],
            "type": "contour"
           }
          ],
          "contourcarpet": [
           {
            "colorbar": {
             "outlinewidth": 0,
             "ticks": ""
            },
            "type": "contourcarpet"
           }
          ],
          "heatmap": [
           {
            "colorbar": {
             "outlinewidth": 0,
             "ticks": ""
            },
            "colorscale": [
             [
              0,
              "#0d0887"
             ],
             [
              0.1111111111111111,
              "#46039f"
             ],
             [
              0.2222222222222222,
              "#7201a8"
             ],
             [
              0.3333333333333333,
              "#9c179e"
             ],
             [
              0.4444444444444444,
              "#bd3786"
             ],
             [
              0.5555555555555556,
              "#d8576b"
             ],
             [
              0.6666666666666666,
              "#ed7953"
             ],
             [
              0.7777777777777778,
              "#fb9f3a"
             ],
             [
              0.8888888888888888,
              "#fdca26"
             ],
             [
              1,
              "#f0f921"
             ]
            ],
            "type": "heatmap"
           }
          ],
          "heatmapgl": [
           {
            "colorbar": {
             "outlinewidth": 0,
             "ticks": ""
            },
            "colorscale": [
             [
              0,
              "#0d0887"
             ],
             [
              0.1111111111111111,
              "#46039f"
             ],
             [
              0.2222222222222222,
              "#7201a8"
             ],
             [
              0.3333333333333333,
              "#9c179e"
             ],
             [
              0.4444444444444444,
              "#bd3786"
             ],
             [
              0.5555555555555556,
              "#d8576b"
             ],
             [
              0.6666666666666666,
              "#ed7953"
             ],
             [
              0.7777777777777778,
              "#fb9f3a"
             ],
             [
              0.8888888888888888,
              "#fdca26"
             ],
             [
              1,
              "#f0f921"
             ]
            ],
            "type": "heatmapgl"
           }
          ],
          "histogram": [
           {
            "marker": {
             "pattern": {
              "fillmode": "overlay",
              "size": 10,
              "solidity": 0.2
             }
            },
            "type": "histogram"
           }
          ],
          "histogram2d": [
           {
            "colorbar": {
             "outlinewidth": 0,
             "ticks": ""
            },
            "colorscale": [
             [
              0,
              "#0d0887"
             ],
             [
              0.1111111111111111,
              "#46039f"
             ],
             [
              0.2222222222222222,
              "#7201a8"
             ],
             [
              0.3333333333333333,
              "#9c179e"
             ],
             [
              0.4444444444444444,
              "#bd3786"
             ],
             [
              0.5555555555555556,
              "#d8576b"
             ],
             [
              0.6666666666666666,
              "#ed7953"
             ],
             [
              0.7777777777777778,
              "#fb9f3a"
             ],
             [
              0.8888888888888888,
              "#fdca26"
             ],
             [
              1,
              "#f0f921"
             ]
            ],
            "type": "histogram2d"
           }
          ],
          "histogram2dcontour": [
           {
            "colorbar": {
             "outlinewidth": 0,
             "ticks": ""
            },
            "colorscale": [
             [
              0,
              "#0d0887"
             ],
             [
              0.1111111111111111,
              "#46039f"
             ],
             [
              0.2222222222222222,
              "#7201a8"
             ],
             [
              0.3333333333333333,
              "#9c179e"
             ],
             [
              0.4444444444444444,
              "#bd3786"
             ],
             [
              0.5555555555555556,
              "#d8576b"
             ],
             [
              0.6666666666666666,
              "#ed7953"
             ],
             [
              0.7777777777777778,
              "#fb9f3a"
             ],
             [
              0.8888888888888888,
              "#fdca26"
             ],
             [
              1,
              "#f0f921"
             ]
            ],
            "type": "histogram2dcontour"
           }
          ],
          "mesh3d": [
           {
            "colorbar": {
             "outlinewidth": 0,
             "ticks": ""
            },
            "type": "mesh3d"
           }
          ],
          "parcoords": [
           {
            "line": {
             "colorbar": {
              "outlinewidth": 0,
              "ticks": ""
             }
            },
            "type": "parcoords"
           }
          ],
          "pie": [
           {
            "automargin": true,
            "type": "pie"
           }
          ],
          "scatter": [
           {
            "marker": {
             "colorbar": {
              "outlinewidth": 0,
              "ticks": ""
             }
            },
            "type": "scatter"
           }
          ],
          "scatter3d": [
           {
            "line": {
             "colorbar": {
              "outlinewidth": 0,
              "ticks": ""
             }
            },
            "marker": {
             "colorbar": {
              "outlinewidth": 0,
              "ticks": ""
             }
            },
            "type": "scatter3d"
           }
          ],
          "scattercarpet": [
           {
            "marker": {
             "colorbar": {
              "outlinewidth": 0,
              "ticks": ""
             }
            },
            "type": "scattercarpet"
           }
          ],
          "scattergeo": [
           {
            "marker": {
             "colorbar": {
              "outlinewidth": 0,
              "ticks": ""
             }
            },
            "type": "scattergeo"
           }
          ],
          "scattergl": [
           {
            "marker": {
             "colorbar": {
              "outlinewidth": 0,
              "ticks": ""
             }
            },
            "type": "scattergl"
           }
          ],
          "scattermapbox": [
           {
            "marker": {
             "colorbar": {
              "outlinewidth": 0,
              "ticks": ""
             }
            },
            "type": "scattermapbox"
           }
          ],
          "scatterpolar": [
           {
            "marker": {
             "colorbar": {
              "outlinewidth": 0,
              "ticks": ""
             }
            },
            "type": "scatterpolar"
           }
          ],
          "scatterpolargl": [
           {
            "marker": {
             "colorbar": {
              "outlinewidth": 0,
              "ticks": ""
             }
            },
            "type": "scatterpolargl"
           }
          ],
          "scatterternary": [
           {
            "marker": {
             "colorbar": {
              "outlinewidth": 0,
              "ticks": ""
             }
            },
            "type": "scatterternary"
           }
          ],
          "surface": [
           {
            "colorbar": {
             "outlinewidth": 0,
             "ticks": ""
            },
            "colorscale": [
             [
              0,
              "#0d0887"
             ],
             [
              0.1111111111111111,
              "#46039f"
             ],
             [
              0.2222222222222222,
              "#7201a8"
             ],
             [
              0.3333333333333333,
              "#9c179e"
             ],
             [
              0.4444444444444444,
              "#bd3786"
             ],
             [
              0.5555555555555556,
              "#d8576b"
             ],
             [
              0.6666666666666666,
              "#ed7953"
             ],
             [
              0.7777777777777778,
              "#fb9f3a"
             ],
             [
              0.8888888888888888,
              "#fdca26"
             ],
             [
              1,
              "#f0f921"
             ]
            ],
            "type": "surface"
           }
          ],
          "table": [
           {
            "cells": {
             "fill": {
              "color": "#EBF0F8"
             },
             "line": {
              "color": "white"
             }
            },
            "header": {
             "fill": {
              "color": "#C8D4E3"
             },
             "line": {
              "color": "white"
             }
            },
            "type": "table"
           }
          ]
         },
         "layout": {
          "annotationdefaults": {
           "arrowcolor": "#2a3f5f",
           "arrowhead": 0,
           "arrowwidth": 1
          },
          "autotypenumbers": "strict",
          "coloraxis": {
           "colorbar": {
            "outlinewidth": 0,
            "ticks": ""
           }
          },
          "colorscale": {
           "diverging": [
            [
             0,
             "#8e0152"
            ],
            [
             0.1,
             "#c51b7d"
            ],
            [
             0.2,
             "#de77ae"
            ],
            [
             0.3,
             "#f1b6da"
            ],
            [
             0.4,
             "#fde0ef"
            ],
            [
             0.5,
             "#f7f7f7"
            ],
            [
             0.6,
             "#e6f5d0"
            ],
            [
             0.7,
             "#b8e186"
            ],
            [
             0.8,
             "#7fbc41"
            ],
            [
             0.9,
             "#4d9221"
            ],
            [
             1,
             "#276419"
            ]
           ],
           "sequential": [
            [
             0,
             "#0d0887"
            ],
            [
             0.1111111111111111,
             "#46039f"
            ],
            [
             0.2222222222222222,
             "#7201a8"
            ],
            [
             0.3333333333333333,
             "#9c179e"
            ],
            [
             0.4444444444444444,
             "#bd3786"
            ],
            [
             0.5555555555555556,
             "#d8576b"
            ],
            [
             0.6666666666666666,
             "#ed7953"
            ],
            [
             0.7777777777777778,
             "#fb9f3a"
            ],
            [
             0.8888888888888888,
             "#fdca26"
            ],
            [
             1,
             "#f0f921"
            ]
           ],
           "sequentialminus": [
            [
             0,
             "#0d0887"
            ],
            [
             0.1111111111111111,
             "#46039f"
            ],
            [
             0.2222222222222222,
             "#7201a8"
            ],
            [
             0.3333333333333333,
             "#9c179e"
            ],
            [
             0.4444444444444444,
             "#bd3786"
            ],
            [
             0.5555555555555556,
             "#d8576b"
            ],
            [
             0.6666666666666666,
             "#ed7953"
            ],
            [
             0.7777777777777778,
             "#fb9f3a"
            ],
            [
             0.8888888888888888,
             "#fdca26"
            ],
            [
             1,
             "#f0f921"
            ]
           ]
          },
          "colorway": [
           "#636efa",
           "#EF553B",
           "#00cc96",
           "#ab63fa",
           "#FFA15A",
           "#19d3f3",
           "#FF6692",
           "#B6E880",
           "#FF97FF",
           "#FECB52"
          ],
          "font": {
           "color": "#2a3f5f"
          },
          "geo": {
           "bgcolor": "white",
           "lakecolor": "white",
           "landcolor": "#E5ECF6",
           "showlakes": true,
           "showland": true,
           "subunitcolor": "white"
          },
          "hoverlabel": {
           "align": "left"
          },
          "hovermode": "closest",
          "mapbox": {
           "style": "light"
          },
          "paper_bgcolor": "white",
          "plot_bgcolor": "#E5ECF6",
          "polar": {
           "angularaxis": {
            "gridcolor": "white",
            "linecolor": "white",
            "ticks": ""
           },
           "bgcolor": "#E5ECF6",
           "radialaxis": {
            "gridcolor": "white",
            "linecolor": "white",
            "ticks": ""
           }
          },
          "scene": {
           "xaxis": {
            "backgroundcolor": "#E5ECF6",
            "gridcolor": "white",
            "gridwidth": 2,
            "linecolor": "white",
            "showbackground": true,
            "ticks": "",
            "zerolinecolor": "white"
           },
           "yaxis": {
            "backgroundcolor": "#E5ECF6",
            "gridcolor": "white",
            "gridwidth": 2,
            "linecolor": "white",
            "showbackground": true,
            "ticks": "",
            "zerolinecolor": "white"
           },
           "zaxis": {
            "backgroundcolor": "#E5ECF6",
            "gridcolor": "white",
            "gridwidth": 2,
            "linecolor": "white",
            "showbackground": true,
            "ticks": "",
            "zerolinecolor": "white"
           }
          },
          "shapedefaults": {
           "line": {
            "color": "#2a3f5f"
           }
          },
          "ternary": {
           "aaxis": {
            "gridcolor": "white",
            "linecolor": "white",
            "ticks": ""
           },
           "baxis": {
            "gridcolor": "white",
            "linecolor": "white",
            "ticks": ""
           },
           "bgcolor": "#E5ECF6",
           "caxis": {
            "gridcolor": "white",
            "linecolor": "white",
            "ticks": ""
           }
          },
          "title": {
           "x": 0.05
          },
          "xaxis": {
           "automargin": true,
           "gridcolor": "white",
           "linecolor": "white",
           "ticks": "",
           "title": {
            "standoff": 15
           },
           "zerolinecolor": "white",
           "zerolinewidth": 2
          },
          "yaxis": {
           "automargin": true,
           "gridcolor": "white",
           "linecolor": "white",
           "ticks": "",
           "title": {
            "standoff": 15
           },
           "zerolinecolor": "white",
           "zerolinewidth": 2
          }
         }
        },
        "title": {
         "text": "Real world vs. Synthetic Correlations"
        },
        "xaxis": {
         "anchor": "y",
         "domain": [
          0,
          0.4
         ]
        },
        "xaxis2": {
         "anchor": "y2",
         "domain": [
          0.6000000000000001,
          1
         ]
        },
        "yaxis": {
         "anchor": "x",
         "domain": [
          0,
          1
         ]
        },
        "yaxis2": {
         "anchor": "x2",
         "domain": [
          0,
          1
         ]
        }
       }
      },
      "text/html": [
       "<div>                            <div id=\"f4a6b68d-ea03-4329-b60d-c864c7eeb1d2\" class=\"plotly-graph-div\" style=\"height:525px; width:100%;\"></div>            <script type=\"text/javascript\">                require([\"plotly\"], function(Plotly) {                    window.PLOTLYENV=window.PLOTLYENV || {};                                    if (document.getElementById(\"f4a6b68d-ea03-4329-b60d-c864c7eeb1d2\")) {                    Plotly.newPlot(                        \"f4a6b68d-ea03-4329-b60d-c864c7eeb1d2\",                        [{\"x\":[\"EventDate\",\"DATE\",\"PatientID\",\"BirthDate\",\"DeathDate\",\"RACE\",\"ETHNICITY\",\"GENDER\",\"BIRTHPLACE\",\"ADDRESS\",\"StartDate\",\"EndDate\",\"ConditionDesc\",\"EncounterID\",\"EncounterCode\",\"EncounterDesc\",\"EncounterReason\",\"EncounterReasonDesc\",\"ObsCode\",\"ObsDesc\",\"ObsValue\",\"ObsValueFloat\",\"UNITS\",\"ProcedureDate\",\"ProcedureDesc\",\"ProcedureReason\"],\"y\":[\"EventDate\",\"DATE\",\"PatientID\",\"BirthDate\",\"DeathDate\",\"RACE\",\"ETHNICITY\",\"GENDER\",\"BIRTHPLACE\",\"ADDRESS\",\"StartDate\",\"EndDate\",\"ConditionDesc\",\"EncounterID\",\"EncounterCode\",\"EncounterDesc\",\"EncounterReason\",\"EncounterReasonDesc\",\"ObsCode\",\"ObsDesc\",\"ObsValue\",\"ObsValueFloat\",\"UNITS\",\"ProcedureDate\",\"ProcedureDesc\",\"ProcedureReason\"],\"z\":[[1.0,1.0,1.0,1.0,1.0,0.04047035696372264,0.07724141564205511,0.026434111917258783,0.0,0.13767272892410468,0.7204830521600286,0.7213297656840616,0.13899764435169432,0.23698134059359283,0.151806789381063,0.07817481637090262,0.22570524379355703,0.18505705166371467,0.0,0.0,0.17058167312318562,0.17058167312318562,0.0,0.651222119392127,0.12347922619236248,0.33831247924594693],[0.9940238897560599,1.0,0.9938055616674953,0.9938055616674953,1.0,0.04028853974729915,0.07643478354446685,0.026433894023713884,0.0,0.13648928749510622,0.7159965494925034,0.7168243580114746,0.13740427205932595,0.23498243720628623,0.15175814655393402,0.07689603730248087,0.2239748613197738,0.18296244740652082,0.0,0.0,0.16743547502859404,0.16743547502859404,0.0,0.6471537159507674,0.12187927834125725,0.3382534954341699],[0.9647541751414518,0.9645422758730701,1.0,1.0,1.0,0.03952198994242765,0.07189495552665796,0.02420671605285057,0.0,0.12822421184669403,0.7204830521600286,0.7213297656840616,0.12918640008575344,0.2219050667206667,0.14970473270972767,0.07201065101532148,0.22125484287805952,0.1707871815853645,0.0,0.0,0.1583544818890813,0.1583544818890813,0.0,0.6512221193921274,0.11387891676867506,0.33704988036509714],[0.9647541751414518,0.9645422758730701,1.0,1.0,1.0,0.03952198994242765,0.07189495552665796,0.02420671605285057,0.0,0.12822421184669403,0.7204830521600286,0.7213297656840616,0.12918640008575344,0.2219050667206667,0.14970473270972767,0.07201065101532148,0.22125484287805952,0.1707871815853645,0.0,0.0,0.1583544818890813,0.1583544818890813,0.0,0.6512221193921274,0.11387891676867506,0.33704988036509714],[0.08438257955332094,0.08488989089993501,0.08746536861677622,0.08746536861677622,1.0,0.003999366548269701,0.006957664705928197,0.003104928201106507,0.0,0.012788506964848225,0.06274019189641054,0.06361628313964164,0.011797219916531739,0.020280997014876064,0.047661215791520856,0.006522747603064658,0.094407227333387,0.010533593850325445,0.0,0.0,0.03629074277442829,0.03629074277442829,0.0,0.05713101735520816,0.009686425076603335,0.12907543013997513],[0.010403128761724856,0.010418654671035346,0.010530502010937992,0.010530502010937992,0.012183311577271906,1.0,0.37750798562011756,0.08377027887665953,0.0,0.23337097014969527,0.025663041477854198,0.02535736786948408,0.07908540554271458,0.19704693834374487,0.27091185533883483,0.08943910480310262,0.2565472494908934,0.12089840562492545,0.0,0.0,0.2575215318276383,0.2575215318276383,0.0,0.03367564907166191,0.09371323101031706,0.16491621983587088],[0.05259579459383116,0.05235944251573291,0.050743748811380864,0.050743748811380864,0.05614505277485254,1.0,1.0,0.3238788577542533,0.0,0.659010869521736,0.0983315506304954,0.0981056361078726,0.27449155690531624,0.5223334596275794,0.32391297416950005,0.2164527173197381,0.4901619686908353,0.4389091066978265,0.0,0.0,0.5726301445742291,0.5726301445742291,0.0,0.13302426093038763,0.3172261700793077,0.7525351552056577],[0.004967791020927591,0.004997616378394096,0.004715392006555478,0.004715392006555478,0.006915082378863575,0.061243727603783396,0.08938824215185284,1.0,0.0,0.1796203729131352,0.0075963142375159,0.007577778158875734,0.059036508118545265,0.14161392093756248,0.06277725180560895,0.033777962110129726,0.04539284395840076,0.07706555544724909,0.0,0.0,0.22518727132366806,0.22518727132366806,0.0,0.016705962730517707,0.038844354008953724,0.26366810156442466],[0.0,0.0,0.0,0.0,0.0,0.0,0.0,0.0,1.0,0.0,0.0,0.0,0.0,0.0,0.0,0.0,0.0,0.0,0.0,0.0,0.0,0.0,0.0,0.0,0.0,0.0],[0.13117866050964522,0.13083291432602334,0.1266393411643113,0.1266393411643113,0.14440502888457027,0.8650379558539695,0.9221616405614929,0.9106935712756807,0.0,1.0,0.20905144626937536,0.20885253099554046,0.44945513289272193,0.7310336238099788,0.5296436495429683,0.4173703129347833,0.605845910767093,0.6444991998030413,0.0,0.0,0.8241556797549815,0.8241556797549815,0.0,0.2588126063314916,0.490971593062374,0.944851052166552],[0.959697668244983,0.9594553690606898,0.9947587613230828,0.9947587613230828,0.9903842276339256,0.13298169286701314,0.1923546821665925,0.05384123317300286,0.0,0.29224600006127677,1.0,0.9961878840854818,0.29008811665258827,0.41754156680566634,0.2515262523692518,0.15897407702510952,0.43590991396900064,0.3844158521408661,0.0,0.0,0.2596943106073676,0.2596943106073676,0.0,0.6477869472258271,0.2534458702962221,0.49722890329953495],[0.9567938165045622,0.9565340592507884,0.9917488217807169,0.9917488217807169,1.0,0.1308463880155591,0.1911074723162896,0.053484482674757555,0.0,0.2907428062581544,0.9920078101921103,1.0,0.28619929511068865,0.4142712165559521,0.2439284672011275,0.1583805364967648,0.43784605326953235,0.37975364302206593,0.0,0.0,0.2685143184544675,0.2685143184544675,0.0,0.6458100693016117,0.2519619088818373,0.49001646073619437],[0.12343291902139712,0.12275154668724941,0.11891145386794007,0.11891145386794007,0.12415106153059555,0.2732077197492346,0.35797422212231444,0.27896237231242904,0.0,0.4188848304634356,0.19339392501849295,0.19160534194874593,1.0,0.5412671180796523,0.8640375331333758,0.6725077442014674,0.9420431767628746,0.9482881126326859,0.0,0.0,0.4421296530169622,0.4421296530169622,0.0,0.23692957602775142,0.2477465321180739,0.6801911049871772],[0.3077202730083194,0.30695911847332463,0.29867062373592906,0.29867062373592906,0.3120889993594268,0.9953703723463351,0.9960680457425011,0.9784740467765985,0.0,0.9962401465195588,0.40703429583853856,0.40554795018495365,0.7914619527595954,1.0,0.9999999999992518,0.9982514138769927,0.9999999999999999,1.0,0.0,0.0,0.9163178598710714,0.9163178598710714,0.0,0.4531212503406249,0.5726316160619718,0.9465668001380414],[0.151806789381063,0.15175814655393402,0.14970473270972767,0.14970473270972767,0.047661215791520856,0.27091185533883483,0.32391297416950005,0.06277725180560895,0.0,0.5296436495429683,0.2515262523692518,0.2439284672011275,0.8640375331333758,0.9999999999992518,1.0,0.9999994904536867,-0.05294058108660525,1.0000000000000002,0.0,0.0,-0.14741436062522997,-0.14741436062522997,0.0,0.054129582718115875,0.3297763173864101,0.05062946064524109],[0.0318257628699841,0.031493366736183394,0.03038729368853617,0.03038729368853617,0.03146949177079753,0.14164865583802339,0.12941189573000225,0.0731723163322815,0.0,0.17832746537392066,0.048587840239752204,0.04861040689400321,0.3083086312246196,0.31297520289206365,0.9999994904536867,1.0,0.22049650392404788,0.32675674291836876,0.0,0.0,0.33114353520053735,0.33114353520053735,0.0,0.07038772640841907,0.10350350635547181,0.5454040724752361],[0.22570524379355703,0.2239748613197738,0.22125484287805952,0.22125484287805952,0.094407227333387,0.2565472494908934,0.4901619686908353,0.04539284395840076,0.0,0.605845910767093,0.43590991396900064,0.43784605326953235,0.9420431767628746,0.9999999999999999,-0.05294058108660525,0.22049650392404788,1.0,1.0,0.0,0.0,-0.15372675604471953,-0.15372675604471953,0.0,0.1778604940581624,0.2512472281818334,0.009796355129836962],[0.09761967887851214,0.09670010154345118,0.09370325255107935,0.09370325255107935,0.07842008524998567,0.29685349928390253,0.35858285233402537,0.22186995840895982,0.0,0.37247322349074063,0.15441098694112115,0.15348373915968808,0.7744534661464015,0.4492570290707342,1.0000000000000002,1.0,1.0,1.0,0.0,0.0,0.49309200136921727,0.49309200136921727,0.0,0.1778604940581624,0.21027047672116866,0.9339710413717052],[0.0,0.0,0.0,0.0,0.0,0.0,0.0,0.0,0.0,0.0,0.0,0.0,0.0,0.0,0.0,0.0,0.0,0.0,1.0,0.0,0.0,0.0,0.0,0.0,0.0,0.0],[0.0,0.0,0.0,0.0,0.0,0.0,0.0,0.0,0.0,0.0,0.0,0.0,0.0,0.0,0.0,0.0,0.0,0.0,0.0,1.0,0.0,0.0,0.0,0.0,0.0,0.0],[0.17058167312318562,0.16743547502859404,0.1583544818890813,0.1583544818890813,0.03629074277442829,0.2575215318276383,0.5726301445742291,0.22518727132366806,0.0,0.8241556797549815,0.2596943106073676,0.2685143184544675,0.4421296530169622,0.9163178598710714,-0.14741436062522997,0.33114353520053735,-0.15372675604471953,0.49309200136921727,0.0,0.0,1.0,0.999999999999999,0.0,0.04129148259253189,0.34283419982592456,-0.35628570376292734],[0.17058167312318562,0.16743547502859404,0.1583544818890813,0.1583544818890813,0.03629074277442829,0.2575215318276383,0.5726301445742291,0.22518727132366806,0.0,0.8241556797549815,0.2596943106073676,0.2685143184544675,0.4421296530169622,0.9163178598710714,-0.14741436062522997,0.33114353520053735,-0.15372675604471953,0.49309200136921727,0.0,0.0,0.999999999999999,1.0,0.0,0.04129148259253189,0.34283419982592456,-0.35628570376292734],[0.0,0.0,0.0,0.0,0.0,0.0,0.0,0.0,0.0,0.0,0.0,0.0,0.0,0.0,0.0,0.0,0.0,0.0,0.0,0.0,0.0,0.0,1.0,0.0,0.0,0.0],[0.9565853620158838,0.9563243515256254,0.9915327517246866,0.9915327517246866,0.9945205186211338,0.1924348048803675,0.286962169006416,0.1305772451716258,0.0,0.39899250981152706,0.7143583247352144,0.715179230182991,0.3919135737710884,0.5125863777883384,0.23741071389346738,0.25396833513673156,0.478942767779058,0.478942767779058,0.0,0.0,0.16686498811690068,0.16686498811690068,0.0,1.0,0.35014098866270477,0.5750855134769889],[0.06518949873570434,0.06473166745409353,0.06231755463085101,0.06231755463085101,0.060603048157789434,0.1924676373556383,0.24595290384096333,0.10912218463975593,0.0,0.272035033025446,0.10045193138295286,0.10028457218272852,0.14728813634777776,0.23281829680856078,0.3297763173864101,0.1342229723838196,0.2512472281818334,0.20169978200346797,0.0,0.0,0.34283419982592456,0.34283419982592456,0.0,0.12584388250691544,1.0,0.6574158573684039],[0.33831247924594693,0.3382534954341699,0.33704988036509714,0.33704988036509714,0.12907543013997513,0.16491621983587088,0.7525351552056577,0.26366810156442466,0.0,0.944851052166552,0.49722890329953495,0.49001646073619437,0.6801911049871772,0.9465668001380414,0.05062946064524109,0.5454040724752361,0.009796355129836962,0.9339710413717052,0.0,0.0,-0.35628570376292734,-0.35628570376292734,0.0,0.2608888895603395,0.6574158573684039,1.0]],\"type\":\"heatmap\",\"xaxis\":\"x\",\"yaxis\":\"y\",\"showscale\":false},{\"x\":[\"EventDate\",\"DATE\",\"PatientID\",\"BirthDate\",\"DeathDate\",\"RACE\",\"ETHNICITY\",\"GENDER\",\"BIRTHPLACE\",\"ADDRESS\",\"StartDate\",\"EndDate\",\"ConditionDesc\",\"EncounterID\",\"EncounterCode\",\"EncounterDesc\",\"EncounterReason\",\"EncounterReasonDesc\",\"ObsCode\",\"ObsDesc\",\"ObsValue\",\"ObsValueFloat\",\"UNITS\",\"ProcedureDate\",\"ProcedureDesc\",\"ProcedureReason\"],\"y\":[\"EventDate\",\"DATE\",\"PatientID\",\"BirthDate\",\"DeathDate\",\"RACE\",\"ETHNICITY\",\"GENDER\",\"BIRTHPLACE\",\"ADDRESS\",\"StartDate\",\"EndDate\",\"ConditionDesc\",\"EncounterID\",\"EncounterCode\",\"EncounterDesc\",\"EncounterReason\",\"EncounterReasonDesc\",\"ObsCode\",\"ObsDesc\",\"ObsValue\",\"ObsValueFloat\",\"UNITS\",\"ProcedureDate\",\"ProcedureDesc\",\"ProcedureReason\"],\"z\":[[1.0,0.9987720505628925,0.9984892895672203,0.9982006946287773,0.11073146364994227,0.044482001415444145,0.07646237246088532,0.02147757982688494,0.0,0.12917896423979824,0.7109901091451629,0.7155286867031148,0.1390670384787055,0.21681489604431725,0.16934041056679397,0.08038937760522319,0.27800981947203646,0.18833167682859403,0.0,0.0,0.16546831448919863,0.16546831448919863,0.0,0.6483256849810277,0.10583101609020129,0.29876809297889895],[0.9915185273831735,1.0,0.9919971138611823,0.9917103953665509,0.10969533051604861,0.04301225433576852,0.07491119256592511,0.021178298760113606,0.0,0.12738683644514986,0.7049111661096398,0.7094019214617887,0.13688059128464566,0.21386736943885287,0.16772404484175693,0.07963920193938152,0.2772459293167982,0.18766677805319948,0.0,0.0,0.16532858560702116,0.16532858560702116,0.0,0.6439559510821037,0.10427034393520669,0.29702130969034174],[0.9619996487403579,0.9627365460696872,1.0,0.9997109684185315,0.10165500663730125,0.043704854401240376,0.07206020893701284,0.020432725092495888,0.0,0.12015790504619035,0.7095142548806445,0.7143195491786242,0.1310156844252667,0.204002240833251,0.15160975884828498,0.07403007758691321,0.27486561706538226,0.17856775823770338,0.0,0.0,0.15621435720207555,0.15621435720207555,0.0,0.6483478126348277,0.10130593284494412,0.29342063316534434],[0.9619996487403579,0.9627365460696872,1.0,1.0,0.10165500663730125,0.04477511992472156,0.07245919749328512,0.02065332925316531,0.0,0.12044722209709333,0.7095936161001737,0.7143995347219134,0.13134434987246263,0.2042161770359337,0.1592349038427075,0.07474524838337816,0.27486561706538226,0.17856775823770338,0.0,0.0,0.15664583623464406,0.15664583623464406,0.0,0.6485377030220076,0.10182167721586964,0.29342063316534434],[0.013665697690262076,0.013636862342709758,0.013021410761040016,0.013017647162094803,1.0,0.0038334052862964516,0.006313561386499302,0.002489696999957584,0.0,0.01233293590629707,0.022520096277074922,0.022229636427883805,0.01537122269412641,0.023022972057429016,0.01988528637613636,0.009065166233552968,0.09742369963171496,0.015761704311090707,0.0,0.0,0.026730369796619226,0.026730369796619226,0.0,0.02708282407370216,0.01211193579391716,0.07579072949414378],[0.011576975888535611,0.011276350363468439,0.01180616868877693,0.012091787914638118,0.008084157720853427,1.0,0.37043071572448105,0.07459986780753289,0.0,0.23330900579186303,0.023002249609479424,0.023187065857289194,0.011610853997715163,0.19910003737098889,0.054731637584027895,0.006693990016605563,0.09715295431827403,0.020540254946760702,0.0,0.0,0.2795961888661214,0.2795961888661214,0.0,0.034277576117586576,0.0934873968768402,0.18317728721510168],[0.053381364961780496,0.05268101856046718,0.052216278936072356,0.05249021836386146,0.035715402118633756,0.9936606392482017,1.0,0.31181404268578766,0.0,0.6699811202141513,0.09604365302415742,0.09316000933782374,0.05521952657277281,0.5347609410759178,0.09508305599710011,0.030343092848015226,0.13963997834813283,0.07577280179815142,0.0,0.0,0.5992131056807131,0.5992131056807131,0.0,0.134944423246462,0.30085676976653825,0.7192670260227694],[0.0041147274086542574,0.0040871286472603085,0.004063710887276472,0.004106392560263641,0.0038755870803062905,0.054944574419080495,0.08556571475952443,1.0,0.0,0.1570060388194761,0.008912888001152383,0.008625576162213452,0.004552494189780523,0.12958792896887064,0.017894436543993125,0.002208490878335351,0.01950163135723592,0.0051522331359744,0.0,0.0,0.21207414955754994,0.21207414955754994,0.0,0.015912570483272888,0.04070616784316428,0.19496207280781452],[0.0,0.0,0.0,0.0,0.0,0.0,0.0,0.0,1.0,0.0,0.0,0.0,0.0,0.0,0.0,0.0,0.0,0.0,0.0,0.0,0.0,0.0,0.0,0.0,0.0,0.0],[0.12437128268557968,0.1235430772205123,0.12007405030914636,0.12032837669796058,0.09621305863534368,0.8630759384463429,0.9239510739157021,0.7889193174671265,0.0,1.0,0.19985112051136886,0.19584400919263031,0.12674991406145653,0.738017055267791,0.16467710058707102,0.0658865603006998,0.2244838604653148,0.1602070921984758,0.0,0.0,0.8340713914533271,0.8340713914533271,0.0,0.2485788218500911,0.46029950501156836,0.961989465571793],[0.9574947612254949,0.9562529418374891,0.9917505954577293,0.9915748463221159,0.24574365964163042,0.11902339944034689,0.18526765820830202,0.06264660698573103,0.0,0.27954460786285856,1.0,0.9951824567374712,0.27131527586007387,0.3978016812790282,0.25094749195000005,0.1716112473208151,0.4218206109827432,0.35671788606170013,0.0,0.0,0.2729294902369048,0.2729294902369048,0.0,0.6721188287026327,0.23922200124362006,0.4358646350966906],[0.9560854989356268,0.9548333699907103,0.9906738840278494,0.9904984460958434,0.24068070354152415,0.11904322054007864,0.17830244527847444,0.06014289139357549,0.0,0.2718013797620985,0.9874146023505301,1.0,0.26587425133992537,0.39136032545485216,0.2439695968428954,0.16730762077687705,0.42596166709324806,0.35013056709452245,0.0,0.0,0.2625167722461816,0.2625167722461816,0.0,0.6689761153787175,0.22997563839440535,0.4315151274265466],[0.11786164607875325,0.11685726443261828,0.11524977422116857,0.11550549497812994,0.10555916397509053,0.037809562392227894,0.06703460729832805,0.020127423347199736,0.0,0.11157519493250959,0.1707456685015774,0.1686377871684862,1.0,0.17942163064764854,0.8354277913361258,0.671058513607026,0.9500675362347757,0.9472625027943464,0.0,0.0,0.16245281673708192,0.16245281673708192,0.0,0.2141054266143076,0.11474590271870104,0.24695445971092578],[0.2822975952548038,0.2804969456142852,0.27569030708199255,0.27589965545800954,0.24289505861326638,0.9960441619974495,0.9973230016952062,0.8803973851563002,0.0,0.9980588384237098,0.38460225738018344,0.38135125263935604,0.27564147504722214,1.0,0.29329286727624077,0.17449333139562792,0.41158214413157473,0.34189310303163184,0.0,0.0,0.9198301928313902,0.9198301928313902,0.0,0.4298045983646942,0.5799184287351176,0.963712229695465],[0.16934041056679397,0.16772404484175693,0.15160975884828498,0.1592349038427075,0.01988528637613636,0.054731637584027895,0.09508305599710011,0.017894436543993125,0.0,0.16467710058707102,0.25094749195000005,0.2439695968428954,0.8354277913361258,0.29329286727624077,1.0,0.9999993595868754,-0.05737232928559016,1.0,0.0,0.0,0.030488976533025163,0.030488976533025163,0.0,0.048399248895617995,0.1290254576792574,0.037093600079652664],[0.03132166256231684,0.03125645426177156,0.029935986953397845,0.030216446329186533,0.028612160442960645,0.010032443386997969,0.016937486099739957,0.0044880392335000545,0.0,0.026665352676915312,0.04965466726887482,0.04879019013900794,0.3085848618402961,0.052225173096705615,0.9999993595868754,1.0,0.15763634158305387,0.23732108196017002,0.0,0.0,0.0929965491685787,0.0929965491685787,0.0,0.06763543937670372,0.03488589134884731,0.14836961724679884],[0.27800981947203646,0.2772459293167982,0.27486561706538226,0.27486561706538226,0.09742369963171496,0.09715295431827403,0.13963997834813283,0.01950163135723592,0.0,0.2244838604653148,0.4218206109827432,0.42596166709324806,0.9500675362347757,0.41158214413157473,-0.05737232928559016,0.15763634158305387,1.0,0.9962632293875592,0.0,0.0,0.0005844724106977943,0.0005844724106977943,0.0,0.15704487251818716,0.1605075714251486,0.08816722025973275],[0.09059767956965545,0.0907614732698972,0.08887592083585105,0.08887592083585105,0.06267102705994587,0.039036668924603814,0.05250183505267609,0.012866032123965141,0.0,0.07988008298201468,0.12961266328698792,0.1281299501267831,0.7843610277937973,0.12991932374446455,1.0,0.9781198011911418,0.9962632293875592,1.0,0.0,0.0,0.16992829505959658,0.16992829505959658,0.0,0.15914558113498925,0.09778403421340118,0.2246555433876138],[0.0,0.0,0.0,0.0,0.0,0.0,0.0,0.0,0.0,0.0,0.0,0.0,0.0,0.0,0.0,0.0,0.0,0.0,1.0,0.0,0.0,0.0,0.0,0.0,0.0,0.0],[0.0,0.0,0.0,0.0,0.0,0.0,0.0,0.0,0.0,0.0,0.0,0.0,0.0,0.0,0.0,0.0,0.0,0.0,0.0,1.0,0.0,0.0,0.0,0.0,0.0,0.0],[0.16546831448919863,0.16532858560702116,0.15621435720207555,0.15664583623464406,0.026730369796619226,0.2795961888661214,0.5992131056807131,0.21207414955754994,0.0,0.8340713914533271,0.2729294902369048,0.2625167722461816,0.16245281673708192,0.9198301928313902,0.030488976533025163,0.0929965491685787,0.0005844724106977943,0.16992829505959658,0.0,0.0,1.0,0.9999999999999988,0.0,0.04318828252014536,0.3023336492595509,-0.3217481916922632],[0.16546831448919863,0.16532858560702116,0.15621435720207555,0.15664583623464406,0.026730369796619226,0.2795961888661214,0.5992131056807131,0.21207414955754994,0.0,0.8340713914533271,0.2729294902369048,0.2625167722461816,0.16245281673708192,0.9198301928313902,0.030488976533025163,0.0929965491685787,0.0005844724106977943,0.16992829505959658,0.0,0.0,0.9999999999999988,1.0,0.0,0.04318828252014536,0.3023336492595509,-0.3217481916922632],[0.0,0.0,0.0,0.0,0.0,0.0,0.0,0.0,0.0,0.0,0.0,0.0,0.0,0.0,0.0,0.0,0.0,0.0,0.0,0.0,0.0,0.0,1.0,0.0,0.0,0.0],[0.9510264428400288,0.951526905158242,0.9871335487993081,0.9871372676100465,0.3219085744731777,0.1931962354279713,0.28353873730876517,0.1218375163960681,0.0,0.3787347675815583,0.7321036623659716,0.7344128988438069,0.3705772410614306,0.4842307450902228,0.23113047082355745,0.25464986075056334,0.4672026382985849,0.46991180019792106,0.0,0.0,0.17023542899878366,0.17023542899878366,0.0,1.0,0.3188857346310302,0.5251424146370461],[0.05715849881531787,0.056727572723238424,0.05678991590100772,0.05706253340327179,0.0530054638792755,0.1940037417718481,0.23274787856348972,0.11474059639185825,0.0,0.2582141518736454,0.09593920606610089,0.09295655070585386,0.07312346107295904,0.24055627846543282,0.1290254576792574,0.04836824829484545,0.1605075714251486,0.09979656938286931,0.0,0.0,0.3023336492595509,0.3023336492595509,0.0,0.11740959093098484,1.0,0.6024944306329433],[0.29876809297889895,0.29702130969034174,0.29342063316534434,0.29342063316534434,0.07579072949414378,0.18317728721510168,0.7192670260227694,0.19496207280781452,0.0,0.961989465571793,0.4358646350966906,0.4315151274265466,0.24695445971092578,0.963712229695465,0.037093600079652664,0.14836961724679884,0.08816722025973275,0.2246555433876138,0.0,0.0,-0.3217481916922632,-0.3217481916922632,0.0,0.23247740503718206,0.6024944306329433,1.0]],\"type\":\"heatmap\",\"xaxis\":\"x2\",\"yaxis\":\"y2\",\"showscale\":false}],                        {\"template\":{\"data\":{\"bar\":[{\"error_x\":{\"color\":\"#2a3f5f\"},\"error_y\":{\"color\":\"#2a3f5f\"},\"marker\":{\"line\":{\"color\":\"#E5ECF6\",\"width\":0.5},\"pattern\":{\"fillmode\":\"overlay\",\"size\":10,\"solidity\":0.2}},\"type\":\"bar\"}],\"barpolar\":[{\"marker\":{\"line\":{\"color\":\"#E5ECF6\",\"width\":0.5},\"pattern\":{\"fillmode\":\"overlay\",\"size\":10,\"solidity\":0.2}},\"type\":\"barpolar\"}],\"carpet\":[{\"aaxis\":{\"endlinecolor\":\"#2a3f5f\",\"gridcolor\":\"white\",\"linecolor\":\"white\",\"minorgridcolor\":\"white\",\"startlinecolor\":\"#2a3f5f\"},\"baxis\":{\"endlinecolor\":\"#2a3f5f\",\"gridcolor\":\"white\",\"linecolor\":\"white\",\"minorgridcolor\":\"white\",\"startlinecolor\":\"#2a3f5f\"},\"type\":\"carpet\"}],\"choropleth\":[{\"colorbar\":{\"outlinewidth\":0,\"ticks\":\"\"},\"type\":\"choropleth\"}],\"contour\":[{\"colorbar\":{\"outlinewidth\":0,\"ticks\":\"\"},\"colorscale\":[[0.0,\"#0d0887\"],[0.1111111111111111,\"#46039f\"],[0.2222222222222222,\"#7201a8\"],[0.3333333333333333,\"#9c179e\"],[0.4444444444444444,\"#bd3786\"],[0.5555555555555556,\"#d8576b\"],[0.6666666666666666,\"#ed7953\"],[0.7777777777777778,\"#fb9f3a\"],[0.8888888888888888,\"#fdca26\"],[1.0,\"#f0f921\"]],\"type\":\"contour\"}],\"contourcarpet\":[{\"colorbar\":{\"outlinewidth\":0,\"ticks\":\"\"},\"type\":\"contourcarpet\"}],\"heatmap\":[{\"colorbar\":{\"outlinewidth\":0,\"ticks\":\"\"},\"colorscale\":[[0.0,\"#0d0887\"],[0.1111111111111111,\"#46039f\"],[0.2222222222222222,\"#7201a8\"],[0.3333333333333333,\"#9c179e\"],[0.4444444444444444,\"#bd3786\"],[0.5555555555555556,\"#d8576b\"],[0.6666666666666666,\"#ed7953\"],[0.7777777777777778,\"#fb9f3a\"],[0.8888888888888888,\"#fdca26\"],[1.0,\"#f0f921\"]],\"type\":\"heatmap\"}],\"heatmapgl\":[{\"colorbar\":{\"outlinewidth\":0,\"ticks\":\"\"},\"colorscale\":[[0.0,\"#0d0887\"],[0.1111111111111111,\"#46039f\"],[0.2222222222222222,\"#7201a8\"],[0.3333333333333333,\"#9c179e\"],[0.4444444444444444,\"#bd3786\"],[0.5555555555555556,\"#d8576b\"],[0.6666666666666666,\"#ed7953\"],[0.7777777777777778,\"#fb9f3a\"],[0.8888888888888888,\"#fdca26\"],[1.0,\"#f0f921\"]],\"type\":\"heatmapgl\"}],\"histogram\":[{\"marker\":{\"pattern\":{\"fillmode\":\"overlay\",\"size\":10,\"solidity\":0.2}},\"type\":\"histogram\"}],\"histogram2d\":[{\"colorbar\":{\"outlinewidth\":0,\"ticks\":\"\"},\"colorscale\":[[0.0,\"#0d0887\"],[0.1111111111111111,\"#46039f\"],[0.2222222222222222,\"#7201a8\"],[0.3333333333333333,\"#9c179e\"],[0.4444444444444444,\"#bd3786\"],[0.5555555555555556,\"#d8576b\"],[0.6666666666666666,\"#ed7953\"],[0.7777777777777778,\"#fb9f3a\"],[0.8888888888888888,\"#fdca26\"],[1.0,\"#f0f921\"]],\"type\":\"histogram2d\"}],\"histogram2dcontour\":[{\"colorbar\":{\"outlinewidth\":0,\"ticks\":\"\"},\"colorscale\":[[0.0,\"#0d0887\"],[0.1111111111111111,\"#46039f\"],[0.2222222222222222,\"#7201a8\"],[0.3333333333333333,\"#9c179e\"],[0.4444444444444444,\"#bd3786\"],[0.5555555555555556,\"#d8576b\"],[0.6666666666666666,\"#ed7953\"],[0.7777777777777778,\"#fb9f3a\"],[0.8888888888888888,\"#fdca26\"],[1.0,\"#f0f921\"]],\"type\":\"histogram2dcontour\"}],\"mesh3d\":[{\"colorbar\":{\"outlinewidth\":0,\"ticks\":\"\"},\"type\":\"mesh3d\"}],\"parcoords\":[{\"line\":{\"colorbar\":{\"outlinewidth\":0,\"ticks\":\"\"}},\"type\":\"parcoords\"}],\"pie\":[{\"automargin\":true,\"type\":\"pie\"}],\"scatter\":[{\"marker\":{\"colorbar\":{\"outlinewidth\":0,\"ticks\":\"\"}},\"type\":\"scatter\"}],\"scatter3d\":[{\"line\":{\"colorbar\":{\"outlinewidth\":0,\"ticks\":\"\"}},\"marker\":{\"colorbar\":{\"outlinewidth\":0,\"ticks\":\"\"}},\"type\":\"scatter3d\"}],\"scattercarpet\":[{\"marker\":{\"colorbar\":{\"outlinewidth\":0,\"ticks\":\"\"}},\"type\":\"scattercarpet\"}],\"scattergeo\":[{\"marker\":{\"colorbar\":{\"outlinewidth\":0,\"ticks\":\"\"}},\"type\":\"scattergeo\"}],\"scattergl\":[{\"marker\":{\"colorbar\":{\"outlinewidth\":0,\"ticks\":\"\"}},\"type\":\"scattergl\"}],\"scattermapbox\":[{\"marker\":{\"colorbar\":{\"outlinewidth\":0,\"ticks\":\"\"}},\"type\":\"scattermapbox\"}],\"scatterpolar\":[{\"marker\":{\"colorbar\":{\"outlinewidth\":0,\"ticks\":\"\"}},\"type\":\"scatterpolar\"}],\"scatterpolargl\":[{\"marker\":{\"colorbar\":{\"outlinewidth\":0,\"ticks\":\"\"}},\"type\":\"scatterpolargl\"}],\"scatterternary\":[{\"marker\":{\"colorbar\":{\"outlinewidth\":0,\"ticks\":\"\"}},\"type\":\"scatterternary\"}],\"surface\":[{\"colorbar\":{\"outlinewidth\":0,\"ticks\":\"\"},\"colorscale\":[[0.0,\"#0d0887\"],[0.1111111111111111,\"#46039f\"],[0.2222222222222222,\"#7201a8\"],[0.3333333333333333,\"#9c179e\"],[0.4444444444444444,\"#bd3786\"],[0.5555555555555556,\"#d8576b\"],[0.6666666666666666,\"#ed7953\"],[0.7777777777777778,\"#fb9f3a\"],[0.8888888888888888,\"#fdca26\"],[1.0,\"#f0f921\"]],\"type\":\"surface\"}],\"table\":[{\"cells\":{\"fill\":{\"color\":\"#EBF0F8\"},\"line\":{\"color\":\"white\"}},\"header\":{\"fill\":{\"color\":\"#C8D4E3\"},\"line\":{\"color\":\"white\"}},\"type\":\"table\"}]},\"layout\":{\"annotationdefaults\":{\"arrowcolor\":\"#2a3f5f\",\"arrowhead\":0,\"arrowwidth\":1},\"autotypenumbers\":\"strict\",\"coloraxis\":{\"colorbar\":{\"outlinewidth\":0,\"ticks\":\"\"}},\"colorscale\":{\"diverging\":[[0,\"#8e0152\"],[0.1,\"#c51b7d\"],[0.2,\"#de77ae\"],[0.3,\"#f1b6da\"],[0.4,\"#fde0ef\"],[0.5,\"#f7f7f7\"],[0.6,\"#e6f5d0\"],[0.7,\"#b8e186\"],[0.8,\"#7fbc41\"],[0.9,\"#4d9221\"],[1,\"#276419\"]],\"sequential\":[[0.0,\"#0d0887\"],[0.1111111111111111,\"#46039f\"],[0.2222222222222222,\"#7201a8\"],[0.3333333333333333,\"#9c179e\"],[0.4444444444444444,\"#bd3786\"],[0.5555555555555556,\"#d8576b\"],[0.6666666666666666,\"#ed7953\"],[0.7777777777777778,\"#fb9f3a\"],[0.8888888888888888,\"#fdca26\"],[1.0,\"#f0f921\"]],\"sequentialminus\":[[0.0,\"#0d0887\"],[0.1111111111111111,\"#46039f\"],[0.2222222222222222,\"#7201a8\"],[0.3333333333333333,\"#9c179e\"],[0.4444444444444444,\"#bd3786\"],[0.5555555555555556,\"#d8576b\"],[0.6666666666666666,\"#ed7953\"],[0.7777777777777778,\"#fb9f3a\"],[0.8888888888888888,\"#fdca26\"],[1.0,\"#f0f921\"]]},\"colorway\":[\"#636efa\",\"#EF553B\",\"#00cc96\",\"#ab63fa\",\"#FFA15A\",\"#19d3f3\",\"#FF6692\",\"#B6E880\",\"#FF97FF\",\"#FECB52\"],\"font\":{\"color\":\"#2a3f5f\"},\"geo\":{\"bgcolor\":\"white\",\"lakecolor\":\"white\",\"landcolor\":\"#E5ECF6\",\"showlakes\":true,\"showland\":true,\"subunitcolor\":\"white\"},\"hoverlabel\":{\"align\":\"left\"},\"hovermode\":\"closest\",\"mapbox\":{\"style\":\"light\"},\"paper_bgcolor\":\"white\",\"plot_bgcolor\":\"#E5ECF6\",\"polar\":{\"angularaxis\":{\"gridcolor\":\"white\",\"linecolor\":\"white\",\"ticks\":\"\"},\"bgcolor\":\"#E5ECF6\",\"radialaxis\":{\"gridcolor\":\"white\",\"linecolor\":\"white\",\"ticks\":\"\"}},\"scene\":{\"xaxis\":{\"backgroundcolor\":\"#E5ECF6\",\"gridcolor\":\"white\",\"gridwidth\":2,\"linecolor\":\"white\",\"showbackground\":true,\"ticks\":\"\",\"zerolinecolor\":\"white\"},\"yaxis\":{\"backgroundcolor\":\"#E5ECF6\",\"gridcolor\":\"white\",\"gridwidth\":2,\"linecolor\":\"white\",\"showbackground\":true,\"ticks\":\"\",\"zerolinecolor\":\"white\"},\"zaxis\":{\"backgroundcolor\":\"#E5ECF6\",\"gridcolor\":\"white\",\"gridwidth\":2,\"linecolor\":\"white\",\"showbackground\":true,\"ticks\":\"\",\"zerolinecolor\":\"white\"}},\"shapedefaults\":{\"line\":{\"color\":\"#2a3f5f\"}},\"ternary\":{\"aaxis\":{\"gridcolor\":\"white\",\"linecolor\":\"white\",\"ticks\":\"\"},\"baxis\":{\"gridcolor\":\"white\",\"linecolor\":\"white\",\"ticks\":\"\"},\"bgcolor\":\"#E5ECF6\",\"caxis\":{\"gridcolor\":\"white\",\"linecolor\":\"white\",\"ticks\":\"\"}},\"title\":{\"x\":0.05},\"xaxis\":{\"automargin\":true,\"gridcolor\":\"white\",\"linecolor\":\"white\",\"ticks\":\"\",\"title\":{\"standoff\":15},\"zerolinecolor\":\"white\",\"zerolinewidth\":2},\"yaxis\":{\"automargin\":true,\"gridcolor\":\"white\",\"linecolor\":\"white\",\"ticks\":\"\",\"title\":{\"standoff\":15},\"zerolinecolor\":\"white\",\"zerolinewidth\":2}}},\"xaxis\":{\"anchor\":\"y\",\"domain\":[0.0,0.4]},\"yaxis\":{\"anchor\":\"x\",\"domain\":[0.0,1.0]},\"xaxis2\":{\"anchor\":\"y2\",\"domain\":[0.6000000000000001,1.0]},\"yaxis2\":{\"anchor\":\"x2\",\"domain\":[0.0,1.0]},\"title\":{\"text\":\"Real world vs. Synthetic Correlations\"}},                        {\"responsive\": true}                    ).then(function(){\n",
       "                            \n",
       "var gd = document.getElementById('f4a6b68d-ea03-4329-b60d-c864c7eeb1d2');\n",
       "var x = new MutationObserver(function (mutations, observer) {{\n",
       "        var display = window.getComputedStyle(gd).display;\n",
       "        if (!display || display === 'none') {{\n",
       "            console.log([gd, 'removed!']);\n",
       "            Plotly.purge(gd);\n",
       "            observer.disconnect();\n",
       "        }}\n",
       "}});\n",
       "\n",
       "// Listen for the removal of the full notebook cells\n",
       "var notebookContainer = gd.closest('#notebook-container');\n",
       "if (notebookContainer) {{\n",
       "    x.observe(notebookContainer, {childList: true});\n",
       "}}\n",
       "\n",
       "// Listen for the clearing of the current output cell\n",
       "var outputEl = gd.closest('.output');\n",
       "if (outputEl) {{\n",
       "    x.observe(outputEl, {childList: true});\n",
       "}}\n",
       "\n",
       "                        })                };                });            </script>        </div>"
      ]
     },
     "metadata": {},
     "output_type": "display_data"
    }
   ],
   "source": [
    "import plotly.express as px\n",
    "import plotly.graph_objects as go\n",
    "from plotly.subplots import make_subplots\n",
    "\n",
    "from gretel_synthetics.utils.header_clusters import _get_correlation_matrix\n",
    "\n",
    "synthetic_corr = _get_correlation_matrix(synthetic)\n",
    "realworld_corr = _get_correlation_matrix(DF)\n",
    "\n",
    "fig = make_subplots(rows=1, cols=2, horizontal_spacing=0.2)\n",
    "fig.update_layout(title_text=\"Real world vs. Synthetic Correlations\")\n",
    "trace1 = go.Heatmap(z=realworld_corr, y=realworld_corr.index, x=realworld_corr.columns)\n",
    "trace2 = go.Heatmap(z=synthetic_corr, y=synthetic_corr.index, x=synthetic_corr.columns)\n",
    "\n",
    "\n",
    "fig.add_trace(trace1, row=1, col=1)\n",
    "fig.add_trace(trace2, row=1, col=2)\n",
    "fig.update_traces(showscale=False)\n",
    "fig.show()"
   ]
  },
  {
   "cell_type": "code",
   "execution_count": null,
   "id": "38e44df3",
   "metadata": {},
   "outputs": [],
   "source": []
  }
 ],
 "metadata": {
  "kernelspec": {
   "display_name": "Python 3",
   "language": "python",
   "name": "python3"
  },
  "language_info": {
   "codemirror_mode": {
    "name": "ipython",
    "version": 3
   },
   "file_extension": ".py",
   "mimetype": "text/x-python",
   "name": "python",
   "nbconvert_exporter": "python",
   "pygments_lexer": "ipython3",
   "version": "3.8.8"
  }
 },
 "nbformat": 4,
 "nbformat_minor": 5
}
