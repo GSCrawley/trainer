{
 "cells": [
  {
   "cell_type": "markdown",
   "id": "18135fc4",
   "metadata": {},
   "source": [
    "# Gretel Trainer\n",
    "\n",
    "This notebook is designed to help users successfully train synthetic models on complex datasets with high row and column counts. The code works by intelligently dividing a dataset into a set of smaller datasets of correlated columns that can be parallelized and then joined together. "
   ]
  },
  {
   "cell_type": "code",
   "execution_count": null,
   "id": "e617d2e3",
   "metadata": {},
   "outputs": [],
   "source": [
    "!pip install -e git+https://github.com/gretelai/trainer.git"
   ]
  },
  {
   "cell_type": "code",
   "execution_count": 1,
   "id": "68871bd5",
   "metadata": {},
   "outputs": [],
   "source": [
    "from getpass import getpass\n",
    "\n",
    "import strategy\n",
    "import runner\n",
    "\n",
    "from gretel_client import configure_session, ClientConfig\n",
    "from gretel_client.projects import create_or_get_unique_project\n",
    "from gretel_client.projects.models import read_model_config\n",
    "from gretel_client.projects.jobs import Status\n",
    "from gretel_synthetics.utils.header_clusters import cluster\n",
    "\n",
    "import pandas as pd"
   ]
  },
  {
   "cell_type": "code",
   "execution_count": null,
   "id": "4ad5bcf6",
   "metadata": {},
   "outputs": [],
   "source": [
    "# Specify your Gretel API key\n",
    "\n",
    "\n",
    "configure_session(ClientConfig(api_key=getpass(prompt=\"Enter Gretel API key\"), \n",
    "                               endpoint=\"https://api.gretel.cloud\"))"
   ]
  },
  {
   "cell_type": "markdown",
   "id": "a203bbb8",
   "metadata": {},
   "source": [
    "## Project Settings\n",
    "\n",
    "Use the configuration options below to control parallelization settings.\n",
    "* `MAX_ROWS` sets the maximum number of rows per sub-model, which helps reduce per-job run time and the need to tune neural network parameters such as `learning_rate`, `batch_size`, and `rnn_units` for larger datasets. Typical values are 20,000-100,000 rows.\n",
    "* `MAX_HEADER_CLUSTERS` sets the maximum number of columns to include for each sub-model. Higher values help with maintaining complex correlations in datasets. Try a lower value if you have mixed text and numeric values, or if the model is not generating valid records. Typical values are 10-20 columns."
   ]
  },
  {
   "cell_type": "code",
   "execution_count": 2,
   "id": "1e3b0120",
   "metadata": {},
   "outputs": [
    {
     "name": "stdout",
     "output_type": "stream",
     "text": [
      "Follow model training at: https://console.gretel.cloud/mitre-health-ff62139634\n"
     ]
    }
   ],
   "source": [
    "MAX_ROWS = 20000 # Maximum row count per model\n",
    "MAX_HEADER_CLUSTERS = 20 # Max columns per cluster\n",
    "PROJECT_NAME = 'health-data'\n",
    "PROJECT = create_or_get_unique_project(name=PROJECT_NAME)\n",
    "\n",
    "print(f\"Follow model training at: {PROJECT.get_console_url()}\")"
   ]
  },
  {
   "cell_type": "markdown",
   "id": "dae267ea",
   "metadata": {},
   "source": [
    "## Dataset Preprocessing\n",
    "\n",
    "Preprocess the data before training the network. A few tips:\n",
    "* Try reducing floating point precision to a consistent number of decimal places (default: 4)\n",
    "* Fields containing complex random numbers (such as UIDs) can be difficult for language models to learn. Try dropping them, specifying them as model seeds to preserve them, or replacing them with a LabelEncoder."
   ]
  },
  {
   "cell_type": "code",
   "execution_count": 12,
   "id": "8bc77f34",
   "metadata": {},
   "outputs": [
    {
     "data": {
      "text/html": [
       "<div>\n",
       "<style scoped>\n",
       "    .dataframe tbody tr th:only-of-type {\n",
       "        vertical-align: middle;\n",
       "    }\n",
       "\n",
       "    .dataframe tbody tr th {\n",
       "        vertical-align: top;\n",
       "    }\n",
       "\n",
       "    .dataframe thead th {\n",
       "        text-align: right;\n",
       "    }\n",
       "</style>\n",
       "<table border=\"1\" class=\"dataframe\">\n",
       "  <thead>\n",
       "    <tr style=\"text-align: right;\">\n",
       "      <th></th>\n",
       "      <th>EventDate</th>\n",
       "      <th>DATE</th>\n",
       "      <th>PatientID</th>\n",
       "      <th>BirthDate</th>\n",
       "      <th>DeathDate</th>\n",
       "      <th>RACE</th>\n",
       "      <th>ETHNICITY</th>\n",
       "      <th>GENDER</th>\n",
       "      <th>BIRTHPLACE</th>\n",
       "      <th>ADDRESS</th>\n",
       "      <th>...</th>\n",
       "      <th>EncounterReason</th>\n",
       "      <th>EncounterReasonDesc</th>\n",
       "      <th>ObsCode</th>\n",
       "      <th>ObsDesc</th>\n",
       "      <th>ObsValue</th>\n",
       "      <th>ObsValueFloat</th>\n",
       "      <th>UNITS</th>\n",
       "      <th>ProcedureDate</th>\n",
       "      <th>ProcedureDesc</th>\n",
       "      <th>ProcedureReason</th>\n",
       "    </tr>\n",
       "  </thead>\n",
       "  <tbody>\n",
       "    <tr>\n",
       "      <th>0</th>\n",
       "      <td>2013-06-07</td>\n",
       "      <td>2013-07-01</td>\n",
       "      <td>d091c3eb</td>\n",
       "      <td>1937-03-02</td>\n",
       "      <td>1900-01-01</td>\n",
       "      <td>white</td>\n",
       "      <td>french</td>\n",
       "      <td>M</td>\n",
       "      <td>MA US</td>\n",
       "      <td>01202 US</td>\n",
       "      <td>...</td>\n",
       "      <td>NaN</td>\n",
       "      <td>NaN</td>\n",
       "      <td>6298-4</td>\n",
       "      <td>Potassium</td>\n",
       "      <td>6.5074</td>\n",
       "      <td>6.5074</td>\n",
       "      <td>mmol/L</td>\n",
       "      <td>2016-03-03</td>\n",
       "      <td>Documentation of current medications</td>\n",
       "      <td>NaN</td>\n",
       "    </tr>\n",
       "    <tr>\n",
       "      <th>1</th>\n",
       "      <td>2011-01-28</td>\n",
       "      <td>2010-12-16</td>\n",
       "      <td>0bdda8d2</td>\n",
       "      <td>1984-06-11</td>\n",
       "      <td>1900-01-01</td>\n",
       "      <td>black</td>\n",
       "      <td>african</td>\n",
       "      <td>F</td>\n",
       "      <td>MA US</td>\n",
       "      <td>01910 US</td>\n",
       "      <td>...</td>\n",
       "      <td>NaN</td>\n",
       "      <td>NaN</td>\n",
       "      <td>6298-4</td>\n",
       "      <td>Potassium</td>\n",
       "      <td>6.5325</td>\n",
       "      <td>6.5325</td>\n",
       "      <td>mmol/L</td>\n",
       "      <td>2014-03-02</td>\n",
       "      <td>Intramuscular injection</td>\n",
       "      <td>NaN</td>\n",
       "    </tr>\n",
       "    <tr>\n",
       "      <th>2</th>\n",
       "      <td>2016-09-06</td>\n",
       "      <td>2016-10-03</td>\n",
       "      <td>f0577b5f</td>\n",
       "      <td>1977-08-24</td>\n",
       "      <td>1900-01-01</td>\n",
       "      <td>white</td>\n",
       "      <td>english</td>\n",
       "      <td>M</td>\n",
       "      <td>MA US</td>\n",
       "      <td>02140 US</td>\n",
       "      <td>...</td>\n",
       "      <td>NaN</td>\n",
       "      <td>NaN</td>\n",
       "      <td>6298-4</td>\n",
       "      <td>Potassium</td>\n",
       "      <td>6.5200</td>\n",
       "      <td>6.5200</td>\n",
       "      <td>mmol/L</td>\n",
       "      <td>2012-08-31</td>\n",
       "      <td>Biopsy of colon</td>\n",
       "      <td>68496003.0</td>\n",
       "    </tr>\n",
       "    <tr>\n",
       "      <th>3</th>\n",
       "      <td>2012-05-05</td>\n",
       "      <td>2012-04-26</td>\n",
       "      <td>a9fb85a6</td>\n",
       "      <td>1954-03-14</td>\n",
       "      <td>1900-01-01</td>\n",
       "      <td>white</td>\n",
       "      <td>french</td>\n",
       "      <td>M</td>\n",
       "      <td>MA US</td>\n",
       "      <td>01202 US</td>\n",
       "      <td>...</td>\n",
       "      <td>NaN</td>\n",
       "      <td>NaN</td>\n",
       "      <td>6298-4</td>\n",
       "      <td>Potassium</td>\n",
       "      <td>6.5074</td>\n",
       "      <td>6.5074</td>\n",
       "      <td>mmol/L</td>\n",
       "      <td>2012-04-28</td>\n",
       "      <td>Documentation of current medications</td>\n",
       "      <td>NaN</td>\n",
       "    </tr>\n",
       "    <tr>\n",
       "      <th>4</th>\n",
       "      <td>2011-01-28</td>\n",
       "      <td>2010-12-16</td>\n",
       "      <td>0bdda8d2</td>\n",
       "      <td>1984-06-11</td>\n",
       "      <td>1900-01-01</td>\n",
       "      <td>white</td>\n",
       "      <td>german</td>\n",
       "      <td>M</td>\n",
       "      <td>MA US</td>\n",
       "      <td>01853 US</td>\n",
       "      <td>...</td>\n",
       "      <td>10509002.0</td>\n",
       "      <td>Acute bronchitis (disorder)</td>\n",
       "      <td>6298-4</td>\n",
       "      <td>Potassium</td>\n",
       "      <td>6.5200</td>\n",
       "      <td>6.5200</td>\n",
       "      <td>mmol/L</td>\n",
       "      <td>2011-02-04</td>\n",
       "      <td>Documentation of current medications</td>\n",
       "      <td>NaN</td>\n",
       "    </tr>\n",
       "    <tr>\n",
       "      <th>...</th>\n",
       "      <td>...</td>\n",
       "      <td>...</td>\n",
       "      <td>...</td>\n",
       "      <td>...</td>\n",
       "      <td>...</td>\n",
       "      <td>...</td>\n",
       "      <td>...</td>\n",
       "      <td>...</td>\n",
       "      <td>...</td>\n",
       "      <td>...</td>\n",
       "      <td>...</td>\n",
       "      <td>...</td>\n",
       "      <td>...</td>\n",
       "      <td>...</td>\n",
       "      <td>...</td>\n",
       "      <td>...</td>\n",
       "      <td>...</td>\n",
       "      <td>...</td>\n",
       "      <td>...</td>\n",
       "      <td>...</td>\n",
       "      <td>...</td>\n",
       "    </tr>\n",
       "    <tr>\n",
       "      <th>2280</th>\n",
       "      <td>2013-06-20</td>\n",
       "      <td>2013-07-16</td>\n",
       "      <td>a4a433e9</td>\n",
       "      <td>1941-11-06</td>\n",
       "      <td>1900-01-01</td>\n",
       "      <td>hispanic</td>\n",
       "      <td>mexican</td>\n",
       "      <td>M</td>\n",
       "      <td>MA US</td>\n",
       "      <td>01813 US</td>\n",
       "      <td>...</td>\n",
       "      <td>NaN</td>\n",
       "      <td>NaN</td>\n",
       "      <td>6298-4</td>\n",
       "      <td>Potassium</td>\n",
       "      <td>6.5074</td>\n",
       "      <td>6.5074</td>\n",
       "      <td>mmol/L</td>\n",
       "      <td>2014-06-04</td>\n",
       "      <td>Colonoscopy</td>\n",
       "      <td>NaN</td>\n",
       "    </tr>\n",
       "    <tr>\n",
       "      <th>2281</th>\n",
       "      <td>2013-07-09</td>\n",
       "      <td>2013-06-03</td>\n",
       "      <td>17f227c5</td>\n",
       "      <td>1940-07-04</td>\n",
       "      <td>1900-01-01</td>\n",
       "      <td>hispanic</td>\n",
       "      <td>mexican</td>\n",
       "      <td>F</td>\n",
       "      <td>MA US</td>\n",
       "      <td>02211 US</td>\n",
       "      <td>...</td>\n",
       "      <td>444814009.0</td>\n",
       "      <td>Viral sinusitis (disorder)</td>\n",
       "      <td>6298-4</td>\n",
       "      <td>Potassium</td>\n",
       "      <td>6.5074</td>\n",
       "      <td>6.5074</td>\n",
       "      <td>mmol/L</td>\n",
       "      <td>2013-02-13</td>\n",
       "      <td>Documentation of current medications</td>\n",
       "      <td>NaN</td>\n",
       "    </tr>\n",
       "    <tr>\n",
       "      <th>2282</th>\n",
       "      <td>2017-08-12</td>\n",
       "      <td>2017-05-19</td>\n",
       "      <td>7ce419ba</td>\n",
       "      <td>1944-08-07</td>\n",
       "      <td>1900-01-01</td>\n",
       "      <td>white</td>\n",
       "      <td>french</td>\n",
       "      <td>M</td>\n",
       "      <td>MA US</td>\n",
       "      <td>01202 US</td>\n",
       "      <td>...</td>\n",
       "      <td>NaN</td>\n",
       "      <td>NaN</td>\n",
       "      <td>6298-4</td>\n",
       "      <td>Potassium</td>\n",
       "      <td>6.5074</td>\n",
       "      <td>6.5074</td>\n",
       "      <td>mmol/L</td>\n",
       "      <td>2013-05-02</td>\n",
       "      <td>Documentation of current medications</td>\n",
       "      <td>NaN</td>\n",
       "    </tr>\n",
       "    <tr>\n",
       "      <th>2283</th>\n",
       "      <td>2016-12-03</td>\n",
       "      <td>2016-12-07</td>\n",
       "      <td>a9c0db54</td>\n",
       "      <td>1974-12-09</td>\n",
       "      <td>1900-01-01</td>\n",
       "      <td>white</td>\n",
       "      <td>swedish</td>\n",
       "      <td>F</td>\n",
       "      <td>MA US</td>\n",
       "      <td>01844 US</td>\n",
       "      <td>...</td>\n",
       "      <td>NaN</td>\n",
       "      <td>NaN</td>\n",
       "      <td>6298-4</td>\n",
       "      <td>Potassium</td>\n",
       "      <td>6.5325</td>\n",
       "      <td>6.5325</td>\n",
       "      <td>mmol/L</td>\n",
       "      <td>2015-05-23</td>\n",
       "      <td>Documentation of current medications</td>\n",
       "      <td>NaN</td>\n",
       "    </tr>\n",
       "    <tr>\n",
       "      <th>2284</th>\n",
       "      <td>2016-11-24</td>\n",
       "      <td>2016-10-05</td>\n",
       "      <td>87689018</td>\n",
       "      <td>1961-03-23</td>\n",
       "      <td>1900-01-01</td>\n",
       "      <td>white</td>\n",
       "      <td>english</td>\n",
       "      <td>M</td>\n",
       "      <td>MA US</td>\n",
       "      <td>02140 US</td>\n",
       "      <td>...</td>\n",
       "      <td>363406005.0</td>\n",
       "      <td>Malignant tumor of colon</td>\n",
       "      <td>6298-4</td>\n",
       "      <td>Potassium</td>\n",
       "      <td>6.5200</td>\n",
       "      <td>6.5200</td>\n",
       "      <td>mmol/L</td>\n",
       "      <td>2012-08-21</td>\n",
       "      <td>Colonoscopy</td>\n",
       "      <td>NaN</td>\n",
       "    </tr>\n",
       "  </tbody>\n",
       "</table>\n",
       "<p>2285 rows × 26 columns</p>\n",
       "</div>"
      ],
      "text/plain": [
       "       EventDate        DATE PatientID   BirthDate   DeathDate      RACE  \\\n",
       "0     2013-06-07  2013-07-01  d091c3eb  1937-03-02  1900-01-01     white   \n",
       "1     2011-01-28  2010-12-16  0bdda8d2  1984-06-11  1900-01-01     black   \n",
       "2     2016-09-06  2016-10-03  f0577b5f  1977-08-24  1900-01-01     white   \n",
       "3     2012-05-05  2012-04-26  a9fb85a6  1954-03-14  1900-01-01     white   \n",
       "4     2011-01-28  2010-12-16  0bdda8d2  1984-06-11  1900-01-01     white   \n",
       "...          ...         ...       ...         ...         ...       ...   \n",
       "2280  2013-06-20  2013-07-16  a4a433e9  1941-11-06  1900-01-01  hispanic   \n",
       "2281  2013-07-09  2013-06-03  17f227c5  1940-07-04  1900-01-01  hispanic   \n",
       "2282  2017-08-12  2017-05-19  7ce419ba  1944-08-07  1900-01-01     white   \n",
       "2283  2016-12-03  2016-12-07  a9c0db54  1974-12-09  1900-01-01     white   \n",
       "2284  2016-11-24  2016-10-05  87689018  1961-03-23  1900-01-01     white   \n",
       "\n",
       "     ETHNICITY GENDER BIRTHPLACE    ADDRESS  ... EncounterReason  \\\n",
       "0       french      M      MA US   01202 US  ...             NaN   \n",
       "1      african      F      MA US   01910 US  ...             NaN   \n",
       "2      english      M      MA US   02140 US  ...             NaN   \n",
       "3       french      M      MA US   01202 US  ...             NaN   \n",
       "4       german      M      MA US   01853 US  ...      10509002.0   \n",
       "...        ...    ...        ...        ...  ...             ...   \n",
       "2280   mexican      M      MA US   01813 US  ...             NaN   \n",
       "2281   mexican      F      MA US   02211 US  ...     444814009.0   \n",
       "2282    french      M      MA US   01202 US  ...             NaN   \n",
       "2283   swedish      F      MA US   01844 US  ...             NaN   \n",
       "2284   english      M      MA US   02140 US  ...     363406005.0   \n",
       "\n",
       "              EncounterReasonDesc ObsCode    ObsDesc  ObsValue ObsValueFloat  \\\n",
       "0                             NaN  6298-4  Potassium    6.5074        6.5074   \n",
       "1                             NaN  6298-4  Potassium    6.5325        6.5325   \n",
       "2                             NaN  6298-4  Potassium    6.5200        6.5200   \n",
       "3                             NaN  6298-4  Potassium    6.5074        6.5074   \n",
       "4     Acute bronchitis (disorder)  6298-4  Potassium    6.5200        6.5200   \n",
       "...                           ...     ...        ...       ...           ...   \n",
       "2280                          NaN  6298-4  Potassium    6.5074        6.5074   \n",
       "2281   Viral sinusitis (disorder)  6298-4  Potassium    6.5074        6.5074   \n",
       "2282                          NaN  6298-4  Potassium    6.5074        6.5074   \n",
       "2283                          NaN  6298-4  Potassium    6.5325        6.5325   \n",
       "2284     Malignant tumor of colon  6298-4  Potassium    6.5200        6.5200   \n",
       "\n",
       "       UNITS ProcedureDate                         ProcedureDesc  \\\n",
       "0     mmol/L    2016-03-03  Documentation of current medications   \n",
       "1     mmol/L    2014-03-02               Intramuscular injection   \n",
       "2     mmol/L    2012-08-31                       Biopsy of colon   \n",
       "3     mmol/L    2012-04-28  Documentation of current medications   \n",
       "4     mmol/L    2011-02-04  Documentation of current medications   \n",
       "...      ...           ...                                   ...   \n",
       "2280  mmol/L    2014-06-04                           Colonoscopy   \n",
       "2281  mmol/L    2013-02-13  Documentation of current medications   \n",
       "2282  mmol/L    2013-05-02  Documentation of current medications   \n",
       "2283  mmol/L    2015-05-23  Documentation of current medications   \n",
       "2284  mmol/L    2012-08-21                           Colonoscopy   \n",
       "\n",
       "     ProcedureReason  \n",
       "0                NaN  \n",
       "1                NaN  \n",
       "2         68496003.0  \n",
       "3                NaN  \n",
       "4                NaN  \n",
       "...              ...  \n",
       "2280             NaN  \n",
       "2281             NaN  \n",
       "2282             NaN  \n",
       "2283             NaN  \n",
       "2284             NaN  \n",
       "\n",
       "[2285 rows x 26 columns]"
      ]
     },
     "execution_count": 12,
     "metadata": {},
     "output_type": "execute_result"
    }
   ],
   "source": [
    "DATASET_PATH = './data/mitre-synthea-health.csv'\n",
    "ROUND_DECIMALS = 4\n",
    "\n",
    "\n",
    "def preprocess_data(dataset_path: str) -> pd.DataFrame:\n",
    "    tmp = pd.read_csv(dataset_path, low_memory=False)\n",
    "    tmp = tmp.round(ROUND_DECIMALS)\n",
    "    return tmp\n",
    "\n",
    "\n",
    "DF = preprocess_data(DATASET_PATH)\n",
    "DF"
   ]
  },
  {
   "cell_type": "markdown",
   "id": "d9553c7d",
   "metadata": {},
   "source": [
    "## Hyperparameter Settings\n",
    "\n",
    "View example default configs on GitHub https://github.com/gretelai/gretel-blueprints/tree/main/config_templates/gretel/synthetics. A few tips:\n",
    "\n",
    "* For larger dataset sizes (50,000-100,000 rows) try setting `vocab_size` to 20,000. This uses a `sentencepiece` tokenizer and will speed up model training and generation. For smaller datasets or if you're seeing high invalid record counts, use `vocab_size` of 0 to tokenize per character."
   ]
  },
  {
   "cell_type": "code",
   "execution_count": 11,
   "id": "18926173",
   "metadata": {},
   "outputs": [],
   "source": [
    "# Fine tune any configuration settings here\n",
    "\n",
    "CONFIG = read_model_config(\"synthetics/default\")\n",
    "CONFIG[\"models\"][0][\"synthetics\"][\"params\"][\"vocab_size\"] = 0\n",
    "CONFIG[\"models\"][0][\"synthetics\"][\"params\"][\"learning_rate\"] = 0.001\n",
    "CONFIG[\"models\"][0][\"synthetics\"][\"privacy_filters\"] = {}\n",
    "CONFIG[\"models\"][0][\"synthetics\"][\"privacy_filters\"][\"outliers\"] = None\n",
    "CONFIG[\"models\"][0][\"synthetics\"][\"privacy_filters\"][\"similarity\"] = None"
   ]
  },
  {
   "cell_type": "code",
   "execution_count": 5,
   "id": "645d2859",
   "metadata": {},
   "outputs": [
    {
     "data": {
      "image/png": "[encoded data removed]",
      "text/plain": [
       "<Figure size 1800x576 with 1 Axes>"
      ]
     },
     "metadata": {
      "needs_background": "light"
     },
     "output_type": "display_data"
    }
   ],
   "source": [
    "# Initialize the parallelization strategy\n",
    "\n",
    "def initialize_run() -> runner.StrategyRunner:\n",
    "    \n",
    "    # Create clusters of correlated columns (might take a few minutes)\n",
    "    plot = True if len(DF.columns) < 50 else False\n",
    "    header_clusters = cluster(DF, maxsize=MAX_HEADER_CLUSTERS, plot=plot) \n",
    "\n",
    "    constraints = strategy.PartitionConstraints(\n",
    "        header_clusters=header_clusters, \n",
    "        max_row_count=MAX_ROWS\n",
    "    )\n",
    "    \n",
    "    run = runner.StrategyRunner(\n",
    "        strategy_id=\"foo\",\n",
    "        df=DF,\n",
    "        cache_file=\"runner.json\",\n",
    "        cache_overwrite=True,  # Set to False to load existing cache (and not start over)\n",
    "        model_config=CONFIG,\n",
    "        partition_constraints=constraints,\n",
    "        project=PROJECT\n",
    "    )    \n",
    "    return run\n",
    "\n",
    "run = initialize_run()"
   ]
  },
  {
   "cell_type": "code",
   "execution_count": 6,
   "id": "e17f0099",
   "metadata": {},
   "outputs": [
    {
     "name": "stderr",
     "output_type": "stream",
     "text": [
      "INFO:runner:Processing 2 partitions\n",
      "INFO:runner:Partition 0 is new, starting model creation\n",
      "INFO:runner:Started model: coordinated-enormous-puma source: ['gretel_19c6d0d64eb44aa2ad3a826577f6cf93_foo-0.csv']\n",
      "INFO:runner:Partition 1 is new, starting model creation\n",
      "INFO:runner:Started model: mighty-cautious-cat source: ['gretel_66a8e6513459497f9fd42b619f6491d2_foo-1.csv']\n",
      "INFO:runner:Partition 0 status change from created to pending\n",
      "INFO:runner:Partition 1 status change from created to pending\n",
      "INFO:runner:Partition 0 status change from pending to active\n",
      "INFO:runner:Partition 1 status change from pending to active\n",
      "INFO:runner:Partition 0 status change from active to completed\n",
      "INFO:runner:Partition 0 completes with SQS: Excellent (88)\n",
      "INFO:runner:Partition 1 status change from active to completed\n",
      "INFO:runner:Partition 1 completes with SQS: Excellent (86)\n",
      "INFO:runner:{<Status.COMPLETED: 'completed'>: 2}\n"
     ]
    }
   ],
   "source": [
    "# Train all models\n",
    "run.train_all_partitions()"
   ]
  },
  {
   "cell_type": "code",
   "execution_count": 7,
   "id": "1e67bc9b",
   "metadata": {},
   "outputs": [
    {
     "data": {
      "text/html": [
       "<div>\n",
       "<style scoped>\n",
       "    .dataframe tbody tr th:only-of-type {\n",
       "        vertical-align: middle;\n",
       "    }\n",
       "\n",
       "    .dataframe tbody tr th {\n",
       "        vertical-align: top;\n",
       "    }\n",
       "\n",
       "    .dataframe thead th {\n",
       "        text-align: right;\n",
       "    }\n",
       "</style>\n",
       "<table border=\"1\" class=\"dataframe\">\n",
       "  <thead>\n",
       "    <tr style=\"text-align: right;\">\n",
       "      <th></th>\n",
       "      <th>EventDate</th>\n",
       "      <th>DATE</th>\n",
       "      <th>PatientID</th>\n",
       "      <th>BirthDate</th>\n",
       "      <th>DeathDate</th>\n",
       "      <th>RACE</th>\n",
       "      <th>ETHNICITY</th>\n",
       "      <th>GENDER</th>\n",
       "      <th>BIRTHPLACE</th>\n",
       "      <th>ADDRESS</th>\n",
       "      <th>...</th>\n",
       "      <th>EncounterReason</th>\n",
       "      <th>EncounterReasonDesc</th>\n",
       "      <th>ObsCode</th>\n",
       "      <th>ObsDesc</th>\n",
       "      <th>ObsValue</th>\n",
       "      <th>ObsValueFloat</th>\n",
       "      <th>UNITS</th>\n",
       "      <th>ProcedureDate</th>\n",
       "      <th>ProcedureDesc</th>\n",
       "      <th>ProcedureReason</th>\n",
       "    </tr>\n",
       "  </thead>\n",
       "  <tbody>\n",
       "    <tr>\n",
       "      <th>0</th>\n",
       "      <td>2012-05-05</td>\n",
       "      <td>2012-04-26</td>\n",
       "      <td>a9fb85a6</td>\n",
       "      <td>1954-03-14</td>\n",
       "      <td>1900-01-01</td>\n",
       "      <td>white</td>\n",
       "      <td>italian</td>\n",
       "      <td>F</td>\n",
       "      <td>MA US</td>\n",
       "      <td>02478 US</td>\n",
       "      <td>...</td>\n",
       "      <td>NaN</td>\n",
       "      <td>NaN</td>\n",
       "      <td>6298-4</td>\n",
       "      <td>Potassium</td>\n",
       "      <td>6.5074</td>\n",
       "      <td>6.5074</td>\n",
       "      <td>mmol/L</td>\n",
       "      <td>2015-07-01</td>\n",
       "      <td>Colonoscopy</td>\n",
       "      <td>NaN</td>\n",
       "    </tr>\n",
       "    <tr>\n",
       "      <th>1</th>\n",
       "      <td>2012-05-05</td>\n",
       "      <td>2012-04-26</td>\n",
       "      <td>a9fb85a6</td>\n",
       "      <td>1954-03-14</td>\n",
       "      <td>1900-01-01</td>\n",
       "      <td>white</td>\n",
       "      <td>english</td>\n",
       "      <td>M</td>\n",
       "      <td>MA US</td>\n",
       "      <td>02140 US</td>\n",
       "      <td>...</td>\n",
       "      <td>NaN</td>\n",
       "      <td>NaN</td>\n",
       "      <td>6298-4</td>\n",
       "      <td>Potassium</td>\n",
       "      <td>6.5200</td>\n",
       "      <td>6.5200</td>\n",
       "      <td>mmol/L</td>\n",
       "      <td>2015-07-01</td>\n",
       "      <td>Colonoscopy</td>\n",
       "      <td>NaN</td>\n",
       "    </tr>\n",
       "    <tr>\n",
       "      <th>2</th>\n",
       "      <td>2015-10-26</td>\n",
       "      <td>2015-09-01</td>\n",
       "      <td>e9fc7516</td>\n",
       "      <td>1947-07-17</td>\n",
       "      <td>1900-01-01</td>\n",
       "      <td>white</td>\n",
       "      <td>irish</td>\n",
       "      <td>F</td>\n",
       "      <td>MA US</td>\n",
       "      <td>02124 US</td>\n",
       "      <td>...</td>\n",
       "      <td>NaN</td>\n",
       "      <td>NaN</td>\n",
       "      <td>6298-4</td>\n",
       "      <td>Potassium</td>\n",
       "      <td>6.5074</td>\n",
       "      <td>6.5074</td>\n",
       "      <td>mmol/L</td>\n",
       "      <td>2011-10-26</td>\n",
       "      <td>Colonoscopy</td>\n",
       "      <td>NaN</td>\n",
       "    </tr>\n",
       "    <tr>\n",
       "      <th>3</th>\n",
       "      <td>2015-12-25</td>\n",
       "      <td>2016-02-10</td>\n",
       "      <td>2e1cb472</td>\n",
       "      <td>1945-08-07</td>\n",
       "      <td>1900-01-01</td>\n",
       "      <td>white</td>\n",
       "      <td>irish</td>\n",
       "      <td>F</td>\n",
       "      <td>MA US</td>\n",
       "      <td>01238 US</td>\n",
       "      <td>...</td>\n",
       "      <td>NaN</td>\n",
       "      <td>NaN</td>\n",
       "      <td>6298-4</td>\n",
       "      <td>Potassium</td>\n",
       "      <td>6.5325</td>\n",
       "      <td>6.5325</td>\n",
       "      <td>mmol/L</td>\n",
       "      <td>2013-06-23</td>\n",
       "      <td>Colonoscopy</td>\n",
       "      <td>NaN</td>\n",
       "    </tr>\n",
       "    <tr>\n",
       "      <th>4</th>\n",
       "      <td>2017-08-12</td>\n",
       "      <td>2017-05-19</td>\n",
       "      <td>7ce419ba</td>\n",
       "      <td>1944-08-07</td>\n",
       "      <td>1900-01-01</td>\n",
       "      <td>white</td>\n",
       "      <td>english</td>\n",
       "      <td>M</td>\n",
       "      <td>MA US</td>\n",
       "      <td>02140 US</td>\n",
       "      <td>...</td>\n",
       "      <td>NaN</td>\n",
       "      <td>NaN</td>\n",
       "      <td>6298-4</td>\n",
       "      <td>Potassium</td>\n",
       "      <td>6.5200</td>\n",
       "      <td>6.5200</td>\n",
       "      <td>mmol/L</td>\n",
       "      <td>2012-10-05</td>\n",
       "      <td>Colonoscopy</td>\n",
       "      <td>NaN</td>\n",
       "    </tr>\n",
       "    <tr>\n",
       "      <th>...</th>\n",
       "      <td>...</td>\n",
       "      <td>...</td>\n",
       "      <td>...</td>\n",
       "      <td>...</td>\n",
       "      <td>...</td>\n",
       "      <td>...</td>\n",
       "      <td>...</td>\n",
       "      <td>...</td>\n",
       "      <td>...</td>\n",
       "      <td>...</td>\n",
       "      <td>...</td>\n",
       "      <td>...</td>\n",
       "      <td>...</td>\n",
       "      <td>...</td>\n",
       "      <td>...</td>\n",
       "      <td>...</td>\n",
       "      <td>...</td>\n",
       "      <td>...</td>\n",
       "      <td>...</td>\n",
       "      <td>...</td>\n",
       "      <td>...</td>\n",
       "    </tr>\n",
       "    <tr>\n",
       "      <th>2280</th>\n",
       "      <td>2015-11-28</td>\n",
       "      <td>2016-01-05</td>\n",
       "      <td>d3fd4be9</td>\n",
       "      <td>1946-02-11</td>\n",
       "      <td>1900-01-01</td>\n",
       "      <td>black</td>\n",
       "      <td>african</td>\n",
       "      <td>F</td>\n",
       "      <td>MA US</td>\n",
       "      <td>02493 US</td>\n",
       "      <td>...</td>\n",
       "      <td>NaN</td>\n",
       "      <td>NaN</td>\n",
       "      <td>6298-4</td>\n",
       "      <td>Potassium</td>\n",
       "      <td>6.5074</td>\n",
       "      <td>6.5074</td>\n",
       "      <td>mmol/L</td>\n",
       "      <td>2010-11-24</td>\n",
       "      <td>Documentation of current medications</td>\n",
       "      <td>NaN</td>\n",
       "    </tr>\n",
       "    <tr>\n",
       "      <th>2281</th>\n",
       "      <td>2014-05-18</td>\n",
       "      <td>2014-05-04</td>\n",
       "      <td>fafda258</td>\n",
       "      <td>1955-08-23</td>\n",
       "      <td>1900-01-01</td>\n",
       "      <td>hispanic</td>\n",
       "      <td>puerto_rican</td>\n",
       "      <td>M</td>\n",
       "      <td>MA US</td>\n",
       "      <td>01746 US</td>\n",
       "      <td>...</td>\n",
       "      <td>NaN</td>\n",
       "      <td>NaN</td>\n",
       "      <td>6298-4</td>\n",
       "      <td>Potassium</td>\n",
       "      <td>6.5451</td>\n",
       "      <td>6.5451</td>\n",
       "      <td>mmol/L</td>\n",
       "      <td>2012-02-14</td>\n",
       "      <td>Documentation of current medications</td>\n",
       "      <td>NaN</td>\n",
       "    </tr>\n",
       "    <tr>\n",
       "      <th>2282</th>\n",
       "      <td>2015-12-25</td>\n",
       "      <td>2016-02-10</td>\n",
       "      <td>2e1cb472</td>\n",
       "      <td>1945-08-07</td>\n",
       "      <td>1900-01-01</td>\n",
       "      <td>white</td>\n",
       "      <td>irish</td>\n",
       "      <td>M</td>\n",
       "      <td>MA US</td>\n",
       "      <td>02763 US</td>\n",
       "      <td>...</td>\n",
       "      <td>NaN</td>\n",
       "      <td>NaN</td>\n",
       "      <td>6298-4</td>\n",
       "      <td>Potassium</td>\n",
       "      <td>6.5325</td>\n",
       "      <td>6.5325</td>\n",
       "      <td>mmol/L</td>\n",
       "      <td>2014-08-07</td>\n",
       "      <td>Documentation of current medications</td>\n",
       "      <td>NaN</td>\n",
       "    </tr>\n",
       "    <tr>\n",
       "      <th>2283</th>\n",
       "      <td>2015-11-03</td>\n",
       "      <td>2015-12-11</td>\n",
       "      <td>68a576e0</td>\n",
       "      <td>1947-06-23</td>\n",
       "      <td>1900-01-01</td>\n",
       "      <td>white</td>\n",
       "      <td>irish</td>\n",
       "      <td>F</td>\n",
       "      <td>MA US</td>\n",
       "      <td>02479 US</td>\n",
       "      <td>...</td>\n",
       "      <td>444814009.0</td>\n",
       "      <td>Viral sinusitis (disorder)</td>\n",
       "      <td>6298-4</td>\n",
       "      <td>Potassium</td>\n",
       "      <td>6.5451</td>\n",
       "      <td>6.5451</td>\n",
       "      <td>mmol/L</td>\n",
       "      <td>2016-03-09</td>\n",
       "      <td>Colonoscopy</td>\n",
       "      <td>NaN</td>\n",
       "    </tr>\n",
       "    <tr>\n",
       "      <th>2284</th>\n",
       "      <td>2013-11-08</td>\n",
       "      <td>2013-09-29</td>\n",
       "      <td>76c57a25</td>\n",
       "      <td>1951-12-26</td>\n",
       "      <td>1900-01-01</td>\n",
       "      <td>white</td>\n",
       "      <td>russian</td>\n",
       "      <td>M</td>\n",
       "      <td>MA US</td>\n",
       "      <td>01520 US</td>\n",
       "      <td>...</td>\n",
       "      <td>444814009.0</td>\n",
       "      <td>Viral sinusitis (disorder)</td>\n",
       "      <td>6298-4</td>\n",
       "      <td>Potassium</td>\n",
       "      <td>6.5451</td>\n",
       "      <td>6.5451</td>\n",
       "      <td>mmol/L</td>\n",
       "      <td>2012-12-03</td>\n",
       "      <td>Colonoscopy</td>\n",
       "      <td>NaN</td>\n",
       "    </tr>\n",
       "  </tbody>\n",
       "</table>\n",
       "<p>2285 rows × 26 columns</p>\n",
       "</div>"
      ],
      "text/plain": [
       "       EventDate        DATE PatientID   BirthDate   DeathDate      RACE  \\\n",
       "0     2012-05-05  2012-04-26  a9fb85a6  1954-03-14  1900-01-01     white   \n",
       "1     2012-05-05  2012-04-26  a9fb85a6  1954-03-14  1900-01-01     white   \n",
       "2     2015-10-26  2015-09-01  e9fc7516  1947-07-17  1900-01-01     white   \n",
       "3     2015-12-25  2016-02-10  2e1cb472  1945-08-07  1900-01-01     white   \n",
       "4     2017-08-12  2017-05-19  7ce419ba  1944-08-07  1900-01-01     white   \n",
       "...          ...         ...       ...         ...         ...       ...   \n",
       "2280  2015-11-28  2016-01-05  d3fd4be9  1946-02-11  1900-01-01     black   \n",
       "2281  2014-05-18  2014-05-04  fafda258  1955-08-23  1900-01-01  hispanic   \n",
       "2282  2015-12-25  2016-02-10  2e1cb472  1945-08-07  1900-01-01     white   \n",
       "2283  2015-11-03  2015-12-11  68a576e0  1947-06-23  1900-01-01     white   \n",
       "2284  2013-11-08  2013-09-29  76c57a25  1951-12-26  1900-01-01     white   \n",
       "\n",
       "         ETHNICITY GENDER BIRTHPLACE    ADDRESS  ... EncounterReason  \\\n",
       "0          italian      F      MA US   02478 US  ...             NaN   \n",
       "1          english      M      MA US   02140 US  ...             NaN   \n",
       "2            irish      F      MA US   02124 US  ...             NaN   \n",
       "3            irish      F      MA US   01238 US  ...             NaN   \n",
       "4          english      M      MA US   02140 US  ...             NaN   \n",
       "...            ...    ...        ...        ...  ...             ...   \n",
       "2280       african      F      MA US   02493 US  ...             NaN   \n",
       "2281  puerto_rican      M      MA US   01746 US  ...             NaN   \n",
       "2282         irish      M      MA US   02763 US  ...             NaN   \n",
       "2283         irish      F      MA US   02479 US  ...     444814009.0   \n",
       "2284       russian      M      MA US   01520 US  ...     444814009.0   \n",
       "\n",
       "             EncounterReasonDesc ObsCode    ObsDesc  ObsValue ObsValueFloat  \\\n",
       "0                            NaN  6298-4  Potassium    6.5074        6.5074   \n",
       "1                            NaN  6298-4  Potassium    6.5200        6.5200   \n",
       "2                            NaN  6298-4  Potassium    6.5074        6.5074   \n",
       "3                            NaN  6298-4  Potassium    6.5325        6.5325   \n",
       "4                            NaN  6298-4  Potassium    6.5200        6.5200   \n",
       "...                          ...     ...        ...       ...           ...   \n",
       "2280                         NaN  6298-4  Potassium    6.5074        6.5074   \n",
       "2281                         NaN  6298-4  Potassium    6.5451        6.5451   \n",
       "2282                         NaN  6298-4  Potassium    6.5325        6.5325   \n",
       "2283  Viral sinusitis (disorder)  6298-4  Potassium    6.5451        6.5451   \n",
       "2284  Viral sinusitis (disorder)  6298-4  Potassium    6.5451        6.5451   \n",
       "\n",
       "       UNITS ProcedureDate                         ProcedureDesc  \\\n",
       "0     mmol/L    2015-07-01                           Colonoscopy   \n",
       "1     mmol/L    2015-07-01                           Colonoscopy   \n",
       "2     mmol/L    2011-10-26                           Colonoscopy   \n",
       "3     mmol/L    2013-06-23                           Colonoscopy   \n",
       "4     mmol/L    2012-10-05                           Colonoscopy   \n",
       "...      ...           ...                                   ...   \n",
       "2280  mmol/L    2010-11-24  Documentation of current medications   \n",
       "2281  mmol/L    2012-02-14  Documentation of current medications   \n",
       "2282  mmol/L    2014-08-07  Documentation of current medications   \n",
       "2283  mmol/L    2016-03-09                           Colonoscopy   \n",
       "2284  mmol/L    2012-12-03                           Colonoscopy   \n",
       "\n",
       "     ProcedureReason  \n",
       "0                NaN  \n",
       "1                NaN  \n",
       "2                NaN  \n",
       "3                NaN  \n",
       "4                NaN  \n",
       "...              ...  \n",
       "2280             NaN  \n",
       "2281             NaN  \n",
       "2282             NaN  \n",
       "2283             NaN  \n",
       "2284             NaN  \n",
       "\n",
       "[2285 rows x 26 columns]"
      ]
     },
     "execution_count": 7,
     "metadata": {},
     "output_type": "execute_result"
    }
   ],
   "source": [
    "# Access synthetic data\n",
    "\n",
    "synthetic = run.get_training_synthetic_data()\n",
    "synthetic.to_csv('synthetic.csv', index=False)\n",
    "synthetic"
   ]
  },
  {
   "cell_type": "code",
   "execution_count": 8,
   "id": "1460ea07",
   "metadata": {},
   "outputs": [],
   "source": [
    "#Uncomment and run these lines to terminate models training in the cloud\n",
    "\n",
    "#run.cancel_all()\n",
    "#PROJECT.delete()"
   ]
  },
  {
   "cell_type": "markdown",
   "id": "45885579",
   "metadata": {},
   "source": [
    "## Plot correlations\n",
    "\n",
    "Use the `_get_correlation_matrix` from `gretel-synthetics` to compare correlations between the real world and synthetic datasets."
   ]
  },
  {
   "cell_type": "code",
   "execution_count": 10,
   "id": "8cfae22c",
   "metadata": {},
   "outputs": [
    {
     "data": {
      "application/vnd.plotly.v1+json": {
       "config": {
        "plotlyServerURL": "https://plot.ly"
       },
       "data": [
        {
         "showscale": false,
         "type": "heatmap",
         "x": [
          "EventDate",
          "DATE",
          "PatientID",
          "BirthDate",
          "DeathDate",
          "RACE",
          "ETHNICITY",
          "GENDER",
          "BIRTHPLACE",
          "ADDRESS",
          "StartDate",
          "EndDate",
          "ConditionDesc",
          "EncounterID",
          "EncounterCode",
          "EncounterDesc",
          "EncounterReason",
          "EncounterReasonDesc",
          "ObsCode",
          "ObsDesc",
          "ObsValue",
          "ObsValueFloat",
          "UNITS",
          "ProcedureDate",
          "ProcedureDesc",
          "ProcedureReason"
         ],
         "xaxis": "x",
         "y": [
          "EventDate",
          "DATE",
          "PatientID",
          "BirthDate",
          "DeathDate",
          "RACE",
          "ETHNICITY",
          "GENDER",
          "BIRTHPLACE",
          "ADDRESS",
          "StartDate",
          "EndDate",
          "ConditionDesc",
          "EncounterID",
          "EncounterCode",
          "EncounterDesc",
          "EncounterReason",
          "EncounterReasonDesc",
          "ObsCode",
          "ObsDesc",
          "ObsValue",
          "ObsValueFloat",
          "UNITS",
          "ProcedureDate",
          "ProcedureDesc",
          "ProcedureReason"
         ],
         "yaxis": "y",
         "z": [
          [
           1,
           1,
           0.9994121116054558,
           0.9969343787642917,
           0.1422159684729928,
           0.041072075601008326,
           0.06909210322008594,
           0.018940656993115805,
           0,
           0.120286523780779,
           0.7230669046489752,
           0.7279832119286735,
           0.13047467470094454,
           0.20826723214710796,
           0.15217831418183414,
           0.06658792985199177,
           0.22654564108312417,
           0.17551571866086563,
           0,
           0,
           0.12777058794674293,
           0.12777058794674293,
           0,
           0.6460208141528153,
           0.11051272538529547,
           0.31635929403721186
          ],
          [
           0.9923731894263971,
           1,
           0.9914990499199504,
           0.9890415622114574,
           0.13888736491386297,
           0.038994936140626345,
           0.06715099931793327,
           0.018794318863971666,
           0,
           0.1181022691481909,
           0.7173249103022195,
           0.7221903795451339,
           0.12831044348840662,
           0.2053261729457579,
           0.15151300022106154,
           0.06563306625066946,
           0.22435107434682386,
           0.1743329359498301,
           0,
           0,
           0.12550802503945513,
           0.12550802503945513,
           0,
           0.6408377725441884,
           0.10889448551401393,
           0.3123517497779833
          ],
          [
           0.9632588703486579,
           0.9629764991206797,
           1,
           0.9974415550547047,
           0.12572434509097935,
           0.03750849176311967,
           0.06425711852891546,
           0.017452732082115983,
           0,
           0.1115346238002336,
           0.7218076062923616,
           0.7268526387102536,
           0.121489661996097,
           0.19440351862722766,
           0.14743774604373866,
           0.06321718292657595,
           0.22071009592857577,
           0.1648498711301474,
           0,
           0,
           0.12561289873175105,
           0.12561289873175105,
           0,
           0.645303979821166,
           0.10290686611754701,
           0.31077743827260473
          ],
          [
           0.9633354088810332,
           0.9630536258842711,
           1,
           1,
           0.12651961012524532,
           0.0405662281413879,
           0.06661766025590775,
           0.01896285050075402,
           0,
           0.11338492588987288,
           0.7225741045799964,
           0.7276259233626579,
           0.12301208383717317,
           0.19620887543486026,
           0.14775966161796739,
           0.06515867886038747,
           0.22071009592857577,
           0.1648498711301474,
           0,
           0,
           0.13076193321436105,
           0.13076193321436105,
           0,
           0.6467226303016024,
           0.10531608885398049,
           0.31123713146644094
          ],
          [
           0.01098395221153048,
           0.010809310374672925,
           0.010074679634358916,
           0.010112468119652435,
           1,
           0.004251983534381102,
           0.006959653578406975,
           0.005654279704526064,
           0,
           0.011536730863704603,
           0.016931012507161895,
           0.016837414395359334,
           0.01056350157588176,
           0.01788001075376517,
           0.0429613935300618,
           0.005796402508005745,
           0.10734871947119129,
           0.017881497724639768,
           0,
           0,
           0.06429680670250985,
           0.06429680670250985,
           0,
           0.021039708713676723,
           0.008498692240179207,
           0.07465860443169854
          ],
          [
           0.010601637960930785,
           0.010142838475593902,
           0.010045175091341174,
           0.010836274459292262,
           0.01421044313313793,
           1,
           0.3715582276619207,
           0.0031930564699862696,
           0,
           0.23759264493854315,
           0.02139255631010382,
           0.020225956650042273,
           0.07887776560328062,
           0.20433499347235967,
           0.20942938786440482,
           0.08161472734076725,
           0.33746228915987564,
           0.10790302233888281,
           0,
           0,
           0.24692566675180103,
           0.24692566675180103,
           0,
           0.03526288468072225,
           0.08353530571259837,
           0.15445505621964764
          ],
          [
           0.04799852029387339,
           0.047008554115084394,
           0.04631506456665536,
           0.047893641627432364,
           0.06260035371851042,
           1,
           1,
           0.03840736459277826,
           0,
           0.6780084189203787,
           0.09617874753546173,
           0.09162783306960282,
           0.2906378243192604,
           0.5535553549604562,
           0.35787163687550666,
           0.23801295601884465,
           0.5557860139352564,
           0.45441568455115994,
           0,
           0,
           0.6230851590049774,
           0.6230851590049774,
           0,
           0.13495397914302024,
           0.298209582109171,
           0.7155015749897227
          ],
          [
           0.0036025244653805463,
           0.0036021638859391938,
           0.003444109198660088,
           0.003732540852028114,
           0.013924477773003964,
           0.0023528388373085167,
           0.010515428428613896,
           1,
           0,
           0.014155970378957489,
           0.008402006376996472,
           0.006885373278360857,
           0.006963561815145305,
           0.019057402977912453,
           0.03423248947168012,
           0.0016549517115578443,
           0.05021568950795254,
           0.01196646773808375,
           0,
           0,
           0.03587732805101762,
           0.03587732805101762,
           0,
           0.015968827739561573,
           0.034623044224205146,
           0.07038043792013679
          ],
          [
           0,
           0,
           0,
           0,
           0,
           0,
           0,
           0,
           1,
           0,
           0,
           0,
           0,
           0,
           0,
           0,
           0,
           0,
           0,
           0,
           0,
           0,
           0,
           0,
           0,
           0
          ],
          [
           0.1136233614193014,
           0.11241748847119028,
           0.10931051919464033,
           0.11083962008885138,
           0.14109874427719712,
           0.8694754674927337,
           0.9219052957895733,
           0.07030373604453197,
           0,
           1,
           0.19366757381403918,
           0.18872183145462845,
           0.464522474885328,
           0.7563150325709121,
           0.6063828181110024,
           0.4375852560876405,
           0.6733917879057164,
           0.6560400801365444,
           0,
           0,
           0.7952010952606772,
           0.7952010952606772,
           0,
           0.2426634247703117,
           0.4473556388858801,
           0.9354640390893095
          ],
          [
           0.9604144450115801,
           0.9601102131635573,
           0.9947254853856841,
           0.9932341463381511,
           0.29117417816316765,
           0.1100820642184479,
           0.1838907486008903,
           0.05867475794342895,
           0,
           0.2723243353067049,
           1,
           0.9964806635778196,
           0.279152886204435,
           0.38190047764047363,
           0.24653965307362938,
           0.15342178672446335,
           0.41695786541627,
           0.3813166781831817,
           0,
           0,
           0.23537811281895302,
           0.23537811281895302,
           0,
           0.6705342420302238,
           0.23488274537333556,
           0.521762004722947
          ],
          [
           0.9584586072125224,
           0.9581393439180991,
           0.9928873106582485,
           0.9914006744795555,
           0.2870232824444267,
           0.10316556268234515,
           0.1736520752277005,
           0.04766148699627671,
           0,
           0.2630410207250796,
           0.9877355252283501,
           1,
           0.26949403018003637,
           0.3741759006681117,
           0.23713765027409384,
           0.1466287435915494,
           0.4027179411388101,
           0.3706992039599812,
           0,
           0,
           0.2282269735201445,
           0.2282269735201445,
           0,
           0.6657043492646824,
           0.22643471728651884,
           0.5294215922854988
          ],
          [
           0.11386942241453757,
           0.11284124742193218,
           0.11000737712736147,
           0.11110093643814571,
           0.1193654184522673,
           0.2666915013000387,
           0.3651182934675674,
           0.03195217532629769,
           0,
           0.4291775212743244,
           0.18341836510347984,
           0.1786397270490747,
           1,
           0.5402579211904228,
           0.8254258707677038,
           0.6439051477032445,
           0.9232137331837674,
           0.9326243244625049,
           0,
           0,
           0.5011938936913607,
           0.5011938936913607,
           0,
           0.22253594387330386,
           0.2310746981684659,
           0.6578492159000842
          ],
          [
           0.25820508103925705,
           0.25651521422005547,
           0.25006306577806187,
           0.25173959921059386,
           0.2870128511511096,
           0.9814321228777366,
           0.987882880340447,
           0.12422118180924126,
           0,
           0.99264946383504,
           0.35646249372800104,
           0.35234462755123125,
           0.7674747340370931,
           1,
           0.9728718330831773,
           0.9598478253435888,
           0.9970170874447135,
           0.9778179124074775,
           0,
           0,
           0.9008394368408916,
           0.9008394368408916,
           0,
           0.4036599600086921,
           0.5372630619384697,
           0.9412421918828843
          ],
          [
           0.15217831418183414,
           0.15151300022106154,
           0.14743774604373866,
           0.14775966161796739,
           0.0429613935300618,
           0.20942938786440482,
           0.35787163687550666,
           0.03423248947168012,
           0,
           0.6063828181110024,
           0.24653965307362938,
           0.23713765027409384,
           0.8254258707677038,
           0.9728718330831773,
           1,
           0.9999996645509093,
           0.033968018613521854,
           0.9999999999942685,
           0,
           0,
           -0.1448939987057474,
           -0.1448939987057474,
           0,
           0.047917657324264847,
           0.3075263626437216,
           0.12500203163537366
          ],
          [
           0.02629216227728871,
           0.02611430441066632,
           0.025898077192006475,
           0.026625152858112216,
           0.029633234300874247,
           0.12484553256397417,
           0.13527948864848816,
           0.0034356128430149506,
           0,
           0.1829122585143976,
           0.04560764289563549,
           0.043974195854097675,
           0.29132100051464627,
           0.3056957051523993,
           0.9999996645509093,
           1,
           0.23810489590687892,
           0.31761472745340524,
           0,
           0,
           0.3397507766224759,
           0.3397507766224759,
           0,
           0.06405656963178342,
           0.1060776592675091,
           0.4209387758720426
          ],
          [
           0.22654564108312417,
           0.22435107434682386,
           0.22071009592857577,
           0.22071009592857577,
           0.10734871947119129,
           0.33746228915987564,
           0.5557860139352564,
           0.05021568950795254,
           0,
           0.6733917879057164,
           0.41695786541627,
           0.4027179411388101,
           0.9232137331837674,
           0.9970170874447135,
           0.033968018613521854,
           0.23810489590687892,
           1,
           0.9876216317515006,
           0,
           0,
           -0.29180158597228095,
           -0.29180158597228095,
           0,
           0.19285550714375982,
           0.1999637201452876,
           0.0945792478418946
          ],
          [
           0.09678467295039916,
           0.09681223818374127,
           0.09464140822018456,
           0.0945616069355163,
           0.13249809323381753,
           0.2738204591297014,
           0.3835416709097431,
           0.03383440939405923,
           0,
           0.404227460964642,
           0.15927529708330843,
           0.15619261593336187,
           0.7383577599252917,
           0.4841534418661977,
           0.9999999999942685,
           0.9604183392673348,
           0.9876216317515006,
           1,
           0,
           0,
           0.5804879745545936,
           0.5804879745545936,
           0,
           0.1917841087714655,
           0.21672885805919806,
           0.8850841296654761
          ],
          [
           0,
           0,
           0,
           0,
           0,
           0,
           0,
           0,
           0,
           0,
           0,
           0,
           0,
           0,
           0,
           0,
           0,
           0,
           1,
           0,
           0,
           0,
           0,
           0,
           0,
           0
          ],
          [
           0,
           0,
           0,
           0,
           0,
           0,
           0,
           0,
           0,
           0,
           0,
           0,
           0,
           0,
           0,
           0,
           0,
           0,
           0,
           1,
           0,
           0,
           0,
           0,
           0,
           0
          ],
          [
           0.12777058794674293,
           0.12550802503945513,
           0.12561289873175105,
           0.13076193321436105,
           0.06429680670250985,
           0.24692566675180103,
           0.6230851590049774,
           0.03587732805101762,
           0,
           0.7952010952606772,
           0.23537811281895302,
           0.2282269735201445,
           0.5011938936913607,
           0.9008394368408916,
           -0.1448939987057474,
           0.3397507766224759,
           -0.29180158597228095,
           0.5804879745545936,
           0,
           0,
           1,
           0.9999999999999992,
           0,
           0.03890268056478303,
           0.32609842771862957,
           -0.37946867580082766
          ],
          [
           0.12777058794674293,
           0.12550802503945513,
           0.12561289873175105,
           0.13076193321436105,
           0.06429680670250985,
           0.24692566675180103,
           0.6230851590049774,
           0.03587732805101762,
           0,
           0.7952010952606772,
           0.23537811281895302,
           0.2282269735201445,
           0.5011938936913607,
           0.9008394368408916,
           -0.1448939987057474,
           0.3397507766224759,
           -0.29180158597228095,
           0.5804879745545936,
           0,
           0,
           0.9999999999999992,
           1,
           0,
           0.03890268056478303,
           0.32609842771862957,
           -0.37946867580082766
          ],
          [
           0,
           0,
           0,
           0,
           0,
           0,
           0,
           0,
           0,
           0,
           0,
           0,
           0,
           0,
           0,
           0,
           0,
           0,
           0,
           0,
           0,
           0,
           1,
           0,
           0,
           0
          ],
          [
           0.9506152464505346,
           0.9502357035884753,
           0.9851995379948074,
           0.9848393022816921,
           0.40085537928078385,
           0.20102486680524884,
           0.2858541641317854,
           0.12354335786892713,
           0,
           0.3780175197047249,
           0.7428464052141267,
           0.7440252275546084,
           0.37521270684231234,
           0.47910433306111505,
           0.21917527590586064,
           0.23872128935468445,
           0.49924635989938954,
           0.5000367269472309,
           0,
           0,
           0.15346646660903332,
           0.15346646660903332,
           0,
           1,
           0.32600204422061535,
           0.580535437245867
          ],
          [
           0.05483080334380929,
           0.05444314241578097,
           0.05297345064786205,
           0.05407494554903767,
           0.05459516094481482,
           0.16056691652724184,
           0.21297786927582044,
           0.09031620288467232,
           0,
           0.23497116844626043,
           0.08773709175349141,
           0.0853303125126684,
           0.13136625495390347,
           0.21500841794446274,
           0.3075263626437216,
           0.13329242119217596,
           0.1999637201452876,
           0.18303614607015498,
           0,
           0,
           0.32609842771862957,
           0.32609842771862957,
           0,
           0.10991940738408086,
           1,
           0.6223708280004799
          ],
          [
           0.31635929403721186,
           0.3123517497779833,
           0.31077743827260473,
           0.31123713146644094,
           0.07465860443169854,
           0.15445505621964764,
           0.7155015749897227,
           0.07038043792013679,
           0,
           0.9354640390893095,
           0.521762004722947,
           0.5294215922854988,
           0.6578492159000842,
           0.9412421918828843,
           0.12500203163537366,
           0.4209387758720426,
           0.0945792478418946,
           0.8850841296654761,
           0,
           0,
           -0.37946867580082766,
           -0.37946867580082766,
           0,
           0.24685712529804707,
           0.6223708280004799,
           1
          ]
         ]
        },
        {
         "showscale": false,
         "type": "heatmap",
         "x": [
          "EventDate",
          "DATE",
          "PatientID",
          "BirthDate",
          "DeathDate",
          "RACE",
          "ETHNICITY",
          "GENDER",
          "BIRTHPLACE",
          "ADDRESS",
          "StartDate",
          "EndDate",
          "ConditionDesc",
          "EncounterID",
          "EncounterCode",
          "EncounterDesc",
          "EncounterReason",
          "EncounterReasonDesc",
          "ObsCode",
          "ObsDesc",
          "ObsValue",
          "ObsValueFloat",
          "UNITS",
          "ProcedureDate",
          "ProcedureDesc",
          "ProcedureReason"
         ],
         "xaxis": "x2",
         "y": [
          "EventDate",
          "DATE",
          "PatientID",
          "BirthDate",
          "DeathDate",
          "RACE",
          "ETHNICITY",
          "GENDER",
          "BIRTHPLACE",
          "ADDRESS",
          "StartDate",
          "EndDate",
          "ConditionDesc",
          "EncounterID",
          "EncounterCode",
          "EncounterDesc",
          "EncounterReason",
          "EncounterReasonDesc",
          "ObsCode",
          "ObsDesc",
          "ObsValue",
          "ObsValueFloat",
          "UNITS",
          "ProcedureDate",
          "ProcedureDesc",
          "ProcedureReason"
         ],
         "yaxis": "y2",
         "z": [
          [
           1,
           1,
           1,
           1,
           1,
           0.04047035696372264,
           0.07724141564205511,
           0.026434111917258783,
           0,
           0.13767272892410468,
           0.7204830521600286,
           0.7213297656840616,
           0.13899764435169432,
           0.23698134059359283,
           0.151806789381063,
           0.07817481637090262,
           0.22570524379355703,
           0.18505705166371467,
           0,
           0,
           0.17058167312318562,
           0.17058167312318562,
           0,
           0.651222119392127,
           0.12347922619236248,
           0.33831247924594693
          ],
          [
           0.9940238897560599,
           1,
           0.9938055616674953,
           0.9938055616674953,
           1,
           0.04028853974729915,
           0.07643478354446685,
           0.026433894023713884,
           0,
           0.13648928749510622,
           0.7159965494925034,
           0.7168243580114746,
           0.13740427205932595,
           0.23498243720628623,
           0.15175814655393402,
           0.07689603730248087,
           0.2239748613197738,
           0.18296244740652082,
           0,
           0,
           0.16743547502859404,
           0.16743547502859404,
           0,
           0.6471537159507674,
           0.12187927834125725,
           0.3382534954341699
          ],
          [
           0.9647541751414518,
           0.9645422758730701,
           1,
           1,
           1,
           0.03952198994242765,
           0.07189495552665796,
           0.02420671605285057,
           0,
           0.12822421184669403,
           0.7204830521600286,
           0.7213297656840616,
           0.12918640008575344,
           0.2219050667206667,
           0.14970473270972767,
           0.07201065101532148,
           0.22125484287805952,
           0.1707871815853645,
           0,
           0,
           0.1583544818890813,
           0.1583544818890813,
           0,
           0.6512221193921274,
           0.11387891676867506,
           0.33704988036509714
          ],
          [
           0.9647541751414518,
           0.9645422758730701,
           1,
           1,
           1,
           0.03952198994242765,
           0.07189495552665796,
           0.02420671605285057,
           0,
           0.12822421184669403,
           0.7204830521600286,
           0.7213297656840616,
           0.12918640008575344,
           0.2219050667206667,
           0.14970473270972767,
           0.07201065101532148,
           0.22125484287805952,
           0.1707871815853645,
           0,
           0,
           0.1583544818890813,
           0.1583544818890813,
           0,
           0.6512221193921274,
           0.11387891676867506,
           0.33704988036509714
          ],
          [
           0.08438257955332094,
           0.08488989089993501,
           0.08746536861677622,
           0.08746536861677622,
           1,
           0.003999366548269701,
           0.006957664705928197,
           0.003104928201106507,
           0,
           0.012788506964848225,
           0.06274019189641054,
           0.06361628313964164,
           0.011797219916531739,
           0.020280997014876064,
           0.047661215791520856,
           0.006522747603064658,
           0.094407227333387,
           0.010533593850325445,
           0,
           0,
           0.03629074277442829,
           0.03629074277442829,
           0,
           0.05713101735520816,
           0.009686425076603335,
           0.12907543013997513
          ],
          [
           0.010403128761724856,
           0.010418654671035346,
           0.010530502010937992,
           0.010530502010937992,
           0.012183311577271906,
           1,
           0.37750798562011756,
           0.08377027887665953,
           0,
           0.23337097014969527,
           0.025663041477854198,
           0.02535736786948408,
           0.07908540554271458,
           0.19704693834374487,
           0.27091185533883483,
           0.08943910480310262,
           0.2565472494908934,
           0.12089840562492545,
           0,
           0,
           0.2575215318276383,
           0.2575215318276383,
           0,
           0.03367564907166191,
           0.09371323101031706,
           0.16491621983587088
          ],
          [
           0.05259579459383116,
           0.05235944251573291,
           0.050743748811380864,
           0.050743748811380864,
           0.05614505277485254,
           1,
           1,
           0.3238788577542533,
           0,
           0.659010869521736,
           0.0983315506304954,
           0.0981056361078726,
           0.27449155690531624,
           0.5223334596275794,
           0.32391297416950005,
           0.2164527173197381,
           0.4901619686908353,
           0.4389091066978265,
           0,
           0,
           0.5726301445742291,
           0.5726301445742291,
           0,
           0.13302426093038763,
           0.3172261700793077,
           0.7525351552056577
          ],
          [
           0.004967791020927591,
           0.004997616378394096,
           0.004715392006555478,
           0.004715392006555478,
           0.006915082378863575,
           0.061243727603783396,
           0.08938824215185284,
           1,
           0,
           0.1796203729131352,
           0.0075963142375159,
           0.007577778158875734,
           0.059036508118545265,
           0.14161392093756248,
           0.06277725180560895,
           0.033777962110129726,
           0.04539284395840076,
           0.07706555544724909,
           0,
           0,
           0.22518727132366806,
           0.22518727132366806,
           0,
           0.016705962730517707,
           0.038844354008953724,
           0.26366810156442466
          ],
          [
           0,
           0,
           0,
           0,
           0,
           0,
           0,
           0,
           1,
           0,
           0,
           0,
           0,
           0,
           0,
           0,
           0,
           0,
           0,
           0,
           0,
           0,
           0,
           0,
           0,
           0
          ],
          [
           0.13117866050964522,
           0.13083291432602334,
           0.1266393411643113,
           0.1266393411643113,
           0.14440502888457027,
           0.8650379558539695,
           0.9221616405614929,
           0.9106935712756807,
           0,
           1,
           0.20905144626937536,
           0.20885253099554046,
           0.44945513289272193,
           0.7310336238099788,
           0.5296436495429683,
           0.4173703129347833,
           0.605845910767093,
           0.6444991998030413,
           0,
           0,
           0.8241556797549815,
           0.8241556797549815,
           0,
           0.2588126063314916,
           0.490971593062374,
           0.944851052166552
          ],
          [
           0.959697668244983,
           0.9594553690606898,
           0.9947587613230828,
           0.9947587613230828,
           0.9903842276339256,
           0.13298169286701314,
           0.1923546821665925,
           0.05384123317300286,
           0,
           0.29224600006127677,
           1,
           0.9961878840854818,
           0.29008811665258827,
           0.41754156680566634,
           0.2515262523692518,
           0.15897407702510952,
           0.43590991396900064,
           0.3844158521408661,
           0,
           0,
           0.2596943106073676,
           0.2596943106073676,
           0,
           0.6477869472258271,
           0.2534458702962221,
           0.49722890329953495
          ],
          [
           0.9567938165045622,
           0.9565340592507884,
           0.9917488217807169,
           0.9917488217807169,
           1,
           0.1308463880155591,
           0.1911074723162896,
           0.053484482674757555,
           0,
           0.2907428062581544,
           0.9920078101921103,
           1,
           0.28619929511068865,
           0.4142712165559521,
           0.2439284672011275,
           0.1583805364967648,
           0.43784605326953235,
           0.37975364302206593,
           0,
           0,
           0.2685143184544675,
           0.2685143184544675,
           0,
           0.6458100693016117,
           0.2519619088818373,
           0.49001646073619437
          ],
          [
           0.12343291902139712,
           0.12275154668724941,
           0.11891145386794007,
           0.11891145386794007,
           0.12415106153059555,
           0.2732077197492346,
           0.35797422212231444,
           0.27896237231242904,
           0,
           0.4188848304634356,
           0.19339392501849295,
           0.19160534194874593,
           1,
           0.5412671180796523,
           0.8640375331333758,
           0.6725077442014674,
           0.9420431767628746,
           0.9482881126326859,
           0,
           0,
           0.4421296530169622,
           0.4421296530169622,
           0,
           0.23692957602775142,
           0.2477465321180739,
           0.6801911049871772
          ],
          [
           0.3077202730083194,
           0.30695911847332463,
           0.29867062373592906,
           0.29867062373592906,
           0.3120889993594268,
           0.9953703723463351,
           0.9960680457425011,
           0.9784740467765985,
           0,
           0.9962401465195588,
           0.40703429583853856,
           0.40554795018495365,
           0.7914619527595954,
           1,
           0.9999999999992518,
           0.9982514138769927,
           0.9999999999999999,
           1,
           0,
           0,
           0.9163178598710714,
           0.9163178598710714,
           0,
           0.4531212503406249,
           0.5726316160619718,
           0.9465668001380414
          ],
          [
           0.151806789381063,
           0.15175814655393402,
           0.14970473270972767,
           0.14970473270972767,
           0.047661215791520856,
           0.27091185533883483,
           0.32391297416950005,
           0.06277725180560895,
           0,
           0.5296436495429683,
           0.2515262523692518,
           0.2439284672011275,
           0.8640375331333758,
           0.9999999999992518,
           1,
           0.9999994904536867,
           -0.05294058108660525,
           1.0000000000000002,
           0,
           0,
           -0.14741436062522997,
           -0.14741436062522997,
           0,
           0.054129582718115875,
           0.3297763173864101,
           0.05062946064524109
          ],
          [
           0.0318257628699841,
           0.031493366736183394,
           0.03038729368853617,
           0.03038729368853617,
           0.03146949177079753,
           0.14164865583802339,
           0.12941189573000225,
           0.0731723163322815,
           0,
           0.17832746537392066,
           0.048587840239752204,
           0.04861040689400321,
           0.3083086312246196,
           0.31297520289206365,
           0.9999994904536867,
           1,
           0.22049650392404788,
           0.32675674291836876,
           0,
           0,
           0.33114353520053735,
           0.33114353520053735,
           0,
           0.07038772640841907,
           0.10350350635547181,
           0.5454040724752361
          ],
          [
           0.22570524379355703,
           0.2239748613197738,
           0.22125484287805952,
           0.22125484287805952,
           0.094407227333387,
           0.2565472494908934,
           0.4901619686908353,
           0.04539284395840076,
           0,
           0.605845910767093,
           0.43590991396900064,
           0.43784605326953235,
           0.9420431767628746,
           0.9999999999999999,
           -0.05294058108660525,
           0.22049650392404788,
           1,
           1,
           0,
           0,
           -0.15372675604471953,
           -0.15372675604471953,
           0,
           0.1778604940581624,
           0.2512472281818334,
           0.009796355129836962
          ],
          [
           0.09761967887851214,
           0.09670010154345118,
           0.09370325255107935,
           0.09370325255107935,
           0.07842008524998567,
           0.29685349928390253,
           0.35858285233402537,
           0.22186995840895982,
           0,
           0.37247322349074063,
           0.15441098694112115,
           0.15348373915968808,
           0.7744534661464015,
           0.4492570290707342,
           1.0000000000000002,
           1,
           1,
           1,
           0,
           0,
           0.49309200136921727,
           0.49309200136921727,
           0,
           0.1778604940581624,
           0.21027047672116866,
           0.9339710413717052
          ],
          [
           0,
           0,
           0,
           0,
           0,
           0,
           0,
           0,
           0,
           0,
           0,
           0,
           0,
           0,
           0,
           0,
           0,
           0,
           1,
           0,
           0,
           0,
           0,
           0,
           0,
           0
          ],
          [
           0,
           0,
           0,
           0,
           0,
           0,
           0,
           0,
           0,
           0,
           0,
           0,
           0,
           0,
           0,
           0,
           0,
           0,
           0,
           1,
           0,
           0,
           0,
           0,
           0,
           0
          ],
          [
           0.17058167312318562,
           0.16743547502859404,
           0.1583544818890813,
           0.1583544818890813,
           0.03629074277442829,
           0.2575215318276383,
           0.5726301445742291,
           0.22518727132366806,
           0,
           0.8241556797549815,
           0.2596943106073676,
           0.2685143184544675,
           0.4421296530169622,
           0.9163178598710714,
           -0.14741436062522997,
           0.33114353520053735,
           -0.15372675604471953,
           0.49309200136921727,
           0,
           0,
           1,
           0.999999999999999,
           0,
           0.04129148259253189,
           0.34283419982592456,
           -0.35628570376292734
          ],
          [
           0.17058167312318562,
           0.16743547502859404,
           0.1583544818890813,
           0.1583544818890813,
           0.03629074277442829,
           0.2575215318276383,
           0.5726301445742291,
           0.22518727132366806,
           0,
           0.8241556797549815,
           0.2596943106073676,
           0.2685143184544675,
           0.4421296530169622,
           0.9163178598710714,
           -0.14741436062522997,
           0.33114353520053735,
           -0.15372675604471953,
           0.49309200136921727,
           0,
           0,
           0.999999999999999,
           1,
           0,
           0.04129148259253189,
           0.34283419982592456,
           -0.35628570376292734
          ],
          [
           0,
           0,
           0,
           0,
           0,
           0,
           0,
           0,
           0,
           0,
           0,
           0,
           0,
           0,
           0,
           0,
           0,
           0,
           0,
           0,
           0,
           0,
           1,
           0,
           0,
           0
          ],
          [
           0.9565853620158838,
           0.9563243515256254,
           0.9915327517246866,
           0.9915327517246866,
           0.9945205186211338,
           0.1924348048803675,
           0.286962169006416,
           0.1305772451716258,
           0,
           0.39899250981152706,
           0.7143583247352144,
           0.715179230182991,
           0.3919135737710884,
           0.5125863777883384,
           0.23741071389346738,
           0.25396833513673156,
           0.478942767779058,
           0.478942767779058,
           0,
           0,
           0.16686498811690068,
           0.16686498811690068,
           0,
           1,
           0.35014098866270477,
           0.5750855134769889
          ],
          [
           0.06518949873570434,
           0.06473166745409353,
           0.06231755463085101,
           0.06231755463085101,
           0.060603048157789434,
           0.1924676373556383,
           0.24595290384096333,
           0.10912218463975593,
           0,
           0.272035033025446,
           0.10045193138295286,
           0.10028457218272852,
           0.14728813634777776,
           0.23281829680856078,
           0.3297763173864101,
           0.1342229723838196,
           0.2512472281818334,
           0.20169978200346797,
           0,
           0,
           0.34283419982592456,
           0.34283419982592456,
           0,
           0.12584388250691544,
           1,
           0.6574158573684039
          ],
          [
           0.33831247924594693,
           0.3382534954341699,
           0.33704988036509714,
           0.33704988036509714,
           0.12907543013997513,
           0.16491621983587088,
           0.7525351552056577,
           0.26366810156442466,
           0,
           0.944851052166552,
           0.49722890329953495,
           0.49001646073619437,
           0.6801911049871772,
           0.9465668001380414,
           0.05062946064524109,
           0.5454040724752361,
           0.009796355129836962,
           0.9339710413717052,
           0,
           0,
           -0.35628570376292734,
           -0.35628570376292734,
           0,
           0.2608888895603395,
           0.6574158573684039,
           1
          ]
         ]
        }
       ],
       "layout": {
        "template": {
         "data": {
          "bar": [
           {
            "error_x": {
             "color": "#2a3f5f"
            },
            "error_y": {
             "color": "#2a3f5f"
            },
            "marker": {
             "line": {
              "color": "#E5ECF6",
              "width": 0.5
             },
             "pattern": {
              "fillmode": "overlay",
              "size": 10,
              "solidity": 0.2
             }
            },
            "type": "bar"
           }
          ],
          "barpolar": [
           {
            "marker": {
             "line": {
              "color": "#E5ECF6",
              "width": 0.5
             },
             "pattern": {
              "fillmode": "overlay",
              "size": 10,
              "solidity": 0.2
             }
            },
            "type": "barpolar"
           }
          ],
          "carpet": [
           {
            "aaxis": {
             "endlinecolor": "#2a3f5f",
             "gridcolor": "white",
             "linecolor": "white",
             "minorgridcolor": "white",
             "startlinecolor": "#2a3f5f"
            },
            "baxis": {
             "endlinecolor": "#2a3f5f",
             "gridcolor": "white",
             "linecolor": "white",
             "minorgridcolor": "white",
             "startlinecolor": "#2a3f5f"
            },
            "type": "carpet"
           }
          ],
          "choropleth": [
           {
            "colorbar": {
             "outlinewidth": 0,
             "ticks": ""
            },
            "type": "choropleth"
           }
          ],
          "contour": [
           {
            "colorbar": {
             "outlinewidth": 0,
             "ticks": ""
            },
            "colorscale": [
             [
              0,
              "#0d0887"
             ],
             [
              0.1111111111111111,
              "#46039f"
             ],
             [
              0.2222222222222222,
              "#7201a8"
             ],
             [
              0.3333333333333333,
              "#9c179e"
             ],
             [
              0.4444444444444444,
              "#bd3786"
             ],
             [
              0.5555555555555556,
              "#d8576b"
             ],
             [
              0.6666666666666666,
              "#ed7953"
             ],
             [
              0.7777777777777778,
              "#fb9f3a"
             ],
             [
              0.8888888888888888,
              "#fdca26"
             ],
             [
              1,
              "#f0f921"
             ]
            ],
            "type": "contour"
           }
          ],
          "contourcarpet": [
           {
            "colorbar": {
             "outlinewidth": 0,
             "ticks": ""
            },
            "type": "contourcarpet"
           }
          ],
          "heatmap": [
           {
            "colorbar": {
             "outlinewidth": 0,
             "ticks": ""
            },
            "colorscale": [
             [
              0,
              "#0d0887"
             ],
             [
              0.1111111111111111,
              "#46039f"
             ],
             [
              0.2222222222222222,
              "#7201a8"
             ],
             [
              0.3333333333333333,
              "#9c179e"
             ],
             [
              0.4444444444444444,
              "#bd3786"
             ],
             [
              0.5555555555555556,
              "#d8576b"
             ],
             [
              0.6666666666666666,
              "#ed7953"
             ],
             [
              0.7777777777777778,
              "#fb9f3a"
             ],
             [
              0.8888888888888888,
              "#fdca26"
             ],
             [
              1,
              "#f0f921"
             ]
            ],
            "type": "heatmap"
           }
          ],
          "heatmapgl": [
           {
            "colorbar": {
             "outlinewidth": 0,
             "ticks": ""
            },
            "colorscale": [
             [
              0,
              "#0d0887"
             ],
             [
              0.1111111111111111,
              "#46039f"
             ],
             [
              0.2222222222222222,
              "#7201a8"
             ],
             [
              0.3333333333333333,
              "#9c179e"
             ],
             [
              0.4444444444444444,
              "#bd3786"
             ],
             [
              0.5555555555555556,
              "#d8576b"
             ],
             [
              0.6666666666666666,
              "#ed7953"
             ],
             [
              0.7777777777777778,
              "#fb9f3a"
             ],
             [
              0.8888888888888888,
              "#fdca26"
             ],
             [
              1,
              "#f0f921"
             ]
            ],
            "type": "heatmapgl"
           }
          ],
          "histogram": [
           {
            "marker": {
             "pattern": {
              "fillmode": "overlay",
              "size": 10,
              "solidity": 0.2
             }
            },
            "type": "histogram"
           }
          ],
          "histogram2d": [
           {
            "colorbar": {
             "outlinewidth": 0,
             "ticks": ""
            },
            "colorscale": [
             [
              0,
              "#0d0887"
             ],
             [
              0.1111111111111111,
              "#46039f"
             ],
             [
              0.2222222222222222,
              "#7201a8"
             ],
             [
              0.3333333333333333,
              "#9c179e"
             ],
             [
              0.4444444444444444,
              "#bd3786"
             ],
             [
              0.5555555555555556,
              "#d8576b"
             ],
             [
              0.6666666666666666,
              "#ed7953"
             ],
             [
              0.7777777777777778,
              "#fb9f3a"
             ],
             [
              0.8888888888888888,
              "#fdca26"
             ],
             [
              1,
              "#f0f921"
             ]
            ],
            "type": "histogram2d"
           }
          ],
          "histogram2dcontour": [
           {
            "colorbar": {
             "outlinewidth": 0,
             "ticks": ""
            },
            "colorscale": [
             [
              0,
              "#0d0887"
             ],
             [
              0.1111111111111111,
              "#46039f"
             ],
             [
              0.2222222222222222,
              "#7201a8"
             ],
             [
              0.3333333333333333,
              "#9c179e"
             ],
             [
              0.4444444444444444,
              "#bd3786"
             ],
             [
              0.5555555555555556,
              "#d8576b"
             ],
             [
              0.6666666666666666,
              "#ed7953"
             ],
             [
              0.7777777777777778,
              "#fb9f3a"
             ],
             [
              0.8888888888888888,
              "#fdca26"
             ],
             [
              1,
              "#f0f921"
             ]
            ],
            "type": "histogram2dcontour"
           }
          ],
          "mesh3d": [
           {
            "colorbar": {
             "outlinewidth": 0,
             "ticks": ""
            },
            "type": "mesh3d"
           }
          ],
          "parcoords": [
           {
            "line": {
             "colorbar": {
              "outlinewidth": 0,
              "ticks": ""
             }
            },
            "type": "parcoords"
           }
          ],
          "pie": [
           {
            "automargin": true,
            "type": "pie"
           }
          ],
          "scatter": [
           {
            "marker": {
             "colorbar": {
              "outlinewidth": 0,
              "ticks": ""
             }
            },
            "type": "scatter"
           }
          ],
          "scatter3d": [
           {
            "line": {
             "colorbar": {
              "outlinewidth": 0,
              "ticks": ""
             }
            },
            "marker": {
             "colorbar": {
              "outlinewidth": 0,
              "ticks": ""
             }
            },
            "type": "scatter3d"
           }
          ],
          "scattercarpet": [
           {
            "marker": {
             "colorbar": {
              "outlinewidth": 0,
              "ticks": ""
             }
            },
            "type": "scattercarpet"
           }
          ],
          "scattergeo": [
           {
            "marker": {
             "colorbar": {
              "outlinewidth": 0,
              "ticks": ""
             }
            },
            "type": "scattergeo"
           }
          ],
          "scattergl": [
           {
            "marker": {
             "colorbar": {
              "outlinewidth": 0,
              "ticks": ""
             }
            },
            "type": "scattergl"
           }
          ],
          "scattermapbox": [
           {
            "marker": {
             "colorbar": {
              "outlinewidth": 0,
              "ticks": ""
             }
            },
            "type": "scattermapbox"
           }
          ],
          "scatterpolar": [
           {
            "marker": {
             "colorbar": {
              "outlinewidth": 0,
              "ticks": ""
             }
            },
            "type": "scatterpolar"
           }
          ],
          "scatterpolargl": [
           {
            "marker": {
             "colorbar": {
              "outlinewidth": 0,
              "ticks": ""
             }
            },
            "type": "scatterpolargl"
           }
          ],
          "scatterternary": [
           {
            "marker": {
             "colorbar": {
              "outlinewidth": 0,
              "ticks": ""
             }
            },
            "type": "scatterternary"
           }
          ],
          "surface": [
           {
            "colorbar": {
             "outlinewidth": 0,
             "ticks": ""
            },
            "colorscale": [
             [
              0,
              "#0d0887"
             ],
             [
              0.1111111111111111,
              "#46039f"
             ],
             [
              0.2222222222222222,
              "#7201a8"
             ],
             [
              0.3333333333333333,
              "#9c179e"
             ],
             [
              0.4444444444444444,
              "#bd3786"
             ],
             [
              0.5555555555555556,
              "#d8576b"
             ],
             [
              0.6666666666666666,
              "#ed7953"
             ],
             [
              0.7777777777777778,
              "#fb9f3a"
             ],
             [
              0.8888888888888888,
              "#fdca26"
             ],
             [
              1,
              "#f0f921"
             ]
            ],
            "type": "surface"
           }
          ],
          "table": [
           {
            "cells": {
             "fill": {
              "color": "#EBF0F8"
             },
             "line": {
              "color": "white"
             }
            },
            "header": {
             "fill": {
              "color": "#C8D4E3"
             },
             "line": {
              "color": "white"
             }
            },
            "type": "table"
           }
          ]
         },
         "layout": {
          "annotationdefaults": {
           "arrowcolor": "#2a3f5f",
           "arrowhead": 0,
           "arrowwidth": 1
          },
          "autotypenumbers": "strict",
          "coloraxis": {
           "colorbar": {
            "outlinewidth": 0,
            "ticks": ""
           }
          },
          "colorscale": {
           "diverging": [
            [
             0,
             "#8e0152"
            ],
            [
             0.1,
             "#c51b7d"
            ],
            [
             0.2,
             "#de77ae"
            ],
            [
             0.3,
             "#f1b6da"
            ],
            [
             0.4,
             "#fde0ef"
            ],
            [
             0.5,
             "#f7f7f7"
            ],
            [
             0.6,
             "#e6f5d0"
            ],
            [
             0.7,
             "#b8e186"
            ],
            [
             0.8,
             "#7fbc41"
            ],
            [
             0.9,
             "#4d9221"
            ],
            [
             1,
             "#276419"
            ]
           ],
           "sequential": [
            [
             0,
             "#0d0887"
            ],
            [
             0.1111111111111111,
             "#46039f"
            ],
            [
             0.2222222222222222,
             "#7201a8"
            ],
            [
             0.3333333333333333,
             "#9c179e"
            ],
            [
             0.4444444444444444,
             "#bd3786"
            ],
            [
             0.5555555555555556,
             "#d8576b"
            ],
            [
             0.6666666666666666,
             "#ed7953"
            ],
            [
             0.7777777777777778,
             "#fb9f3a"
            ],
            [
             0.8888888888888888,
             "#fdca26"
            ],
            [
             1,
             "#f0f921"
            ]
           ],
           "sequentialminus": [
            [
             0,
             "#0d0887"
            ],
            [
             0.1111111111111111,
             "#46039f"
            ],
            [
             0.2222222222222222,
             "#7201a8"
            ],
            [
             0.3333333333333333,
             "#9c179e"
            ],
            [
             0.4444444444444444,
             "#bd3786"
            ],
            [
             0.5555555555555556,
             "#d8576b"
            ],
            [
             0.6666666666666666,
             "#ed7953"
            ],
            [
             0.7777777777777778,
             "#fb9f3a"
            ],
            [
             0.8888888888888888,
             "#fdca26"
            ],
            [
             1,
             "#f0f921"
            ]
           ]
          },
          "colorway": [
           "#636efa",
           "#EF553B",
           "#00cc96",
           "#ab63fa",
           "#FFA15A",
           "#19d3f3",
           "#FF6692",
           "#B6E880",
           "#FF97FF",
           "#FECB52"
          ],
          "font": {
           "color": "#2a3f5f"
          },
          "geo": {
           "bgcolor": "white",
           "lakecolor": "white",
           "landcolor": "#E5ECF6",
           "showlakes": true,
           "showland": true,
           "subunitcolor": "white"
          },
          "hoverlabel": {
           "align": "left"
          },
          "hovermode": "closest",
          "mapbox": {
           "style": "light"
          },
          "paper_bgcolor": "white",
          "plot_bgcolor": "#E5ECF6",
          "polar": {
           "angularaxis": {
            "gridcolor": "white",
            "linecolor": "white",
            "ticks": ""
           },
           "bgcolor": "#E5ECF6",
           "radialaxis": {
            "gridcolor": "white",
            "linecolor": "white",
            "ticks": ""
           }
          },
          "scene": {
           "xaxis": {
            "backgroundcolor": "#E5ECF6",
            "gridcolor": "white",
            "gridwidth": 2,
            "linecolor": "white",
            "showbackground": true,
            "ticks": "",
            "zerolinecolor": "white"
           },
           "yaxis": {
            "backgroundcolor": "#E5ECF6",
            "gridcolor": "white",
            "gridwidth": 2,
            "linecolor": "white",
            "showbackground": true,
            "ticks": "",
            "zerolinecolor": "white"
           },
           "zaxis": {
            "backgroundcolor": "#E5ECF6",
            "gridcolor": "white",
            "gridwidth": 2,
            "linecolor": "white",
            "showbackground": true,
            "ticks": "",
            "zerolinecolor": "white"
           }
          },
          "shapedefaults": {
           "line": {
            "color": "#2a3f5f"
           }
          },
          "ternary": {
           "aaxis": {
            "gridcolor": "white",
            "linecolor": "white",
            "ticks": ""
           },
           "baxis": {
            "gridcolor": "white",
            "linecolor": "white",
            "ticks": ""
           },
           "bgcolor": "#E5ECF6",
           "caxis": {
            "gridcolor": "white",
            "linecolor": "white",
            "ticks": ""
           }
          },
          "title": {
           "x": 0.05
          },
          "xaxis": {
           "automargin": true,
           "gridcolor": "white",
           "linecolor": "white",
           "ticks": "",
           "title": {
            "standoff": 15
           },
           "zerolinecolor": "white",
           "zerolinewidth": 2
          },
          "yaxis": {
           "automargin": true,
           "gridcolor": "white",
           "linecolor": "white",
           "ticks": "",
           "title": {
            "standoff": 15
           },
           "zerolinecolor": "white",
           "zerolinewidth": 2
          }
         }
        },
        "title": {
         "text": "Real world vs. Synthetic Correlations"
        },
        "xaxis": {
         "anchor": "y",
         "domain": [
          0,
          0.4
         ]
        },
        "xaxis2": {
         "anchor": "y2",
         "domain": [
          0.6000000000000001,
          1
         ]
        },
        "yaxis": {
         "anchor": "x",
         "domain": [
          0,
          1
         ]
        },
        "yaxis2": {
         "anchor": "x2",
         "domain": [
          0,
          1
         ]
        }
       }
      },
      "text/html": [
       "<div>                            <div id=\"b2a35051-f11c-497f-891a-3af57824fd0f\" class=\"plotly-graph-div\" style=\"height:525px; width:100%;\"></div>            <script type=\"text/javascript\">                require([\"plotly\"], function(Plotly) {                    window.PLOTLYENV=window.PLOTLYENV || {};                                    if (document.getElementById(\"b2a35051-f11c-497f-891a-3af57824fd0f\")) {                    Plotly.newPlot(                        \"b2a35051-f11c-497f-891a-3af57824fd0f\",                        [{\"x\":[\"EventDate\",\"DATE\",\"PatientID\",\"BirthDate\",\"DeathDate\",\"RACE\",\"ETHNICITY\",\"GENDER\",\"BIRTHPLACE\",\"ADDRESS\",\"StartDate\",\"EndDate\",\"ConditionDesc\",\"EncounterID\",\"EncounterCode\",\"EncounterDesc\",\"EncounterReason\",\"EncounterReasonDesc\",\"ObsCode\",\"ObsDesc\",\"ObsValue\",\"ObsValueFloat\",\"UNITS\",\"ProcedureDate\",\"ProcedureDesc\",\"ProcedureReason\"],\"y\":[\"EventDate\",\"DATE\",\"PatientID\",\"BirthDate\",\"DeathDate\",\"RACE\",\"ETHNICITY\",\"GENDER\",\"BIRTHPLACE\",\"ADDRESS\",\"StartDate\",\"EndDate\",\"ConditionDesc\",\"EncounterID\",\"EncounterCode\",\"EncounterDesc\",\"EncounterReason\",\"EncounterReasonDesc\",\"ObsCode\",\"ObsDesc\",\"ObsValue\",\"ObsValueFloat\",\"UNITS\",\"ProcedureDate\",\"ProcedureDesc\",\"ProcedureReason\"],\"z\":[[1.0,1.0,0.9994121116054558,0.9969343787642917,0.1422159684729928,0.041072075601008326,0.06909210322008594,0.018940656993115805,0.0,0.120286523780779,0.7230669046489752,0.7279832119286735,0.13047467470094454,0.20826723214710796,0.15217831418183414,0.06658792985199177,0.22654564108312417,0.17551571866086563,0.0,0.0,0.12777058794674293,0.12777058794674293,0.0,0.6460208141528153,0.11051272538529547,0.31635929403721186],[0.9923731894263971,1.0,0.9914990499199504,0.9890415622114574,0.13888736491386297,0.038994936140626345,0.06715099931793327,0.018794318863971666,0.0,0.1181022691481909,0.7173249103022195,0.7221903795451339,0.12831044348840662,0.2053261729457579,0.15151300022106154,0.06563306625066946,0.22435107434682386,0.1743329359498301,0.0,0.0,0.12550802503945513,0.12550802503945513,0.0,0.6408377725441884,0.10889448551401393,0.3123517497779833],[0.9632588703486579,0.9629764991206797,1.0,0.9974415550547047,0.12572434509097935,0.03750849176311967,0.06425711852891546,0.017452732082115983,0.0,0.1115346238002336,0.7218076062923616,0.7268526387102536,0.121489661996097,0.19440351862722766,0.14743774604373866,0.06321718292657595,0.22071009592857577,0.1648498711301474,0.0,0.0,0.12561289873175105,0.12561289873175105,0.0,0.645303979821166,0.10290686611754701,0.31077743827260473],[0.9633354088810332,0.9630536258842711,1.0,1.0,0.12651961012524532,0.0405662281413879,0.06661766025590775,0.01896285050075402,0.0,0.11338492588987288,0.7225741045799964,0.7276259233626579,0.12301208383717317,0.19620887543486026,0.14775966161796739,0.06515867886038747,0.22071009592857577,0.1648498711301474,0.0,0.0,0.13076193321436105,0.13076193321436105,0.0,0.6467226303016024,0.10531608885398049,0.31123713146644094],[0.01098395221153048,0.010809310374672925,0.010074679634358916,0.010112468119652435,1.0,0.004251983534381102,0.006959653578406975,0.005654279704526064,0.0,0.011536730863704603,0.016931012507161895,0.016837414395359334,0.01056350157588176,0.01788001075376517,0.0429613935300618,0.005796402508005745,0.10734871947119129,0.017881497724639768,0.0,0.0,0.06429680670250985,0.06429680670250985,0.0,0.021039708713676723,0.008498692240179207,0.07465860443169854],[0.010601637960930785,0.010142838475593902,0.010045175091341174,0.010836274459292262,0.01421044313313793,1.0,0.3715582276619207,0.0031930564699862696,0.0,0.23759264493854315,0.02139255631010382,0.020225956650042273,0.07887776560328062,0.20433499347235967,0.20942938786440482,0.08161472734076725,0.33746228915987564,0.10790302233888281,0.0,0.0,0.24692566675180103,0.24692566675180103,0.0,0.03526288468072225,0.08353530571259837,0.15445505621964764],[0.04799852029387339,0.047008554115084394,0.04631506456665536,0.047893641627432364,0.06260035371851042,1.0,1.0,0.03840736459277826,0.0,0.6780084189203787,0.09617874753546173,0.09162783306960282,0.2906378243192604,0.5535553549604562,0.35787163687550666,0.23801295601884465,0.5557860139352564,0.45441568455115994,0.0,0.0,0.6230851590049774,0.6230851590049774,0.0,0.13495397914302024,0.298209582109171,0.7155015749897227],[0.0036025244653805463,0.0036021638859391938,0.003444109198660088,0.003732540852028114,0.013924477773003964,0.0023528388373085167,0.010515428428613896,1.0,0.0,0.014155970378957489,0.008402006376996472,0.006885373278360857,0.006963561815145305,0.019057402977912453,0.03423248947168012,0.0016549517115578443,0.05021568950795254,0.01196646773808375,0.0,0.0,0.03587732805101762,0.03587732805101762,0.0,0.015968827739561573,0.034623044224205146,0.07038043792013679],[0.0,0.0,0.0,0.0,0.0,0.0,0.0,0.0,1.0,0.0,0.0,0.0,0.0,0.0,0.0,0.0,0.0,0.0,0.0,0.0,0.0,0.0,0.0,0.0,0.0,0.0],[0.1136233614193014,0.11241748847119028,0.10931051919464033,0.11083962008885138,0.14109874427719712,0.8694754674927337,0.9219052957895733,0.07030373604453197,0.0,1.0,0.19366757381403918,0.18872183145462845,0.464522474885328,0.7563150325709121,0.6063828181110024,0.4375852560876405,0.6733917879057164,0.6560400801365444,0.0,0.0,0.7952010952606772,0.7952010952606772,0.0,0.2426634247703117,0.4473556388858801,0.9354640390893095],[0.9604144450115801,0.9601102131635573,0.9947254853856841,0.9932341463381511,0.29117417816316765,0.1100820642184479,0.1838907486008903,0.05867475794342895,0.0,0.2723243353067049,1.0,0.9964806635778196,0.279152886204435,0.38190047764047363,0.24653965307362938,0.15342178672446335,0.41695786541627,0.3813166781831817,0.0,0.0,0.23537811281895302,0.23537811281895302,0.0,0.6705342420302238,0.23488274537333556,0.521762004722947],[0.9584586072125224,0.9581393439180991,0.9928873106582485,0.9914006744795555,0.2870232824444267,0.10316556268234515,0.1736520752277005,0.04766148699627671,0.0,0.2630410207250796,0.9877355252283501,1.0,0.26949403018003637,0.3741759006681117,0.23713765027409384,0.1466287435915494,0.4027179411388101,0.3706992039599812,0.0,0.0,0.2282269735201445,0.2282269735201445,0.0,0.6657043492646824,0.22643471728651884,0.5294215922854988],[0.11386942241453757,0.11284124742193218,0.11000737712736147,0.11110093643814571,0.1193654184522673,0.2666915013000387,0.3651182934675674,0.03195217532629769,0.0,0.4291775212743244,0.18341836510347984,0.1786397270490747,1.0,0.5402579211904228,0.8254258707677038,0.6439051477032445,0.9232137331837674,0.9326243244625049,0.0,0.0,0.5011938936913607,0.5011938936913607,0.0,0.22253594387330386,0.2310746981684659,0.6578492159000842],[0.25820508103925705,0.25651521422005547,0.25006306577806187,0.25173959921059386,0.2870128511511096,0.9814321228777366,0.987882880340447,0.12422118180924126,0.0,0.99264946383504,0.35646249372800104,0.35234462755123125,0.7674747340370931,1.0,0.9728718330831773,0.9598478253435888,0.9970170874447135,0.9778179124074775,0.0,0.0,0.9008394368408916,0.9008394368408916,0.0,0.4036599600086921,0.5372630619384697,0.9412421918828843],[0.15217831418183414,0.15151300022106154,0.14743774604373866,0.14775966161796739,0.0429613935300618,0.20942938786440482,0.35787163687550666,0.03423248947168012,0.0,0.6063828181110024,0.24653965307362938,0.23713765027409384,0.8254258707677038,0.9728718330831773,1.0,0.9999996645509093,0.033968018613521854,0.9999999999942685,0.0,0.0,-0.1448939987057474,-0.1448939987057474,0.0,0.047917657324264847,0.3075263626437216,0.12500203163537366],[0.02629216227728871,0.02611430441066632,0.025898077192006475,0.026625152858112216,0.029633234300874247,0.12484553256397417,0.13527948864848816,0.0034356128430149506,0.0,0.1829122585143976,0.04560764289563549,0.043974195854097675,0.29132100051464627,0.3056957051523993,0.9999996645509093,1.0,0.23810489590687892,0.31761472745340524,0.0,0.0,0.3397507766224759,0.3397507766224759,0.0,0.06405656963178342,0.1060776592675091,0.4209387758720426],[0.22654564108312417,0.22435107434682386,0.22071009592857577,0.22071009592857577,0.10734871947119129,0.33746228915987564,0.5557860139352564,0.05021568950795254,0.0,0.6733917879057164,0.41695786541627,0.4027179411388101,0.9232137331837674,0.9970170874447135,0.033968018613521854,0.23810489590687892,1.0,0.9876216317515006,0.0,0.0,-0.29180158597228095,-0.29180158597228095,0.0,0.19285550714375982,0.1999637201452876,0.0945792478418946],[0.09678467295039916,0.09681223818374127,0.09464140822018456,0.0945616069355163,0.13249809323381753,0.2738204591297014,0.3835416709097431,0.03383440939405923,0.0,0.404227460964642,0.15927529708330843,0.15619261593336187,0.7383577599252917,0.4841534418661977,0.9999999999942685,0.9604183392673348,0.9876216317515006,1.0,0.0,0.0,0.5804879745545936,0.5804879745545936,0.0,0.1917841087714655,0.21672885805919806,0.8850841296654761],[0.0,0.0,0.0,0.0,0.0,0.0,0.0,0.0,0.0,0.0,0.0,0.0,0.0,0.0,0.0,0.0,0.0,0.0,1.0,0.0,0.0,0.0,0.0,0.0,0.0,0.0],[0.0,0.0,0.0,0.0,0.0,0.0,0.0,0.0,0.0,0.0,0.0,0.0,0.0,0.0,0.0,0.0,0.0,0.0,0.0,1.0,0.0,0.0,0.0,0.0,0.0,0.0],[0.12777058794674293,0.12550802503945513,0.12561289873175105,0.13076193321436105,0.06429680670250985,0.24692566675180103,0.6230851590049774,0.03587732805101762,0.0,0.7952010952606772,0.23537811281895302,0.2282269735201445,0.5011938936913607,0.9008394368408916,-0.1448939987057474,0.3397507766224759,-0.29180158597228095,0.5804879745545936,0.0,0.0,1.0,0.9999999999999992,0.0,0.03890268056478303,0.32609842771862957,-0.37946867580082766],[0.12777058794674293,0.12550802503945513,0.12561289873175105,0.13076193321436105,0.06429680670250985,0.24692566675180103,0.6230851590049774,0.03587732805101762,0.0,0.7952010952606772,0.23537811281895302,0.2282269735201445,0.5011938936913607,0.9008394368408916,-0.1448939987057474,0.3397507766224759,-0.29180158597228095,0.5804879745545936,0.0,0.0,0.9999999999999992,1.0,0.0,0.03890268056478303,0.32609842771862957,-0.37946867580082766],[0.0,0.0,0.0,0.0,0.0,0.0,0.0,0.0,0.0,0.0,0.0,0.0,0.0,0.0,0.0,0.0,0.0,0.0,0.0,0.0,0.0,0.0,1.0,0.0,0.0,0.0],[0.9506152464505346,0.9502357035884753,0.9851995379948074,0.9848393022816921,0.40085537928078385,0.20102486680524884,0.2858541641317854,0.12354335786892713,0.0,0.3780175197047249,0.7428464052141267,0.7440252275546084,0.37521270684231234,0.47910433306111505,0.21917527590586064,0.23872128935468445,0.49924635989938954,0.5000367269472309,0.0,0.0,0.15346646660903332,0.15346646660903332,0.0,1.0,0.32600204422061535,0.580535437245867],[0.05483080334380929,0.05444314241578097,0.05297345064786205,0.05407494554903767,0.05459516094481482,0.16056691652724184,0.21297786927582044,0.09031620288467232,0.0,0.23497116844626043,0.08773709175349141,0.0853303125126684,0.13136625495390347,0.21500841794446274,0.3075263626437216,0.13329242119217596,0.1999637201452876,0.18303614607015498,0.0,0.0,0.32609842771862957,0.32609842771862957,0.0,0.10991940738408086,1.0,0.6223708280004799],[0.31635929403721186,0.3123517497779833,0.31077743827260473,0.31123713146644094,0.07465860443169854,0.15445505621964764,0.7155015749897227,0.07038043792013679,0.0,0.9354640390893095,0.521762004722947,0.5294215922854988,0.6578492159000842,0.9412421918828843,0.12500203163537366,0.4209387758720426,0.0945792478418946,0.8850841296654761,0.0,0.0,-0.37946867580082766,-0.37946867580082766,0.0,0.24685712529804707,0.6223708280004799,1.0]],\"type\":\"heatmap\",\"xaxis\":\"x\",\"yaxis\":\"y\",\"showscale\":false},{\"x\":[\"EventDate\",\"DATE\",\"PatientID\",\"BirthDate\",\"DeathDate\",\"RACE\",\"ETHNICITY\",\"GENDER\",\"BIRTHPLACE\",\"ADDRESS\",\"StartDate\",\"EndDate\",\"ConditionDesc\",\"EncounterID\",\"EncounterCode\",\"EncounterDesc\",\"EncounterReason\",\"EncounterReasonDesc\",\"ObsCode\",\"ObsDesc\",\"ObsValue\",\"ObsValueFloat\",\"UNITS\",\"ProcedureDate\",\"ProcedureDesc\",\"ProcedureReason\"],\"y\":[\"EventDate\",\"DATE\",\"PatientID\",\"BirthDate\",\"DeathDate\",\"RACE\",\"ETHNICITY\",\"GENDER\",\"BIRTHPLACE\",\"ADDRESS\",\"StartDate\",\"EndDate\",\"ConditionDesc\",\"EncounterID\",\"EncounterCode\",\"EncounterDesc\",\"EncounterReason\",\"EncounterReasonDesc\",\"ObsCode\",\"ObsDesc\",\"ObsValue\",\"ObsValueFloat\",\"UNITS\",\"ProcedureDate\",\"ProcedureDesc\",\"ProcedureReason\"],\"z\":[[1.0,1.0,1.0,1.0,1.0,0.04047035696372264,0.07724141564205511,0.026434111917258783,0.0,0.13767272892410468,0.7204830521600286,0.7213297656840616,0.13899764435169432,0.23698134059359283,0.151806789381063,0.07817481637090262,0.22570524379355703,0.18505705166371467,0.0,0.0,0.17058167312318562,0.17058167312318562,0.0,0.651222119392127,0.12347922619236248,0.33831247924594693],[0.9940238897560599,1.0,0.9938055616674953,0.9938055616674953,1.0,0.04028853974729915,0.07643478354446685,0.026433894023713884,0.0,0.13648928749510622,0.7159965494925034,0.7168243580114746,0.13740427205932595,0.23498243720628623,0.15175814655393402,0.07689603730248087,0.2239748613197738,0.18296244740652082,0.0,0.0,0.16743547502859404,0.16743547502859404,0.0,0.6471537159507674,0.12187927834125725,0.3382534954341699],[0.9647541751414518,0.9645422758730701,1.0,1.0,1.0,0.03952198994242765,0.07189495552665796,0.02420671605285057,0.0,0.12822421184669403,0.7204830521600286,0.7213297656840616,0.12918640008575344,0.2219050667206667,0.14970473270972767,0.07201065101532148,0.22125484287805952,0.1707871815853645,0.0,0.0,0.1583544818890813,0.1583544818890813,0.0,0.6512221193921274,0.11387891676867506,0.33704988036509714],[0.9647541751414518,0.9645422758730701,1.0,1.0,1.0,0.03952198994242765,0.07189495552665796,0.02420671605285057,0.0,0.12822421184669403,0.7204830521600286,0.7213297656840616,0.12918640008575344,0.2219050667206667,0.14970473270972767,0.07201065101532148,0.22125484287805952,0.1707871815853645,0.0,0.0,0.1583544818890813,0.1583544818890813,0.0,0.6512221193921274,0.11387891676867506,0.33704988036509714],[0.08438257955332094,0.08488989089993501,0.08746536861677622,0.08746536861677622,1.0,0.003999366548269701,0.006957664705928197,0.003104928201106507,0.0,0.012788506964848225,0.06274019189641054,0.06361628313964164,0.011797219916531739,0.020280997014876064,0.047661215791520856,0.006522747603064658,0.094407227333387,0.010533593850325445,0.0,0.0,0.03629074277442829,0.03629074277442829,0.0,0.05713101735520816,0.009686425076603335,0.12907543013997513],[0.010403128761724856,0.010418654671035346,0.010530502010937992,0.010530502010937992,0.012183311577271906,1.0,0.37750798562011756,0.08377027887665953,0.0,0.23337097014969527,0.025663041477854198,0.02535736786948408,0.07908540554271458,0.19704693834374487,0.27091185533883483,0.08943910480310262,0.2565472494908934,0.12089840562492545,0.0,0.0,0.2575215318276383,0.2575215318276383,0.0,0.03367564907166191,0.09371323101031706,0.16491621983587088],[0.05259579459383116,0.05235944251573291,0.050743748811380864,0.050743748811380864,0.05614505277485254,1.0,1.0,0.3238788577542533,0.0,0.659010869521736,0.0983315506304954,0.0981056361078726,0.27449155690531624,0.5223334596275794,0.32391297416950005,0.2164527173197381,0.4901619686908353,0.4389091066978265,0.0,0.0,0.5726301445742291,0.5726301445742291,0.0,0.13302426093038763,0.3172261700793077,0.7525351552056577],[0.004967791020927591,0.004997616378394096,0.004715392006555478,0.004715392006555478,0.006915082378863575,0.061243727603783396,0.08938824215185284,1.0,0.0,0.1796203729131352,0.0075963142375159,0.007577778158875734,0.059036508118545265,0.14161392093756248,0.06277725180560895,0.033777962110129726,0.04539284395840076,0.07706555544724909,0.0,0.0,0.22518727132366806,0.22518727132366806,0.0,0.016705962730517707,0.038844354008953724,0.26366810156442466],[0.0,0.0,0.0,0.0,0.0,0.0,0.0,0.0,1.0,0.0,0.0,0.0,0.0,0.0,0.0,0.0,0.0,0.0,0.0,0.0,0.0,0.0,0.0,0.0,0.0,0.0],[0.13117866050964522,0.13083291432602334,0.1266393411643113,0.1266393411643113,0.14440502888457027,0.8650379558539695,0.9221616405614929,0.9106935712756807,0.0,1.0,0.20905144626937536,0.20885253099554046,0.44945513289272193,0.7310336238099788,0.5296436495429683,0.4173703129347833,0.605845910767093,0.6444991998030413,0.0,0.0,0.8241556797549815,0.8241556797549815,0.0,0.2588126063314916,0.490971593062374,0.944851052166552],[0.959697668244983,0.9594553690606898,0.9947587613230828,0.9947587613230828,0.9903842276339256,0.13298169286701314,0.1923546821665925,0.05384123317300286,0.0,0.29224600006127677,1.0,0.9961878840854818,0.29008811665258827,0.41754156680566634,0.2515262523692518,0.15897407702510952,0.43590991396900064,0.3844158521408661,0.0,0.0,0.2596943106073676,0.2596943106073676,0.0,0.6477869472258271,0.2534458702962221,0.49722890329953495],[0.9567938165045622,0.9565340592507884,0.9917488217807169,0.9917488217807169,1.0,0.1308463880155591,0.1911074723162896,0.053484482674757555,0.0,0.2907428062581544,0.9920078101921103,1.0,0.28619929511068865,0.4142712165559521,0.2439284672011275,0.1583805364967648,0.43784605326953235,0.37975364302206593,0.0,0.0,0.2685143184544675,0.2685143184544675,0.0,0.6458100693016117,0.2519619088818373,0.49001646073619437],[0.12343291902139712,0.12275154668724941,0.11891145386794007,0.11891145386794007,0.12415106153059555,0.2732077197492346,0.35797422212231444,0.27896237231242904,0.0,0.4188848304634356,0.19339392501849295,0.19160534194874593,1.0,0.5412671180796523,0.8640375331333758,0.6725077442014674,0.9420431767628746,0.9482881126326859,0.0,0.0,0.4421296530169622,0.4421296530169622,0.0,0.23692957602775142,0.2477465321180739,0.6801911049871772],[0.3077202730083194,0.30695911847332463,0.29867062373592906,0.29867062373592906,0.3120889993594268,0.9953703723463351,0.9960680457425011,0.9784740467765985,0.0,0.9962401465195588,0.40703429583853856,0.40554795018495365,0.7914619527595954,1.0,0.9999999999992518,0.9982514138769927,0.9999999999999999,1.0,0.0,0.0,0.9163178598710714,0.9163178598710714,0.0,0.4531212503406249,0.5726316160619718,0.9465668001380414],[0.151806789381063,0.15175814655393402,0.14970473270972767,0.14970473270972767,0.047661215791520856,0.27091185533883483,0.32391297416950005,0.06277725180560895,0.0,0.5296436495429683,0.2515262523692518,0.2439284672011275,0.8640375331333758,0.9999999999992518,1.0,0.9999994904536867,-0.05294058108660525,1.0000000000000002,0.0,0.0,-0.14741436062522997,-0.14741436062522997,0.0,0.054129582718115875,0.3297763173864101,0.05062946064524109],[0.0318257628699841,0.031493366736183394,0.03038729368853617,0.03038729368853617,0.03146949177079753,0.14164865583802339,0.12941189573000225,0.0731723163322815,0.0,0.17832746537392066,0.048587840239752204,0.04861040689400321,0.3083086312246196,0.31297520289206365,0.9999994904536867,1.0,0.22049650392404788,0.32675674291836876,0.0,0.0,0.33114353520053735,0.33114353520053735,0.0,0.07038772640841907,0.10350350635547181,0.5454040724752361],[0.22570524379355703,0.2239748613197738,0.22125484287805952,0.22125484287805952,0.094407227333387,0.2565472494908934,0.4901619686908353,0.04539284395840076,0.0,0.605845910767093,0.43590991396900064,0.43784605326953235,0.9420431767628746,0.9999999999999999,-0.05294058108660525,0.22049650392404788,1.0,1.0,0.0,0.0,-0.15372675604471953,-0.15372675604471953,0.0,0.1778604940581624,0.2512472281818334,0.009796355129836962],[0.09761967887851214,0.09670010154345118,0.09370325255107935,0.09370325255107935,0.07842008524998567,0.29685349928390253,0.35858285233402537,0.22186995840895982,0.0,0.37247322349074063,0.15441098694112115,0.15348373915968808,0.7744534661464015,0.4492570290707342,1.0000000000000002,1.0,1.0,1.0,0.0,0.0,0.49309200136921727,0.49309200136921727,0.0,0.1778604940581624,0.21027047672116866,0.9339710413717052],[0.0,0.0,0.0,0.0,0.0,0.0,0.0,0.0,0.0,0.0,0.0,0.0,0.0,0.0,0.0,0.0,0.0,0.0,1.0,0.0,0.0,0.0,0.0,0.0,0.0,0.0],[0.0,0.0,0.0,0.0,0.0,0.0,0.0,0.0,0.0,0.0,0.0,0.0,0.0,0.0,0.0,0.0,0.0,0.0,0.0,1.0,0.0,0.0,0.0,0.0,0.0,0.0],[0.17058167312318562,0.16743547502859404,0.1583544818890813,0.1583544818890813,0.03629074277442829,0.2575215318276383,0.5726301445742291,0.22518727132366806,0.0,0.8241556797549815,0.2596943106073676,0.2685143184544675,0.4421296530169622,0.9163178598710714,-0.14741436062522997,0.33114353520053735,-0.15372675604471953,0.49309200136921727,0.0,0.0,1.0,0.999999999999999,0.0,0.04129148259253189,0.34283419982592456,-0.35628570376292734],[0.17058167312318562,0.16743547502859404,0.1583544818890813,0.1583544818890813,0.03629074277442829,0.2575215318276383,0.5726301445742291,0.22518727132366806,0.0,0.8241556797549815,0.2596943106073676,0.2685143184544675,0.4421296530169622,0.9163178598710714,-0.14741436062522997,0.33114353520053735,-0.15372675604471953,0.49309200136921727,0.0,0.0,0.999999999999999,1.0,0.0,0.04129148259253189,0.34283419982592456,-0.35628570376292734],[0.0,0.0,0.0,0.0,0.0,0.0,0.0,0.0,0.0,0.0,0.0,0.0,0.0,0.0,0.0,0.0,0.0,0.0,0.0,0.0,0.0,0.0,1.0,0.0,0.0,0.0],[0.9565853620158838,0.9563243515256254,0.9915327517246866,0.9915327517246866,0.9945205186211338,0.1924348048803675,0.286962169006416,0.1305772451716258,0.0,0.39899250981152706,0.7143583247352144,0.715179230182991,0.3919135737710884,0.5125863777883384,0.23741071389346738,0.25396833513673156,0.478942767779058,0.478942767779058,0.0,0.0,0.16686498811690068,0.16686498811690068,0.0,1.0,0.35014098866270477,0.5750855134769889],[0.06518949873570434,0.06473166745409353,0.06231755463085101,0.06231755463085101,0.060603048157789434,0.1924676373556383,0.24595290384096333,0.10912218463975593,0.0,0.272035033025446,0.10045193138295286,0.10028457218272852,0.14728813634777776,0.23281829680856078,0.3297763173864101,0.1342229723838196,0.2512472281818334,0.20169978200346797,0.0,0.0,0.34283419982592456,0.34283419982592456,0.0,0.12584388250691544,1.0,0.6574158573684039],[0.33831247924594693,0.3382534954341699,0.33704988036509714,0.33704988036509714,0.12907543013997513,0.16491621983587088,0.7525351552056577,0.26366810156442466,0.0,0.944851052166552,0.49722890329953495,0.49001646073619437,0.6801911049871772,0.9465668001380414,0.05062946064524109,0.5454040724752361,0.009796355129836962,0.9339710413717052,0.0,0.0,-0.35628570376292734,-0.35628570376292734,0.0,0.2608888895603395,0.6574158573684039,1.0]],\"type\":\"heatmap\",\"xaxis\":\"x2\",\"yaxis\":\"y2\",\"showscale\":false}],                        {\"template\":{\"data\":{\"bar\":[{\"error_x\":{\"color\":\"#2a3f5f\"},\"error_y\":{\"color\":\"#2a3f5f\"},\"marker\":{\"line\":{\"color\":\"#E5ECF6\",\"width\":0.5},\"pattern\":{\"fillmode\":\"overlay\",\"size\":10,\"solidity\":0.2}},\"type\":\"bar\"}],\"barpolar\":[{\"marker\":{\"line\":{\"color\":\"#E5ECF6\",\"width\":0.5},\"pattern\":{\"fillmode\":\"overlay\",\"size\":10,\"solidity\":0.2}},\"type\":\"barpolar\"}],\"carpet\":[{\"aaxis\":{\"endlinecolor\":\"#2a3f5f\",\"gridcolor\":\"white\",\"linecolor\":\"white\",\"minorgridcolor\":\"white\",\"startlinecolor\":\"#2a3f5f\"},\"baxis\":{\"endlinecolor\":\"#2a3f5f\",\"gridcolor\":\"white\",\"linecolor\":\"white\",\"minorgridcolor\":\"white\",\"startlinecolor\":\"#2a3f5f\"},\"type\":\"carpet\"}],\"choropleth\":[{\"colorbar\":{\"outlinewidth\":0,\"ticks\":\"\"},\"type\":\"choropleth\"}],\"contour\":[{\"colorbar\":{\"outlinewidth\":0,\"ticks\":\"\"},\"colorscale\":[[0.0,\"#0d0887\"],[0.1111111111111111,\"#46039f\"],[0.2222222222222222,\"#7201a8\"],[0.3333333333333333,\"#9c179e\"],[0.4444444444444444,\"#bd3786\"],[0.5555555555555556,\"#d8576b\"],[0.6666666666666666,\"#ed7953\"],[0.7777777777777778,\"#fb9f3a\"],[0.8888888888888888,\"#fdca26\"],[1.0,\"#f0f921\"]],\"type\":\"contour\"}],\"contourcarpet\":[{\"colorbar\":{\"outlinewidth\":0,\"ticks\":\"\"},\"type\":\"contourcarpet\"}],\"heatmap\":[{\"colorbar\":{\"outlinewidth\":0,\"ticks\":\"\"},\"colorscale\":[[0.0,\"#0d0887\"],[0.1111111111111111,\"#46039f\"],[0.2222222222222222,\"#7201a8\"],[0.3333333333333333,\"#9c179e\"],[0.4444444444444444,\"#bd3786\"],[0.5555555555555556,\"#d8576b\"],[0.6666666666666666,\"#ed7953\"],[0.7777777777777778,\"#fb9f3a\"],[0.8888888888888888,\"#fdca26\"],[1.0,\"#f0f921\"]],\"type\":\"heatmap\"}],\"heatmapgl\":[{\"colorbar\":{\"outlinewidth\":0,\"ticks\":\"\"},\"colorscale\":[[0.0,\"#0d0887\"],[0.1111111111111111,\"#46039f\"],[0.2222222222222222,\"#7201a8\"],[0.3333333333333333,\"#9c179e\"],[0.4444444444444444,\"#bd3786\"],[0.5555555555555556,\"#d8576b\"],[0.6666666666666666,\"#ed7953\"],[0.7777777777777778,\"#fb9f3a\"],[0.8888888888888888,\"#fdca26\"],[1.0,\"#f0f921\"]],\"type\":\"heatmapgl\"}],\"histogram\":[{\"marker\":{\"pattern\":{\"fillmode\":\"overlay\",\"size\":10,\"solidity\":0.2}},\"type\":\"histogram\"}],\"histogram2d\":[{\"colorbar\":{\"outlinewidth\":0,\"ticks\":\"\"},\"colorscale\":[[0.0,\"#0d0887\"],[0.1111111111111111,\"#46039f\"],[0.2222222222222222,\"#7201a8\"],[0.3333333333333333,\"#9c179e\"],[0.4444444444444444,\"#bd3786\"],[0.5555555555555556,\"#d8576b\"],[0.6666666666666666,\"#ed7953\"],[0.7777777777777778,\"#fb9f3a\"],[0.8888888888888888,\"#fdca26\"],[1.0,\"#f0f921\"]],\"type\":\"histogram2d\"}],\"histogram2dcontour\":[{\"colorbar\":{\"outlinewidth\":0,\"ticks\":\"\"},\"colorscale\":[[0.0,\"#0d0887\"],[0.1111111111111111,\"#46039f\"],[0.2222222222222222,\"#7201a8\"],[0.3333333333333333,\"#9c179e\"],[0.4444444444444444,\"#bd3786\"],[0.5555555555555556,\"#d8576b\"],[0.6666666666666666,\"#ed7953\"],[0.7777777777777778,\"#fb9f3a\"],[0.8888888888888888,\"#fdca26\"],[1.0,\"#f0f921\"]],\"type\":\"histogram2dcontour\"}],\"mesh3d\":[{\"colorbar\":{\"outlinewidth\":0,\"ticks\":\"\"},\"type\":\"mesh3d\"}],\"parcoords\":[{\"line\":{\"colorbar\":{\"outlinewidth\":0,\"ticks\":\"\"}},\"type\":\"parcoords\"}],\"pie\":[{\"automargin\":true,\"type\":\"pie\"}],\"scatter\":[{\"marker\":{\"colorbar\":{\"outlinewidth\":0,\"ticks\":\"\"}},\"type\":\"scatter\"}],\"scatter3d\":[{\"line\":{\"colorbar\":{\"outlinewidth\":0,\"ticks\":\"\"}},\"marker\":{\"colorbar\":{\"outlinewidth\":0,\"ticks\":\"\"}},\"type\":\"scatter3d\"}],\"scattercarpet\":[{\"marker\":{\"colorbar\":{\"outlinewidth\":0,\"ticks\":\"\"}},\"type\":\"scattercarpet\"}],\"scattergeo\":[{\"marker\":{\"colorbar\":{\"outlinewidth\":0,\"ticks\":\"\"}},\"type\":\"scattergeo\"}],\"scattergl\":[{\"marker\":{\"colorbar\":{\"outlinewidth\":0,\"ticks\":\"\"}},\"type\":\"scattergl\"}],\"scattermapbox\":[{\"marker\":{\"colorbar\":{\"outlinewidth\":0,\"ticks\":\"\"}},\"type\":\"scattermapbox\"}],\"scatterpolar\":[{\"marker\":{\"colorbar\":{\"outlinewidth\":0,\"ticks\":\"\"}},\"type\":\"scatterpolar\"}],\"scatterpolargl\":[{\"marker\":{\"colorbar\":{\"outlinewidth\":0,\"ticks\":\"\"}},\"type\":\"scatterpolargl\"}],\"scatterternary\":[{\"marker\":{\"colorbar\":{\"outlinewidth\":0,\"ticks\":\"\"}},\"type\":\"scatterternary\"}],\"surface\":[{\"colorbar\":{\"outlinewidth\":0,\"ticks\":\"\"},\"colorscale\":[[0.0,\"#0d0887\"],[0.1111111111111111,\"#46039f\"],[0.2222222222222222,\"#7201a8\"],[0.3333333333333333,\"#9c179e\"],[0.4444444444444444,\"#bd3786\"],[0.5555555555555556,\"#d8576b\"],[0.6666666666666666,\"#ed7953\"],[0.7777777777777778,\"#fb9f3a\"],[0.8888888888888888,\"#fdca26\"],[1.0,\"#f0f921\"]],\"type\":\"surface\"}],\"table\":[{\"cells\":{\"fill\":{\"color\":\"#EBF0F8\"},\"line\":{\"color\":\"white\"}},\"header\":{\"fill\":{\"color\":\"#C8D4E3\"},\"line\":{\"color\":\"white\"}},\"type\":\"table\"}]},\"layout\":{\"annotationdefaults\":{\"arrowcolor\":\"#2a3f5f\",\"arrowhead\":0,\"arrowwidth\":1},\"autotypenumbers\":\"strict\",\"coloraxis\":{\"colorbar\":{\"outlinewidth\":0,\"ticks\":\"\"}},\"colorscale\":{\"diverging\":[[0,\"#8e0152\"],[0.1,\"#c51b7d\"],[0.2,\"#de77ae\"],[0.3,\"#f1b6da\"],[0.4,\"#fde0ef\"],[0.5,\"#f7f7f7\"],[0.6,\"#e6f5d0\"],[0.7,\"#b8e186\"],[0.8,\"#7fbc41\"],[0.9,\"#4d9221\"],[1,\"#276419\"]],\"sequential\":[[0.0,\"#0d0887\"],[0.1111111111111111,\"#46039f\"],[0.2222222222222222,\"#7201a8\"],[0.3333333333333333,\"#9c179e\"],[0.4444444444444444,\"#bd3786\"],[0.5555555555555556,\"#d8576b\"],[0.6666666666666666,\"#ed7953\"],[0.7777777777777778,\"#fb9f3a\"],[0.8888888888888888,\"#fdca26\"],[1.0,\"#f0f921\"]],\"sequentialminus\":[[0.0,\"#0d0887\"],[0.1111111111111111,\"#46039f\"],[0.2222222222222222,\"#7201a8\"],[0.3333333333333333,\"#9c179e\"],[0.4444444444444444,\"#bd3786\"],[0.5555555555555556,\"#d8576b\"],[0.6666666666666666,\"#ed7953\"],[0.7777777777777778,\"#fb9f3a\"],[0.8888888888888888,\"#fdca26\"],[1.0,\"#f0f921\"]]},\"colorway\":[\"#636efa\",\"#EF553B\",\"#00cc96\",\"#ab63fa\",\"#FFA15A\",\"#19d3f3\",\"#FF6692\",\"#B6E880\",\"#FF97FF\",\"#FECB52\"],\"font\":{\"color\":\"#2a3f5f\"},\"geo\":{\"bgcolor\":\"white\",\"lakecolor\":\"white\",\"landcolor\":\"#E5ECF6\",\"showlakes\":true,\"showland\":true,\"subunitcolor\":\"white\"},\"hoverlabel\":{\"align\":\"left\"},\"hovermode\":\"closest\",\"mapbox\":{\"style\":\"light\"},\"paper_bgcolor\":\"white\",\"plot_bgcolor\":\"#E5ECF6\",\"polar\":{\"angularaxis\":{\"gridcolor\":\"white\",\"linecolor\":\"white\",\"ticks\":\"\"},\"bgcolor\":\"#E5ECF6\",\"radialaxis\":{\"gridcolor\":\"white\",\"linecolor\":\"white\",\"ticks\":\"\"}},\"scene\":{\"xaxis\":{\"backgroundcolor\":\"#E5ECF6\",\"gridcolor\":\"white\",\"gridwidth\":2,\"linecolor\":\"white\",\"showbackground\":true,\"ticks\":\"\",\"zerolinecolor\":\"white\"},\"yaxis\":{\"backgroundcolor\":\"#E5ECF6\",\"gridcolor\":\"white\",\"gridwidth\":2,\"linecolor\":\"white\",\"showbackground\":true,\"ticks\":\"\",\"zerolinecolor\":\"white\"},\"zaxis\":{\"backgroundcolor\":\"#E5ECF6\",\"gridcolor\":\"white\",\"gridwidth\":2,\"linecolor\":\"white\",\"showbackground\":true,\"ticks\":\"\",\"zerolinecolor\":\"white\"}},\"shapedefaults\":{\"line\":{\"color\":\"#2a3f5f\"}},\"ternary\":{\"aaxis\":{\"gridcolor\":\"white\",\"linecolor\":\"white\",\"ticks\":\"\"},\"baxis\":{\"gridcolor\":\"white\",\"linecolor\":\"white\",\"ticks\":\"\"},\"bgcolor\":\"#E5ECF6\",\"caxis\":{\"gridcolor\":\"white\",\"linecolor\":\"white\",\"ticks\":\"\"}},\"title\":{\"x\":0.05},\"xaxis\":{\"automargin\":true,\"gridcolor\":\"white\",\"linecolor\":\"white\",\"ticks\":\"\",\"title\":{\"standoff\":15},\"zerolinecolor\":\"white\",\"zerolinewidth\":2},\"yaxis\":{\"automargin\":true,\"gridcolor\":\"white\",\"linecolor\":\"white\",\"ticks\":\"\",\"title\":{\"standoff\":15},\"zerolinecolor\":\"white\",\"zerolinewidth\":2}}},\"xaxis\":{\"anchor\":\"y\",\"domain\":[0.0,0.4]},\"yaxis\":{\"anchor\":\"x\",\"domain\":[0.0,1.0]},\"xaxis2\":{\"anchor\":\"y2\",\"domain\":[0.6000000000000001,1.0]},\"yaxis2\":{\"anchor\":\"x2\",\"domain\":[0.0,1.0]},\"title\":{\"text\":\"Real world vs. Synthetic Correlations\"}},                        {\"responsive\": true}                    ).then(function(){\n",
       "                            \n",
       "var gd = document.getElementById('b2a35051-f11c-497f-891a-3af57824fd0f');\n",
       "var x = new MutationObserver(function (mutations, observer) {{\n",
       "        var display = window.getComputedStyle(gd).display;\n",
       "        if (!display || display === 'none') {{\n",
       "            console.log([gd, 'removed!']);\n",
       "            Plotly.purge(gd);\n",
       "            observer.disconnect();\n",
       "        }}\n",
       "}});\n",
       "\n",
       "// Listen for the removal of the full notebook cells\n",
       "var notebookContainer = gd.closest('#notebook-container');\n",
       "if (notebookContainer) {{\n",
       "    x.observe(notebookContainer, {childList: true});\n",
       "}}\n",
       "\n",
       "// Listen for the clearing of the current output cell\n",
       "var outputEl = gd.closest('.output');\n",
       "if (outputEl) {{\n",
       "    x.observe(outputEl, {childList: true});\n",
       "}}\n",
       "\n",
       "                        })                };                });            </script>        </div>"
      ]
     },
     "metadata": {},
     "output_type": "display_data"
    }
   ],
   "source": [
    "import plotly.express as px\n",
    "import plotly.graph_objects as go\n",
    "from plotly.subplots import make_subplots\n",
    "\n",
    "from gretel_synthetics.utils.header_clusters import _get_correlation_matrix\n",
    "\n",
    "\n",
    "def plot_correlations(real_df: pd.DataFrame, synthetic_df: pd.DataFrame):\n",
    "    s_corr = _get_correlation_matrix(real_df)\n",
    "    r_corr = _get_correlation_matrix(synthetic_df)\n",
    "\n",
    "    fig = make_subplots(rows=1, cols=2, horizontal_spacing=0.2)\n",
    "    fig.update_layout(title_text=\"Real world vs. Synthetic Correlations\")\n",
    "    trace1 = go.Heatmap(z=r_corr, y=r_corr.index, x=r_corr.columns)\n",
    "    trace2 = go.Heatmap(z=s_corr, y=s_corr.index, x=s_corr.columns)\n",
    "    fig.add_trace(trace1, row=1, col=1)\n",
    "    fig.add_trace(trace2, row=1, col=2)\n",
    "    fig.update_traces(showscale=False)\n",
    "    fig.show()\n",
    "\n",
    "plot_correlations(DF, synthetic)"
   ]
  },
  {
   "cell_type": "code",
   "execution_count": null,
   "id": "38e44df3",
   "metadata": {},
   "outputs": [],
   "source": []
  }
 ],
 "metadata": {
  "kernelspec": {
   "display_name": "Python 3",
   "language": "python",
   "name": "python3"
  },
  "language_info": {
   "codemirror_mode": {
    "name": "ipython",
    "version": 3
   },
   "file_extension": ".py",
   "mimetype": "text/x-python",
   "name": "python",
   "nbconvert_exporter": "python",
   "pygments_lexer": "ipython3",
   "version": "3.8.8"
  }
 },
 "nbformat": 4,
 "nbformat_minor": 5
}
