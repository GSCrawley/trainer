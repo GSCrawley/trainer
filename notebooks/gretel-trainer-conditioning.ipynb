{
 "cells": [
  {
   "cell_type": "markdown",
   "id": "18135fc4",
   "metadata": {
    "id": "18135fc4"
   },
   "source": [
    "# Gretel Trainer\n",
    "\n",
    "This notebook is designed to help users successfully train synthetic models on complex datasets with high row and column counts. The code works by intelligently dividing a dataset into a set of smaller datasets of correlated columns that can be parallelized and then joined together. \n",
    "\n",
    "**Getting started:**\n",
    "\n",
    "\n",
    "*   Copy your [Gretel API](https://console.gretel.cloud) key to the clipboard.\n",
    "*   Update the `DATASET_PATH` to your dataset, or use the provided example.\n",
    "*   Click Runtime -> Run All.\n",
    "*   Use the correlation graph to compare your real world and synthetic data! \n",
    "\n"
   ]
  },
  {
   "cell_type": "code",
   "execution_count": null,
   "id": "e617d2e3",
   "metadata": {
    "id": "e617d2e3"
   },
   "outputs": [],
   "source": [
    "import os\n",
    "\n",
    "!git clone https://github.com/gretelai/trainer.git\n",
    "\n",
    "os.chdir('./trainer')\n",
    "!pip install ."
   ]
  },
  {
   "cell_type": "code",
   "execution_count": null,
   "id": "62f6d162",
   "metadata": {},
   "outputs": [],
   "source": [
    "!pip install plotly"
   ]
  },
  {
   "cell_type": "code",
   "execution_count": 1,
   "id": "68871bd5",
   "metadata": {
    "id": "68871bd5"
   },
   "outputs": [],
   "source": [
    "from getpass import getpass\n",
    "from functools import lru_cache\n",
    "import pandas as pd\n",
    "\n",
    "from trainer import strategy, runner\n",
    "\n",
    "from gretel_client import configure_session, ClientConfig\n",
    "from gretel_client.projects import create_or_get_unique_project\n",
    "from gretel_client.projects.models import read_model_config\n",
    "from gretel_client.projects.jobs import Status\n",
    "from gretel_synthetics.utils.header_clusters import cluster"
   ]
  },
  {
   "cell_type": "code",
   "execution_count": 2,
   "id": "efcc7146",
   "metadata": {},
   "outputs": [],
   "source": [
    "# Only enter API once per Notebook session\n",
    "@lru_cache()\n",
    "def get_api_key(target: str) -> str:\n",
    "    api_key = getpass(prompt=\"Enter Gretel API key\")\n",
    "    return api_key"
   ]
  },
  {
   "cell_type": "code",
   "execution_count": 3,
   "id": "4ad5bcf6",
   "metadata": {
    "id": "4ad5bcf6"
   },
   "outputs": [
    {
     "name": "stdout",
     "output_type": "stream",
     "text": [
      "Enter Gretel API key········\n"
     ]
    }
   ],
   "source": [
    "# Specify your Gretel API key    \n",
    "configure_session(ClientConfig(api_key=get_api_key(\"key\"), endpoint=\"https://api.gretel.cloud\"))"
   ]
  },
  {
   "cell_type": "markdown",
   "id": "a203bbb8",
   "metadata": {
    "id": "a203bbb8"
   },
   "source": [
    "## Project Settings\n",
    "\n",
    "Use the configuration options below to control parallelization settings.\n",
    "* `MAX_ROWS` sets the maximum number of rows per sub-model, which helps reduce per-job run time and the need to tune neural network parameters such as `learning_rate`, `batch_size`, and `rnn_units` for larger datasets. Typical values are 20,000-100,000 rows.\n",
    "* `MAX_HEADER_CLUSTERS` sets the maximum number of columns to include for each sub-model. Higher values help with maintaining complex correlations in datasets. Try a lower value if you have mixed text and numeric values, or if the model is not generating valid records. Typical values are 10-20 columns."
   ]
  },
  {
   "cell_type": "code",
   "execution_count": 5,
   "id": "1e3b0120",
   "metadata": {
    "id": "1e3b0120"
   },
   "outputs": [
    {
     "name": "stdout",
     "output_type": "stream",
     "text": [
      "Follow model training at: https://console.gretel.cloud/health-data-2-ff62139634\n"
     ]
    }
   ],
   "source": [
    "MAX_ROWS = 20000 # Maximum row count per model\n",
    "MAX_HEADER_CLUSTERS = 20 # Max columns per cluster\n",
    "PROJECT_NAME = 'health-data-2'\n",
    "PROJECT = create_or_get_unique_project(name=PROJECT_NAME)\n",
    "CACHE_FILE = \"runner.json\"\n",
    "\n",
    "print(f\"Follow model training at: {PROJECT.get_console_url()}\")"
   ]
  },
  {
   "cell_type": "markdown",
   "id": "dae267ea",
   "metadata": {
    "id": "dae267ea"
   },
   "source": [
    "## Dataset Preprocessing\n",
    "\n",
    "Preprocess the data before training the network. A few tips:\n",
    "* Try reducing floating point precision to a consistent number of decimal places (default: 4)\n",
    "* Fields containing complex random numbers (such as UIDs) can be difficult for language models to learn. Try dropping them, specifying them as model seeds to preserve them, or replacing them with a LabelEncoder."
   ]
  },
  {
   "cell_type": "code",
   "execution_count": 7,
   "id": "8bc77f34",
   "metadata": {
    "id": "8bc77f34"
   },
   "outputs": [
    {
     "data": {
      "text/html": [
       "<div>\n",
       "<style scoped>\n",
       "    .dataframe tbody tr th:only-of-type {\n",
       "        vertical-align: middle;\n",
       "    }\n",
       "\n",
       "    .dataframe tbody tr th {\n",
       "        vertical-align: top;\n",
       "    }\n",
       "\n",
       "    .dataframe thead th {\n",
       "        text-align: right;\n",
       "    }\n",
       "</style>\n",
       "<table border=\"1\" class=\"dataframe\">\n",
       "  <thead>\n",
       "    <tr style=\"text-align: right;\">\n",
       "      <th></th>\n",
       "      <th>EventDate</th>\n",
       "      <th>DATE</th>\n",
       "      <th>PatientID</th>\n",
       "      <th>BirthDate</th>\n",
       "      <th>DeathDate</th>\n",
       "      <th>RACE</th>\n",
       "      <th>ETHNICITY</th>\n",
       "      <th>GENDER</th>\n",
       "      <th>BIRTHPLACE</th>\n",
       "      <th>ADDRESS</th>\n",
       "      <th>...</th>\n",
       "      <th>EncounterReason</th>\n",
       "      <th>EncounterReasonDesc</th>\n",
       "      <th>ObsCode</th>\n",
       "      <th>ObsDesc</th>\n",
       "      <th>ObsValue</th>\n",
       "      <th>ObsValueFloat</th>\n",
       "      <th>UNITS</th>\n",
       "      <th>ProcedureDate</th>\n",
       "      <th>ProcedureDesc</th>\n",
       "      <th>ProcedureReason</th>\n",
       "    </tr>\n",
       "  </thead>\n",
       "  <tbody>\n",
       "    <tr>\n",
       "      <th>0</th>\n",
       "      <td>2013-06-07</td>\n",
       "      <td>2013-07-01</td>\n",
       "      <td>d091c3eb</td>\n",
       "      <td>1937-03-02</td>\n",
       "      <td>1900-01-01</td>\n",
       "      <td>white</td>\n",
       "      <td>french</td>\n",
       "      <td>M</td>\n",
       "      <td>MA US</td>\n",
       "      <td>01202 US</td>\n",
       "      <td>...</td>\n",
       "      <td>NaN</td>\n",
       "      <td>NaN</td>\n",
       "      <td>6298-4</td>\n",
       "      <td>Potassium</td>\n",
       "      <td>6.5074</td>\n",
       "      <td>6.5074</td>\n",
       "      <td>mmol/L</td>\n",
       "      <td>2016-03-03</td>\n",
       "      <td>Documentation of current medications</td>\n",
       "      <td>NaN</td>\n",
       "    </tr>\n",
       "    <tr>\n",
       "      <th>1</th>\n",
       "      <td>2011-01-28</td>\n",
       "      <td>2010-12-16</td>\n",
       "      <td>0bdda8d2</td>\n",
       "      <td>1984-06-11</td>\n",
       "      <td>1900-01-01</td>\n",
       "      <td>black</td>\n",
       "      <td>african</td>\n",
       "      <td>F</td>\n",
       "      <td>MA US</td>\n",
       "      <td>01910 US</td>\n",
       "      <td>...</td>\n",
       "      <td>NaN</td>\n",
       "      <td>NaN</td>\n",
       "      <td>6298-4</td>\n",
       "      <td>Potassium</td>\n",
       "      <td>6.5325</td>\n",
       "      <td>6.5325</td>\n",
       "      <td>mmol/L</td>\n",
       "      <td>2014-03-02</td>\n",
       "      <td>Intramuscular injection</td>\n",
       "      <td>NaN</td>\n",
       "    </tr>\n",
       "    <tr>\n",
       "      <th>2</th>\n",
       "      <td>2016-09-06</td>\n",
       "      <td>2016-10-03</td>\n",
       "      <td>f0577b5f</td>\n",
       "      <td>1977-08-24</td>\n",
       "      <td>1900-01-01</td>\n",
       "      <td>white</td>\n",
       "      <td>english</td>\n",
       "      <td>M</td>\n",
       "      <td>MA US</td>\n",
       "      <td>02140 US</td>\n",
       "      <td>...</td>\n",
       "      <td>NaN</td>\n",
       "      <td>NaN</td>\n",
       "      <td>6298-4</td>\n",
       "      <td>Potassium</td>\n",
       "      <td>6.5200</td>\n",
       "      <td>6.5200</td>\n",
       "      <td>mmol/L</td>\n",
       "      <td>2012-08-31</td>\n",
       "      <td>Biopsy of colon</td>\n",
       "      <td>68496003.0</td>\n",
       "    </tr>\n",
       "    <tr>\n",
       "      <th>3</th>\n",
       "      <td>2012-05-05</td>\n",
       "      <td>2012-04-26</td>\n",
       "      <td>a9fb85a6</td>\n",
       "      <td>1954-03-14</td>\n",
       "      <td>1900-01-01</td>\n",
       "      <td>white</td>\n",
       "      <td>french</td>\n",
       "      <td>M</td>\n",
       "      <td>MA US</td>\n",
       "      <td>01202 US</td>\n",
       "      <td>...</td>\n",
       "      <td>NaN</td>\n",
       "      <td>NaN</td>\n",
       "      <td>6298-4</td>\n",
       "      <td>Potassium</td>\n",
       "      <td>6.5074</td>\n",
       "      <td>6.5074</td>\n",
       "      <td>mmol/L</td>\n",
       "      <td>2012-04-28</td>\n",
       "      <td>Documentation of current medications</td>\n",
       "      <td>NaN</td>\n",
       "    </tr>\n",
       "    <tr>\n",
       "      <th>4</th>\n",
       "      <td>2011-01-28</td>\n",
       "      <td>2010-12-16</td>\n",
       "      <td>0bdda8d2</td>\n",
       "      <td>1984-06-11</td>\n",
       "      <td>1900-01-01</td>\n",
       "      <td>white</td>\n",
       "      <td>german</td>\n",
       "      <td>M</td>\n",
       "      <td>MA US</td>\n",
       "      <td>01853 US</td>\n",
       "      <td>...</td>\n",
       "      <td>10509002.0</td>\n",
       "      <td>Acute bronchitis (disorder)</td>\n",
       "      <td>6298-4</td>\n",
       "      <td>Potassium</td>\n",
       "      <td>6.5200</td>\n",
       "      <td>6.5200</td>\n",
       "      <td>mmol/L</td>\n",
       "      <td>2011-02-04</td>\n",
       "      <td>Documentation of current medications</td>\n",
       "      <td>NaN</td>\n",
       "    </tr>\n",
       "    <tr>\n",
       "      <th>...</th>\n",
       "      <td>...</td>\n",
       "      <td>...</td>\n",
       "      <td>...</td>\n",
       "      <td>...</td>\n",
       "      <td>...</td>\n",
       "      <td>...</td>\n",
       "      <td>...</td>\n",
       "      <td>...</td>\n",
       "      <td>...</td>\n",
       "      <td>...</td>\n",
       "      <td>...</td>\n",
       "      <td>...</td>\n",
       "      <td>...</td>\n",
       "      <td>...</td>\n",
       "      <td>...</td>\n",
       "      <td>...</td>\n",
       "      <td>...</td>\n",
       "      <td>...</td>\n",
       "      <td>...</td>\n",
       "      <td>...</td>\n",
       "      <td>...</td>\n",
       "    </tr>\n",
       "    <tr>\n",
       "      <th>2280</th>\n",
       "      <td>2013-06-20</td>\n",
       "      <td>2013-07-16</td>\n",
       "      <td>a4a433e9</td>\n",
       "      <td>1941-11-06</td>\n",
       "      <td>1900-01-01</td>\n",
       "      <td>hispanic</td>\n",
       "      <td>mexican</td>\n",
       "      <td>M</td>\n",
       "      <td>MA US</td>\n",
       "      <td>01813 US</td>\n",
       "      <td>...</td>\n",
       "      <td>NaN</td>\n",
       "      <td>NaN</td>\n",
       "      <td>6298-4</td>\n",
       "      <td>Potassium</td>\n",
       "      <td>6.5074</td>\n",
       "      <td>6.5074</td>\n",
       "      <td>mmol/L</td>\n",
       "      <td>2014-06-04</td>\n",
       "      <td>Colonoscopy</td>\n",
       "      <td>NaN</td>\n",
       "    </tr>\n",
       "    <tr>\n",
       "      <th>2281</th>\n",
       "      <td>2013-07-09</td>\n",
       "      <td>2013-06-03</td>\n",
       "      <td>17f227c5</td>\n",
       "      <td>1940-07-04</td>\n",
       "      <td>1900-01-01</td>\n",
       "      <td>hispanic</td>\n",
       "      <td>mexican</td>\n",
       "      <td>F</td>\n",
       "      <td>MA US</td>\n",
       "      <td>02211 US</td>\n",
       "      <td>...</td>\n",
       "      <td>444814009.0</td>\n",
       "      <td>Viral sinusitis (disorder)</td>\n",
       "      <td>6298-4</td>\n",
       "      <td>Potassium</td>\n",
       "      <td>6.5074</td>\n",
       "      <td>6.5074</td>\n",
       "      <td>mmol/L</td>\n",
       "      <td>2013-02-13</td>\n",
       "      <td>Documentation of current medications</td>\n",
       "      <td>NaN</td>\n",
       "    </tr>\n",
       "    <tr>\n",
       "      <th>2282</th>\n",
       "      <td>2017-08-12</td>\n",
       "      <td>2017-05-19</td>\n",
       "      <td>7ce419ba</td>\n",
       "      <td>1944-08-07</td>\n",
       "      <td>1900-01-01</td>\n",
       "      <td>white</td>\n",
       "      <td>french</td>\n",
       "      <td>M</td>\n",
       "      <td>MA US</td>\n",
       "      <td>01202 US</td>\n",
       "      <td>...</td>\n",
       "      <td>NaN</td>\n",
       "      <td>NaN</td>\n",
       "      <td>6298-4</td>\n",
       "      <td>Potassium</td>\n",
       "      <td>6.5074</td>\n",
       "      <td>6.5074</td>\n",
       "      <td>mmol/L</td>\n",
       "      <td>2013-05-02</td>\n",
       "      <td>Documentation of current medications</td>\n",
       "      <td>NaN</td>\n",
       "    </tr>\n",
       "    <tr>\n",
       "      <th>2283</th>\n",
       "      <td>2016-12-03</td>\n",
       "      <td>2016-12-07</td>\n",
       "      <td>a9c0db54</td>\n",
       "      <td>1974-12-09</td>\n",
       "      <td>1900-01-01</td>\n",
       "      <td>white</td>\n",
       "      <td>swedish</td>\n",
       "      <td>F</td>\n",
       "      <td>MA US</td>\n",
       "      <td>01844 US</td>\n",
       "      <td>...</td>\n",
       "      <td>NaN</td>\n",
       "      <td>NaN</td>\n",
       "      <td>6298-4</td>\n",
       "      <td>Potassium</td>\n",
       "      <td>6.5325</td>\n",
       "      <td>6.5325</td>\n",
       "      <td>mmol/L</td>\n",
       "      <td>2015-05-23</td>\n",
       "      <td>Documentation of current medications</td>\n",
       "      <td>NaN</td>\n",
       "    </tr>\n",
       "    <tr>\n",
       "      <th>2284</th>\n",
       "      <td>2016-11-24</td>\n",
       "      <td>2016-10-05</td>\n",
       "      <td>87689018</td>\n",
       "      <td>1961-03-23</td>\n",
       "      <td>1900-01-01</td>\n",
       "      <td>white</td>\n",
       "      <td>english</td>\n",
       "      <td>M</td>\n",
       "      <td>MA US</td>\n",
       "      <td>02140 US</td>\n",
       "      <td>...</td>\n",
       "      <td>363406005.0</td>\n",
       "      <td>Malignant tumor of colon</td>\n",
       "      <td>6298-4</td>\n",
       "      <td>Potassium</td>\n",
       "      <td>6.5200</td>\n",
       "      <td>6.5200</td>\n",
       "      <td>mmol/L</td>\n",
       "      <td>2012-08-21</td>\n",
       "      <td>Colonoscopy</td>\n",
       "      <td>NaN</td>\n",
       "    </tr>\n",
       "  </tbody>\n",
       "</table>\n",
       "<p>2285 rows × 26 columns</p>\n",
       "</div>"
      ],
      "text/plain": [
       "       EventDate        DATE PatientID   BirthDate   DeathDate      RACE  \\\n",
       "0     2013-06-07  2013-07-01  d091c3eb  1937-03-02  1900-01-01     white   \n",
       "1     2011-01-28  2010-12-16  0bdda8d2  1984-06-11  1900-01-01     black   \n",
       "2     2016-09-06  2016-10-03  f0577b5f  1977-08-24  1900-01-01     white   \n",
       "3     2012-05-05  2012-04-26  a9fb85a6  1954-03-14  1900-01-01     white   \n",
       "4     2011-01-28  2010-12-16  0bdda8d2  1984-06-11  1900-01-01     white   \n",
       "...          ...         ...       ...         ...         ...       ...   \n",
       "2280  2013-06-20  2013-07-16  a4a433e9  1941-11-06  1900-01-01  hispanic   \n",
       "2281  2013-07-09  2013-06-03  17f227c5  1940-07-04  1900-01-01  hispanic   \n",
       "2282  2017-08-12  2017-05-19  7ce419ba  1944-08-07  1900-01-01     white   \n",
       "2283  2016-12-03  2016-12-07  a9c0db54  1974-12-09  1900-01-01     white   \n",
       "2284  2016-11-24  2016-10-05  87689018  1961-03-23  1900-01-01     white   \n",
       "\n",
       "     ETHNICITY GENDER BIRTHPLACE    ADDRESS  ... EncounterReason  \\\n",
       "0       french      M      MA US   01202 US  ...             NaN   \n",
       "1      african      F      MA US   01910 US  ...             NaN   \n",
       "2      english      M      MA US   02140 US  ...             NaN   \n",
       "3       french      M      MA US   01202 US  ...             NaN   \n",
       "4       german      M      MA US   01853 US  ...      10509002.0   \n",
       "...        ...    ...        ...        ...  ...             ...   \n",
       "2280   mexican      M      MA US   01813 US  ...             NaN   \n",
       "2281   mexican      F      MA US   02211 US  ...     444814009.0   \n",
       "2282    french      M      MA US   01202 US  ...             NaN   \n",
       "2283   swedish      F      MA US   01844 US  ...             NaN   \n",
       "2284   english      M      MA US   02140 US  ...     363406005.0   \n",
       "\n",
       "              EncounterReasonDesc ObsCode    ObsDesc  ObsValue ObsValueFloat  \\\n",
       "0                             NaN  6298-4  Potassium    6.5074        6.5074   \n",
       "1                             NaN  6298-4  Potassium    6.5325        6.5325   \n",
       "2                             NaN  6298-4  Potassium    6.5200        6.5200   \n",
       "3                             NaN  6298-4  Potassium    6.5074        6.5074   \n",
       "4     Acute bronchitis (disorder)  6298-4  Potassium    6.5200        6.5200   \n",
       "...                           ...     ...        ...       ...           ...   \n",
       "2280                          NaN  6298-4  Potassium    6.5074        6.5074   \n",
       "2281   Viral sinusitis (disorder)  6298-4  Potassium    6.5074        6.5074   \n",
       "2282                          NaN  6298-4  Potassium    6.5074        6.5074   \n",
       "2283                          NaN  6298-4  Potassium    6.5325        6.5325   \n",
       "2284     Malignant tumor of colon  6298-4  Potassium    6.5200        6.5200   \n",
       "\n",
       "       UNITS ProcedureDate                         ProcedureDesc  \\\n",
       "0     mmol/L    2016-03-03  Documentation of current medications   \n",
       "1     mmol/L    2014-03-02               Intramuscular injection   \n",
       "2     mmol/L    2012-08-31                       Biopsy of colon   \n",
       "3     mmol/L    2012-04-28  Documentation of current medications   \n",
       "4     mmol/L    2011-02-04  Documentation of current medications   \n",
       "...      ...           ...                                   ...   \n",
       "2280  mmol/L    2014-06-04                           Colonoscopy   \n",
       "2281  mmol/L    2013-02-13  Documentation of current medications   \n",
       "2282  mmol/L    2013-05-02  Documentation of current medications   \n",
       "2283  mmol/L    2015-05-23  Documentation of current medications   \n",
       "2284  mmol/L    2012-08-21                           Colonoscopy   \n",
       "\n",
       "     ProcedureReason  \n",
       "0                NaN  \n",
       "1                NaN  \n",
       "2         68496003.0  \n",
       "3                NaN  \n",
       "4                NaN  \n",
       "...              ...  \n",
       "2280             NaN  \n",
       "2281             NaN  \n",
       "2282             NaN  \n",
       "2283             NaN  \n",
       "2284             NaN  \n",
       "\n",
       "[2285 rows x 26 columns]"
      ]
     },
     "execution_count": 7,
     "metadata": {},
     "output_type": "execute_result"
    }
   ],
   "source": [
    "DATASET_PATH = '../data/mitre-synthea-health.csv'\n",
    "ROUND_DECIMALS = 4\n",
    "\n",
    "\n",
    "def preprocess_data(dataset_path: str) -> pd.DataFrame:\n",
    "    tmp = pd.read_csv(dataset_path, low_memory=False)\n",
    "    tmp = tmp.round(ROUND_DECIMALS)\n",
    "    return tmp\n",
    "\n",
    "\n",
    "DF = preprocess_data(DATASET_PATH)\n",
    "DF"
   ]
  },
  {
   "cell_type": "code",
   "execution_count": 8,
   "id": "8179a64c",
   "metadata": {},
   "outputs": [],
   "source": [
    "SEED_FIELDS = [\"RACE\", \"ETHNICITY\", \"GENDER\"]"
   ]
  },
  {
   "cell_type": "markdown",
   "id": "d9553c7d",
   "metadata": {
    "id": "d9553c7d"
   },
   "source": [
    "## Hyperparameter Settings\n",
    "\n",
    "View example default configs on GitHub https://github.com/gretelai/gretel-blueprints/tree/main/config_templates/gretel/synthetics. A few tips:\n",
    "\n",
    "* For larger dataset sizes (50,000-100,000 rows) try setting `vocab_size` to 20,000. This uses a `sentencepiece` tokenizer and will speed up model training and generation. For smaller datasets or if you're seeing high invalid record counts, use `vocab_size` of 0 to tokenize per character."
   ]
  },
  {
   "cell_type": "code",
   "execution_count": 9,
   "id": "18926173",
   "metadata": {
    "id": "18926173"
   },
   "outputs": [],
   "source": [
    "# Fine tune any configuration settings here\n",
    "\n",
    "CONFIG = read_model_config(\"synthetics/default\")\n",
    "CONFIG[\"models\"][0][\"synthetics\"][\"params\"][\"vocab_size\"] = 0\n",
    "CONFIG[\"models\"][0][\"synthetics\"][\"params\"][\"learning_rate\"] = 0.001\n",
    "CONFIG[\"models\"][0][\"synthetics\"][\"privacy_filters\"] = {}\n",
    "CONFIG[\"models\"][0][\"synthetics\"][\"privacy_filters\"][\"outliers\"] = None\n",
    "CONFIG[\"models\"][0][\"synthetics\"][\"privacy_filters\"][\"similarity\"] = None"
   ]
  },
  {
   "cell_type": "code",
   "execution_count": 10,
   "id": "645d2859",
   "metadata": {
    "id": "645d2859"
   },
   "outputs": [
    {
     "data": {
      "image/png": "[encoded data removed]",
      "text/plain": [
       "<Figure size 1800x576 with 1 Axes>"
      ]
     },
     "metadata": {
      "needs_background": "light"
     },
     "output_type": "display_data"
    }
   ],
   "source": [
    "# Initialize the parallelization strategy\n",
    "\n",
    "def initialize_run() -> runner.StrategyRunner:\n",
    "    \n",
    "    # Create clusters of correlated columns (might take a few minutes)\n",
    "    plot = True if len(DF.columns) < 50 else False\n",
    "    header_clusters = cluster(DF, header_prefix=SEED_FIELDS, maxsize=MAX_HEADER_CLUSTERS, plot=plot) \n",
    "\n",
    "    constraints = strategy.PartitionConstraints(\n",
    "        header_clusters=header_clusters, \n",
    "        max_row_count=MAX_ROWS,\n",
    "        seed_headers=SEED_FIELDS\n",
    "    )\n",
    "    \n",
    "    run = runner.StrategyRunner(\n",
    "        strategy_id=\"foo\",\n",
    "        df=DF,\n",
    "        cache_file=CACHE_FILE,\n",
    "        cache_overwrite=True,  # Set to False to load existing cache (and not start over)\n",
    "        model_config=CONFIG,\n",
    "        partition_constraints=constraints,\n",
    "        project=PROJECT\n",
    "    )    \n",
    "    return run\n",
    "\n",
    "run = initialize_run()"
   ]
  },
  {
   "cell_type": "code",
   "execution_count": null,
   "id": "e17f0099",
   "metadata": {
    "id": "e17f0099"
   },
   "outputs": [
    {
     "name": "stderr",
     "output_type": "stream",
     "text": [
      "INFO:trainer.runner:Processing 2 partitions\n",
      "INFO:trainer.runner:Partition 0 is new, starting model creation\n",
      "INFO:trainer.runner:Started model: rambunctious-whimsical-dinasaur source: ['gretel_d988466cb7cc4ee4a59fae10c55c0b3d_foo-0.csv']\n",
      "INFO:trainer.runner:Partition 0 status change from created to pending\n",
      "INFO:trainer.runner:Partition 1 is new, starting model creation\n",
      "INFO:trainer.runner:Started model: astonishing-daffy-dog source: ['gretel_8b83124b08084cc0a9dd2293c869b85d_foo-1.csv']\n",
      "INFO:trainer.runner:Partition 0 status change from pending to active\n",
      "INFO:trainer.runner:Partition 1 status change from created to pending\n",
      "INFO:trainer.runner:Partition 1 status change from pending to active\n"
     ]
    }
   ],
   "source": [
    "# Train all models\n",
    "run.train_all_partitions()"
   ]
  },
  {
   "cell_type": "code",
   "execution_count": null,
   "id": "1e67bc9b",
   "metadata": {
    "id": "1e67bc9b"
   },
   "outputs": [],
   "source": [
    "# Access synthetic data\n",
    "\n",
    "synthetic = run.get_training_synthetic_data()\n",
    "synthetic.to_csv('synthetic.csv', index=False)\n",
    "synthetic"
   ]
  },
  {
   "cell_type": "code",
   "execution_count": null,
   "id": "1460ea07",
   "metadata": {
    "id": "1460ea07"
   },
   "outputs": [],
   "source": [
    "#Uncomment and run these lines to terminate models training in the cloud\n",
    "\n",
    "#run.cancel_all()\n",
    "#PROJECT.delete()"
   ]
  },
  {
   "cell_type": "markdown",
   "id": "45885579",
   "metadata": {
    "id": "45885579"
   },
   "source": [
    "## Plot correlations\n",
    "\n",
    "Use the `_get_correlation_matrix` from `gretel-synthetics` to compare correlations between the real world and synthetic datasets."
   ]
  },
  {
   "cell_type": "code",
   "execution_count": null,
   "id": "8cfae22c",
   "metadata": {
    "id": "8cfae22c"
   },
   "outputs": [],
   "source": [
    "import plotly.express as px\n",
    "import plotly.graph_objects as go\n",
    "from plotly.subplots import make_subplots\n",
    "\n",
    "from gretel_synthetics.utils.header_clusters import _get_correlation_matrix\n",
    "\n",
    "\n",
    "def plot_correlations(real_df: pd.DataFrame, synthetic_df: pd.DataFrame):\n",
    "    s_corr = _get_correlation_matrix(real_df)\n",
    "    r_corr = _get_correlation_matrix(synthetic_df)\n",
    "\n",
    "    fig = make_subplots(rows=1, cols=2, horizontal_spacing=0.2)\n",
    "    fig.update_layout(title_text=\"Real world vs. Synthetic Correlations\")\n",
    "    trace1 = go.Heatmap(z=r_corr, y=r_corr.index, x=r_corr.columns)\n",
    "    trace2 = go.Heatmap(z=s_corr, y=s_corr.index, x=s_corr.columns)\n",
    "    fig.add_trace(trace1, row=1, col=1)\n",
    "    fig.add_trace(trace2, row=1, col=2)\n",
    "    fig.update_traces(showscale=False)\n",
    "    fig.show()\n",
    "\n",
    "plot_correlations(DF, synthetic)"
   ]
  },
  {
   "cell_type": "markdown",
   "id": "b6c1a617",
   "metadata": {
    "id": "38e44df3"
   },
   "source": [
    "# Load and generate data from a Strategy"
   ]
  },
  {
   "cell_type": "code",
   "execution_count": null,
   "id": "cbb19c20",
   "metadata": {},
   "outputs": [],
   "source": [
    "run = runner.StrategyRunner(\n",
    "    strategy_id=\"foo\",\n",
    "    df=None,\n",
    "    cache_file=CACHE_FILE,\n",
    "    cache_overwrite=False,  # Set to False to load existing cache (and not start over)\n",
    "    model_config=None,\n",
    "    partition_constraints=None,\n",
    "    project=PROJECT\n",
    ") "
   ]
  },
  {
   "cell_type": "code",
   "execution_count": null,
   "id": "2f742059",
   "metadata": {},
   "outputs": [],
   "source": [
    "run.generate_data(num_records=500, max_invalid=None)"
   ]
  },
  {
   "cell_type": "code",
   "execution_count": null,
   "id": "106ee521",
   "metadata": {},
   "outputs": [],
   "source": [
    "run.get_synthetic_data()"
   ]
  },
  {
   "cell_type": "code",
   "execution_count": null,
   "id": "2b16d097",
   "metadata": {},
   "outputs": [],
   "source": [
    "# Let's generate a new batch of Synthetic data, but utilize our seed fields\n",
    "\n",
    "# NOTE: Specify the values you want to use as seeds in the *same* order you defined the seed headers\n",
    "\n",
    "seed_df = pd.DataFrame(data=[\n",
    "    [\"black\", \"african\", \"F\"],\n",
    "    [\"black\", \"african\", \"F\"],\n",
    "    [\"black\", \"african\", \"F\"],\n",
    "    [\"black\", \"african\", \"F\"],\n",
    "    [\"asian\", \"chinese\", \"F\"],\n",
    "    [\"asian\", \"chinese\", \"F\"],\n",
    "    [\"asian\", \"chinese\", \"F\"],\n",
    "    [\"asian\", \"chinese\", \"F\"],\n",
    "    [\"asian\", \"chinese\", \"F\"]\n",
    "], columns=[\"RACE\", \"ETHNICITY\", \"GENDER\"])"
   ]
  },
  {
   "cell_type": "code",
   "execution_count": null,
   "id": "d02e81e3",
   "metadata": {},
   "outputs": [],
   "source": [
    "run.generate_data(seed_df=seed_df)"
   ]
  },
  {
   "cell_type": "code",
   "execution_count": null,
   "id": "8d1fe64e",
   "metadata": {},
   "outputs": [],
   "source": [
    "run.get_synthetic_data()"
   ]
  }
 ],
 "metadata": {
  "colab": {
   "collapsed_sections": [],
   "name": "gretel-trainer.ipynb",
   "provenance": []
  },
  "kernelspec": {
   "display_name": "Python 3 (ipykernel)",
   "language": "python",
   "name": "python3"
  },
  "language_info": {
   "codemirror_mode": {
    "name": "ipython",
    "version": 3
   },
   "file_extension": ".py",
   "mimetype": "text/x-python",
   "name": "python",
   "nbconvert_exporter": "python",
   "pygments_lexer": "ipython3",
   "version": "3.8.7"
  }
 },
 "nbformat": 4,
 "nbformat_minor": 5
}
