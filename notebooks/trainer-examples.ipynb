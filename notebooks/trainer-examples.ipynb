{
  "cells": [
    {
      "cell_type": "code",
      "execution_count": null,
      "metadata": {
        "id": "iQs3yTRCCnal"
      },
      "outputs": [],
      "source": [
        "!pip install gretel-trainer"
      ]
    },
    {
      "cell_type": "code",
      "execution_count": null,
      "metadata": {
        "id": "rNI6TSbOCrEo"
      },
      "outputs": [],
      "source": [
        "from gretel_trainer import trainer\n",
        "\n",
        "dataset = \"https://gretel-public-website.s3-us-west-2.amazonaws.com/datasets/USAdultIncome5k.csv\"\n",
        "\n",
        "# Simplest example\n",
        "model = trainer.Trainer()\n",
        "model.train(dataset)\n",
        "df = model.generate()\n",
        "print(df)"
      ]
    },
    {
      "cell_type": "code",
      "execution_count": null,
      "metadata": {},
      "outputs": [],
      "source": [
        "# Or, Specify underlying model and config options.\n",
        "# Valid options are \"GretelLSTM\", \"GretelCTGAN\"\n",
        "\n",
        "model = trainer.Trainer(\n",
        "    model_type=\"GretelCTGAN\",\n",
        "    max_header_clusters=100,\n",
        "    max_rows=50000,\n",
        "    model_params={\"epochs\": 500, \"num_records\":5500},\n",
        ")\n",
        "model.train(dataset)\n",
        "df = model.generate()\n",
        "print(df)"
      ]
    },
    {
      "cell_type": "code",
      "execution_count": null,
      "metadata": {},
      "outputs": [],
      "source": [
        "# Or, load and generate data from an existing model\n",
        "\n",
        "model = trainer.Trainer.load()\n",
        "df = model.generate(num_records=42)\n",
        "print(df)"
      ]
    }
  ],
  "metadata": {
    "colab": {
      "collapsed_sections": [],
      "name": "trainer-examples.ipynb",
      "provenance": []
    },
    "kernelspec": {
      "display_name": "Python 3.8.10 64-bit",
      "language": "python",
      "name": "python3"
    },
    "language_info": {
      "name": "python",
      "version": "3.8.10"
    },
    "vscode": {
      "interpreter": {
        "hash": "916dbcbb3f70747c44a77c7bcd40155683ae19c65e1c03b4aa3499c5328201f1"
      }
    }
  },
  "nbformat": 4,
  "nbformat_minor": 0
}
