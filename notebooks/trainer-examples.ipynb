{
  "nbformat": 4,
  "nbformat_minor": 0,
  "metadata": {
    "colab": {
      "name": "trainer-examples.ipynb",
      "provenance": [],
      "collapsed_sections": []
    },
    "kernelspec": {
      "name": "python3",
      "display_name": "Python 3"
    },
    "language_info": {
      "name": "python"
    }
  },
  "cells": [
    {
      "cell_type": "code",
      "execution_count": null,
      "metadata": {
        "id": "iQs3yTRCCnal"
      },
      "outputs": [],
      "source": [
        "!pip install gretel-trainer"
      ]
    },
    {
      "cell_type": "code",
      "source": [
        "from gretel_trainer import trainer, runner\n",
        "\n",
        "dataset = \"https://gretel-public-website.s3-us-west-2.amazonaws.com/datasets/USAdultIncome5k.csv\"\n",
        "\n",
        "# Simplest example\n",
        "model = trainer.Trainer()\n",
        "model.train(dataset)\n",
        "df = model.generate()\n",
        "\n",
        "# Specify underlying model\n",
        "#model = trainer.Trainer(model_type=\"GretelLSTM\")\n",
        "#model.train(dataset)\n",
        "#df = model.generate()\n",
        "\n",
        "# Update trainer parameters\n",
        "#model = trainer.Trainer(max_header_clusters=20, max_rows=50000)\n",
        "#model.train(dataset)\n",
        "#df = model.generate()\n",
        "\n",
        "# Specify synthetic model and update config params\n",
        "#model = trainer.Trainer(model_type=\"GretelCTGAN\", model_params={'epochs':250})\n",
        "#model.train(dataset)\n",
        "#df = model.generate()\n",
        "\n",
        "# Load and generate data from an existing model\n",
        "#model = trainer.Trainer.load()\n",
        "#df = model.generate(num_records=5000)\n",
        "\n",
        "print(df)"
      ],
      "metadata": {
        "id": "rNI6TSbOCrEo"
      },
      "execution_count": null,
      "outputs": []
    }
  ]
}